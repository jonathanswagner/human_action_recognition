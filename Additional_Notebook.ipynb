{
 "cells": [
  {
   "cell_type": "markdown",
   "metadata": {
    "colab_type": "text",
    "id": "nOKj0mcr9Zib"
   },
   "source": [
    "## CS 5242 Project Bonus, NUS 2020 Semester2\n",
    "\n",
    "**Group Name: Team 2333**\n",
    "\n",
    "**Group members:**\n",
    "- Li Fengzi A0206468Y \n",
    "- Xiuping Hua A0206514N\n",
    "- Shi Haohui A0206537E\n",
    "- Jonathan Simon Wagner A0152784X\n",
    "\n",
    "**Project address: https://www.kaggle.com/c/cs5242project/data**\n",
    "\n",
    "- Data: I3D features, dimension is D=400\n",
    "- Training videos: P16-P54\n",
    "- Test videos: P03-P15\n",
    "- Total 1712 videos\n",
    "- Ground truth: frame-wise sub-action labels for each video. Dim = Ni*1 (total num of frames in video i, including 'SIL') \n",
    "- Splits:4 splits, split1 - test, train on other splits\n",
    "- 48 different sub-actions including SIL (48 classes)\n",
    "- 10 breakfast activities\n",
    "- Each video contain Ni frames, various sub-actions, so various segments, thus various segment labels\n",
    "- data_feat: I3D features for all training videos, dimension = Ni * D, Ni-frames, D=400\n",
    "- data_labels: a list of all training labels, a list variable of length = the number of training segment for this video clip, i.e. segment labels, not the frame labels\n",
    "\n",
    "- load data: template_code.py\n",
    "- **Predict segments using KMeans clustering**"
   ]
  },
  {
   "cell_type": "markdown",
   "metadata": {
    "colab_type": "text",
    "id": "f6jQvbMqCbz1"
   },
   "source": [
    "## 1. Load libraries"
   ]
  },
  {
   "cell_type": "code",
   "execution_count": 0,
   "metadata": {
    "colab": {},
    "colab_type": "code",
    "id": "wsP-M_J2zNPo"
   },
   "outputs": [],
   "source": [
    "%tensorflow_version 1.x\n",
    "import tensorflow"
   ]
  },
  {
   "cell_type": "code",
   "execution_count": 0,
   "metadata": {
    "colab": {},
    "colab_type": "code",
    "id": "dkMstMQ_7d2G"
   },
   "outputs": [],
   "source": [
    "# Load library\n",
    "import numpy as np\n",
    "import pandas as pd\n",
    "import matplotlib.pyplot as plt\n",
    "%matplotlib inline"
   ]
  },
  {
   "cell_type": "code",
   "execution_count": 0,
   "metadata": {
    "colab": {
     "base_uri": "https://localhost:8080/",
     "height": 35
    },
    "colab_type": "code",
    "id": "4le567aOqyS4",
    "outputId": "894e397b-8768-447a-9abc-54830edb1f77"
   },
   "outputs": [
    {
     "name": "stdout",
     "output_type": "stream",
     "text": [
      "Drive already mounted at /content/gdrive; to attempt to forcibly remount, call drive.mount(\"/content/gdrive\", force_remount=True).\n"
     ]
    }
   ],
   "source": [
    "# mounted at google drive\n",
    "from google.colab import drive\n",
    "drive.mount('/content/gdrive')\n",
    "root_dir = \"/content/gdrive/My Drive/\"\n",
    "base_dir = root_dir + 'CS5242'"
   ]
  },
  {
   "cell_type": "code",
   "execution_count": 0,
   "metadata": {
    "colab": {},
    "colab_type": "code",
    "id": "73mGG0K02-UG"
   },
   "outputs": [],
   "source": [
    "# Update path to import from drive\n",
    "import sys\n",
    "sys.path.append('/content/gdrive/My Drive/CS5242')"
   ]
  },
  {
   "cell_type": "markdown",
   "metadata": {
    "colab_type": "text",
    "id": "SjzoiNypCkJi"
   },
   "source": [
    "## 2. Load data"
   ]
  },
  {
   "cell_type": "code",
   "execution_count": 0,
   "metadata": {
    "colab": {
     "base_uri": "https://localhost:8080/",
     "height": 35
    },
    "colab_type": "code",
    "id": "ylwwb-P_vWRQ",
    "outputId": "ea77227f-1b95-4627-b645-057d878d5692"
   },
   "outputs": [
    {
     "name": "stdout",
     "output_type": "stream",
     "text": [
      "Finish Load the Training data and labels!!!\n"
     ]
    }
   ],
   "source": [
    "from read_datasetBreakfast import load_data, read_mapping_dict\n",
    "import os\n",
    "\n",
    "COMP_PATH = 'content/gdrive/My Drive/CS5242/'\n",
    "\n",
    "''' \n",
    "training to load train set\n",
    "test to load test set\n",
    "'''\n",
    "\n",
    "train_split =  os.path.join(base_dir, 'splits/train.split1.bundle') #Train Split\n",
    "test_split  =  os.path.join(base_dir, 'splits/test.split1.bundle') #Test Split\n",
    "GT_folder   =  os.path.join(base_dir, 'groundTruth/groundTruth/') #Ground Truth Labels for each training video \n",
    "DATA_folder =  os.path.join(base_dir, 'data/') #Frame I3D features for all videos\n",
    "mapping_loc =  os.path.join(base_dir, 'splits/mapping_bf.txt')\n",
    "\n",
    "actions_dict = read_mapping_dict(mapping_loc)\n",
    "\n",
    "data_feat, data_labels = load_data( train_split, actions_dict, GT_folder, DATA_folder, datatype = 'training') #Get features and labels\n",
    "data_feat_test = load_data(test_split, actions_dict, GT_folder, DATA_folder, datatype = 'test') #Get features only"
   ]
  },
  {
   "cell_type": "code",
   "execution_count": 0,
   "metadata": {
    "colab": {
     "base_uri": "https://localhost:8080/",
     "height": 35
    },
    "colab_type": "code",
    "id": "VBT09-6R4Uzp",
    "outputId": "6cd7518b-5754-4e6b-bf6a-cade373c33d6"
   },
   "outputs": [
    {
     "name": "stdout",
     "output_type": "stream",
     "text": [
      "Number of training videos: 1460 ; Number of training segment labels:  1460\n"
     ]
    }
   ],
   "source": [
    "print('Number of training videos:', len(data_feat), '; Number of training segment labels: ',len(data_labels))"
   ]
  },
  {
   "cell_type": "code",
   "execution_count": 0,
   "metadata": {
    "colab": {
     "base_uri": "https://localhost:8080/",
     "height": 53
    },
    "colab_type": "code",
    "id": "eE60hveD5HaX",
    "outputId": "e5f8dbf7-55bc-4f22-997e-47d3e4310155"
   },
   "outputs": [
    {
     "name": "stdout",
     "output_type": "stream",
     "text": [
      "I3D feature dimension of the first video:  torch.Size([544, 400])\n",
      "Sub-action segment labels of the first video:  [1, 2]\n"
     ]
    }
   ],
   "source": [
    "# First data_feat shape and number of segment labels\n",
    "print('I3D feature dimension of the first video: ', data_feat[0].shape)\n",
    "print('Sub-action segment labels of the first video: ', data_labels[0])"
   ]
  },
  {
   "cell_type": "markdown",
   "metadata": {
    "colab_type": "text",
    "id": "u36VR1cju9Om"
   },
   "source": [
    "## 3. Predict segments of train data using KMeans clustering and apply max-pooling"
   ]
  },
  {
   "cell_type": "code",
   "execution_count": 0,
   "metadata": {
    "colab": {},
    "colab_type": "code",
    "id": "MS2ZzwI0N-SU"
   },
   "outputs": [],
   "source": [
    "from sklearn.cluster import KMeans\n",
    "\n",
    "data_feat_all = []\n",
    "for i in range(len(data_feat)):\n",
    "  data_feat_frame = []\n",
    "  for frame in data_feat[i]:\n",
    "    data_feat_frame.append(np.array(frame))\n",
    "\n",
    "  df = pd.DataFrame({'features': data_feat_frame})\n",
    "  df = df.rename_axis('index').reset_index()\n",
    "\n",
    "  # Calculate relative time stamp of each frame\n",
    "  df['time_stamp'] = df['index']/df.shape[0]  \n",
    "\n",
    "  # Use KMeans to get segment clusters\n",
    "  # K is decided by number of labels plus 2 (2 is the number of silence segments)\n",
    "  np.random.seed(5242)\n",
    "  kmeans = KMeans(n_clusters=len(data_labels[i])+2, init='k-means++', random_state=5242)\n",
    "  kmeans.fit(np.array(data_feat_frame))\n",
    "\n",
    "  df = pd.concat([df, pd.Series(kmeans.labels_, index = df.index)], axis = 1).rename(columns = {0:'cluster'})\n",
    "\n",
    "  # Calculate the mean time stamp of each cluster\n",
    "  cluster = list(range(len(data_labels[i])+2))\n",
    "  mean_time = [df[df.cluster == i].time_stamp.mean() for i in cluster]\n",
    "  time_order = pd.DataFrame({'cluster':cluster, 'mean_time':mean_time})\n",
    "  time_order = time_order.sort_values(by=['mean_time']).reset_index()\n",
    "\n",
    "  # Cut silence segments\n",
    "  final_cluster = list(time_order.drop(index = [cluster[0],cluster[-1]])['index'])  \n",
    "  \n",
    "  # Feature extraction using max-pooling\n",
    "  data_feat_new = []\n",
    "  for index in final_cluster:\n",
    "    segment = np.array(list(df[df.cluster == index]['features']))\n",
    "    data_feat_new.append(segment.max(axis = 0))\n",
    "\n",
    "  data_feat_all.append(data_feat_new)"
   ]
  },
  {
   "cell_type": "code",
   "execution_count": 0,
   "metadata": {
    "colab": {
     "base_uri": "https://localhost:8080/",
     "height": 35
    },
    "colab_type": "code",
    "id": "1Jad_exBoq5Z",
    "outputId": "b5af1a61-2dc1-4b54-e1b7-d5f1fbb7cc50"
   },
   "outputs": [
    {
     "name": "stdout",
     "output_type": "stream",
     "text": [
      "The max number of segments is : 23\n"
     ]
    }
   ],
   "source": [
    "# Find the max number of segments in one video\n",
    "train_seg = []\n",
    "for k in data_feat_all:\n",
    "  train_seg.append(len(k))\n",
    "print('The max number of segments is :', max(train_seg))"
   ]
  },
  {
   "cell_type": "code",
   "execution_count": 0,
   "metadata": {
    "colab": {},
    "colab_type": "code",
    "id": "m6pxONVhVcRh"
   },
   "outputs": [],
   "source": [
    "# Make each video contain 28 segments through padding\n",
    "from keras.preprocessing import sequence\n",
    "from keras.utils import to_categorical\n",
    "data_feat_pad= sequence.pad_sequences(data_feat_all, maxlen=28, padding='post', truncating='post', value=0.0, dtype='float64')\n",
    "data_labels_pad = sequence.pad_sequences(data_labels, maxlen=28, padding='post', truncating='post', value=0)\n",
    "data_labels_pad = [to_categorical(i, 48) for i in data_labels_pad]\n",
    "data_feat_pad = np.array(data_feat_pad)\n",
    "data_labels_pad = np.array(data_labels_pad)"
   ]
  },
  {
   "cell_type": "code",
   "execution_count": 0,
   "metadata": {
    "colab": {},
    "colab_type": "code",
    "id": "_qvWwt3VjsmY"
   },
   "outputs": [],
   "source": [
    "# Delete data_feat to save ram\n",
    "del data_feat"
   ]
  },
  {
   "cell_type": "markdown",
   "metadata": {
    "colab_type": "text",
    "id": "d7G8tn2cc7Jq"
   },
   "source": [
    "## 4. Prediction of Test dataset and Submission"
   ]
  },
  {
   "cell_type": "code",
   "execution_count": 0,
   "metadata": {
    "colab": {},
    "colab_type": "code",
    "id": "29P4klwt0Pkd"
   },
   "outputs": [],
   "source": [
    "from keras.layers import Dense, Flatten, Dropout, Bidirectional,TimeDistributed, GRU\n",
    "from keras.layers.recurrent import LSTM\n",
    "from keras.models import Sequential, load_model\n",
    "from keras.optimizers import Adam\n",
    "from keras import backend"
   ]
  },
  {
   "cell_type": "markdown",
   "metadata": {
    "colab_type": "text",
    "id": "NxEdm2Llkchv"
   },
   "source": [
    "###4.1 Build and train models"
   ]
  },
  {
   "cell_type": "code",
   "execution_count": 0,
   "metadata": {
    "colab": {
     "base_uri": "https://localhost:8080/",
     "height": 554
    },
    "colab_type": "code",
    "id": "3YtW7UNBhguM",
    "outputId": "8b331727-55a7-45a3-89cb-945a778b7df2"
   },
   "outputs": [
    {
     "name": "stdout",
     "output_type": "stream",
     "text": [
      "Model: \"sequential_5\"\n",
      "_________________________________________________________________\n",
      "Layer (type)                 Output Shape              Param #   \n",
      "=================================================================\n",
      "bidirectional_9 (Bidirection (None, 28, 2048)          8755200   \n",
      "_________________________________________________________________\n",
      "bidirectional_10 (Bidirectio (None, 28, 2048)          18880512  \n",
      "_________________________________________________________________\n",
      "time_distributed_5 (TimeDist (None, 28, 48)            98352     \n",
      "=================================================================\n",
      "Total params: 27,734,064\n",
      "Trainable params: 27,734,064\n",
      "Non-trainable params: 0\n",
      "_________________________________________________________________\n",
      "None\n",
      "Model: \"sequential_6\"\n",
      "_________________________________________________________________\n",
      "Layer (type)                 Output Shape              Param #   \n",
      "=================================================================\n",
      "bidirectional_11 (Bidirectio (None, 28, 1024)          11673600  \n",
      "_________________________________________________________________\n",
      "bidirectional_12 (Bidirectio (None, 28, 1024)          16785408  \n",
      "_________________________________________________________________\n",
      "time_distributed_6 (TimeDist (None, 28, 48)            49200     \n",
      "=================================================================\n",
      "Total params: 28,508,208\n",
      "Trainable params: 28,508,208\n",
      "Non-trainable params: 0\n",
      "_________________________________________________________________\n",
      "None\n"
     ]
    }
   ],
   "source": [
    "# Re-build two models and use the whole dataset to train\n",
    "# Build Bi-Directional GRU model \n",
    "seg_class = 48 \n",
    "bi_gru_model = Sequential()\n",
    "bi_gru_model.add(Bidirectional(GRU(1024, dropout=0.08, return_sequences=True), merge_mode='concat' ,input_shape= data_feat_pad[0].shape))\n",
    "bi_gru_model.add(Bidirectional(GRU(1024, dropout=0.08, return_sequences=True), merge_mode='concat')) \n",
    "bi_gru_model.add(TimeDistributed(Dense(seg_class, activation='softmax'))) \n",
    "bi_gru_model.compile(loss='categorical_crossentropy', optimizer='adam', metrics=['accuracy'])\n",
    "print(bi_gru_model.summary())\n",
    "\n",
    "# Build Bi-Directional LSTM model \n",
    "bi_lstm_model = Sequential()\n",
    "bi_lstm_model.add(Bidirectional(LSTM(1024, dropout=0.08, return_sequences=True), merge_mode='sum', input_shape=data_feat_pad[0].shape)) \n",
    "bi_lstm_model.add(Bidirectional(LSTM(1024, dropout=0.08, return_sequences=True), merge_mode='sum'))\n",
    "bi_lstm_model.add(TimeDistributed(Dense(seg_class, activation='softmax')))\n",
    "bi_lstm_model.compile(loss='categorical_crossentropy', optimizer='adam', metrics=['accuracy'])\n",
    "print(bi_lstm_model.summary())\n"
   ]
  },
  {
   "cell_type": "code",
   "execution_count": 0,
   "metadata": {
    "colab": {
     "base_uri": "https://localhost:8080/",
     "height": 53
    },
    "colab_type": "code",
    "id": "5mDmffrEpxb-",
    "outputId": "a3fafd8d-62ba-4572-bd5b-ed14235a5a8a"
   },
   "outputs": [
    {
     "name": "stderr",
     "output_type": "stream",
     "text": [
      "/usr/local/lib/python3.6/dist-packages/keras/callbacks/callbacks.py:998: UserWarning: `epsilon` argument is deprecated and will be removed, use `min_delta` instead.\n",
      "  warnings.warn('`epsilon` argument is deprecated and '\n"
     ]
    }
   ],
   "source": [
    "#Use early stopping and learning rate adjustment to avoid overfitting\n",
    "from keras.callbacks import EarlyStopping, ModelCheckpoint, ReduceLROnPlateau\n",
    "\n",
    "earlyStopping = EarlyStopping(monitor='loss', patience=10, verbose=0, mode='min')\n",
    "reduce_lr_loss = ReduceLROnPlateau(monitor='loss', factor=0.1, patience=7, verbose=1, epsilon=1e-4, mode='min')"
   ]
  },
  {
   "cell_type": "code",
   "execution_count": 0,
   "metadata": {
    "colab": {
     "base_uri": "https://localhost:8080/",
     "height": 53
    },
    "colab_type": "code",
    "id": "mCTkD4Iwh04q",
    "outputId": "3075a756-292a-4207-92b5-38e9aced1d9e"
   },
   "outputs": [
    {
     "name": "stdout",
     "output_type": "stream",
     "text": [
      "\n",
      "Epoch 00089: ReduceLROnPlateau reducing learning rate to 0.00010000000474974513.\n"
     ]
    }
   ],
   "source": [
    "# Train two models and adjust the number of epochs\n",
    "history_bi_gru = bi_gru_model.fit(data_feat_pad, data_labels_pad, batch_size=400, epochs=200, verbose=0, shuffle=False, callbacks=[earlyStopping, reduce_lr_loss]) "
   ]
  },
  {
   "cell_type": "code",
   "execution_count": 0,
   "metadata": {
    "colab": {
     "base_uri": "https://localhost:8080/",
     "height": 536
    },
    "colab_type": "code",
    "id": "Db8ELe4v96pF",
    "outputId": "45d6b358-9c03-45de-9675-5af1e082838a"
   },
   "outputs": [
    {
     "data": {
      "image/png": "[encoded data removed]",
      "text/plain": [
       "<Figure size 600x600 with 2 Axes>"
      ]
     },
     "metadata": {
      "needs_background": "light",
      "tags": []
     },
     "output_type": "display_data"
    }
   ],
   "source": [
    "# Plot train and valid loss history of Bi-directional GRU model\n",
    "loss_gru = history_bi_gru.history['loss']\n",
    "acc_gru = history_bi_gru.history['accuracy']\n",
    "\n",
    "epoch_number = range(len(acc_gru))\n",
    "plt.figure(figsize=(6, 6), dpi=100)\n",
    "plt.subplot(2,1,1)\n",
    "plt.plot(epoch_number, acc_gru, 'r', label='train acc')\n",
    "plt.title('Bi-directional GRU: Train Accuracy')\n",
    "plt.legend()\n",
    "plt.subplots_adjust(hspace=0.5)\n",
    "plt.subplot(2,1,2)\n",
    "plt.plot(epoch_number, loss_gru, 'r', label='train loss')\n",
    "plt.title('Bi-directional GRU: Train Loss')\n",
    "plt.legend()\n",
    "\n",
    "plt.show()"
   ]
  },
  {
   "cell_type": "code",
   "execution_count": 0,
   "metadata": {
    "colab": {
     "base_uri": "https://localhost:8080/",
     "height": 53
    },
    "colab_type": "code",
    "id": "Tr-_j2nLiHO1",
    "outputId": "0b8f6ec4-f137-497b-c2ad-edc670d67a14"
   },
   "outputs": [
    {
     "name": "stdout",
     "output_type": "stream",
     "text": [
      "\n",
      "Epoch 00065: ReduceLROnPlateau reducing learning rate to 0.00010000000474974513.\n"
     ]
    }
   ],
   "source": [
    "history_bi_lstm = bi_lstm_model.fit(data_feat_pad, data_labels_pad, batch_size=400, epochs=200, verbose=0, shuffle=False, callbacks=[earlyStopping, reduce_lr_loss]) "
   ]
  },
  {
   "cell_type": "code",
   "execution_count": 0,
   "metadata": {
    "colab": {
     "base_uri": "https://localhost:8080/",
     "height": 536
    },
    "colab_type": "code",
    "id": "iCKd_EzzidK9",
    "outputId": "274d98dd-0b92-4bdb-96aa-7fb7bb70fe85"
   },
   "outputs": [
    {
     "data": {
      "image/png": "[encoded data removed]",
      "text/plain": [
       "<Figure size 600x600 with 2 Axes>"
      ]
     },
     "metadata": {
      "needs_background": "light",
      "tags": []
     },
     "output_type": "display_data"
    }
   ],
   "source": [
    "# Plot train and valid loss history of Bi-directional LSTM model\n",
    "loss_lstm = history_bi_lstm.history['loss']\n",
    "acc_lstm = history_bi_lstm.history['accuracy']\n",
    "\n",
    "epoch_number = range(len(acc_lstm))\n",
    "plt.figure(figsize=(6, 6), dpi=100)\n",
    "plt.subplot(2,1,1)\n",
    "plt.plot(epoch_number, acc_gru, 'r', label='train acc')\n",
    "plt.title('Bi-directional LSTM: Train Accuracy')\n",
    "plt.legend()\n",
    "plt.subplots_adjust(hspace=0.5)\n",
    "plt.subplot(2,1,2)\n",
    "plt.plot(epoch_number, loss_gru, 'r', label='train loss')\n",
    "plt.title('Bi-directional LSTM: Train Loss')\n",
    "plt.legend()\n",
    "\n",
    "plt.show()"
   ]
  },
  {
   "cell_type": "markdown",
   "metadata": {
    "colab_type": "text",
    "id": "65uBxG6hkkXQ"
   },
   "source": [
    "###4.2 Pre-processing of Testset"
   ]
  },
  {
   "cell_type": "code",
   "execution_count": 0,
   "metadata": {
    "colab": {
     "base_uri": "https://localhost:8080/",
     "height": 53
    },
    "colab_type": "code",
    "id": "B776Yakqjj-l",
    "outputId": "c8d57945-2dc7-4b48-c0ef-08a5dfde3cee"
   },
   "outputs": [
    {
     "name": "stdout",
     "output_type": "stream",
     "text": [
      "[[30, 150, 428, 575, 705], [38, 199, 378, 775], [385, 599, 1382, 4007, 4123], [54, 229, 514, 754, 1024], [483, 548, 703, 853, 2633, 2960, 3310, 3740, 4110, 4200, 4375]]\n",
      "252\n"
     ]
    }
   ],
   "source": [
    "# Get test segments \n",
    "def data_seg(file_path):\n",
    "  data_segment_list = []\n",
    "  data_segments = [line.split('\\n') for line in file_path.readlines()]\n",
    "  \n",
    "  for i in range(len(data_segments)):\n",
    "    data_segment_list.append(data_segments[i][0])\n",
    "  \n",
    "  data_seg = [segment_line.split(' ') for segment_line in data_segment_list]\n",
    "  return data_seg\n",
    "\n",
    "file_test = open(\"/content/gdrive/My Drive/CS5242/test_segment.txt\", \"r\")\n",
    "test_seg = data_seg(file_test)\n",
    "\n",
    "test_seg_new = []\n",
    "for i in test_seg:\n",
    "  seg = []\n",
    "  for j in i:\n",
    "    seg.append(int(j))\n",
    "  test_seg_new.append(seg)\n",
    "print(test_seg_new[0:5])\n",
    "print(len(test_seg_new))"
   ]
  },
  {
   "cell_type": "code",
   "execution_count": 0,
   "metadata": {
    "colab": {},
    "colab_type": "code",
    "id": "ap9zamIqC1lC"
   },
   "outputs": [],
   "source": [
    "# Test set feature extraction by Max Pooling\n",
    "from read_datasetBreakfast import get_maxpool_lstm_data\n",
    "data_feat_test_max = []\n",
    "for i in range(len(data_feat_test)):\n",
    "  list_data = get_maxpool_lstm_data(data_feat_test[i],test_seg_new[i])\n",
    "  data_feat_test_max.append(list_data)"
   ]
  },
  {
   "cell_type": "code",
   "execution_count": 0,
   "metadata": {
    "colab": {
     "base_uri": "https://localhost:8080/",
     "height": 35
    },
    "colab_type": "code",
    "id": "6Zi5kHbedOob",
    "outputId": "f919e1f5-b03d-4250-fc34-e99cd0005988"
   },
   "outputs": [
    {
     "name": "stdout",
     "output_type": "stream",
     "text": [
      "The max number of test segments is:  16\n"
     ]
    }
   ],
   "source": [
    "# Find the max number of test segments in one video\n",
    "test_seg = []\n",
    "for k in data_feat_test_max:\n",
    "  test_seg.append(len(k))\n",
    "print('The max number of test segments is: ', max(test_seg))"
   ]
  },
  {
   "cell_type": "code",
   "execution_count": 0,
   "metadata": {
    "colab": {},
    "colab_type": "code",
    "id": "KpUwH_qswsRt"
   },
   "outputs": [],
   "source": [
    "# Padding\n",
    "data_feat_test_pad= sequence.pad_sequences(data_feat_test_max, maxlen=28, padding='post', truncating='post', value=0.0, dtype= 'float64')\n",
    "data_feat_test_pad = np.array(data_feat_test_pad)"
   ]
  },
  {
   "cell_type": "markdown",
   "metadata": {
    "colab_type": "text",
    "id": "FCLp6hqokxv1"
   },
   "source": [
    "###4.3 Prediction"
   ]
  },
  {
   "cell_type": "code",
   "execution_count": 0,
   "metadata": {
    "colab": {},
    "colab_type": "code",
    "id": "9dfdXyarlRUb"
   },
   "outputs": [],
   "source": [
    "# Prediction\n",
    "test_pred_bi_gru = bi_gru_model.predict(data_feat_test_pad)\n",
    "test_pred_bi_lstm = bi_lstm_model.predict(data_feat_test_pad)\n",
    "\n",
    "#Ensemble Model\n",
    "test_ensemble = test_pred_bi_gru + test_pred_bi_lstm"
   ]
  },
  {
   "cell_type": "code",
   "execution_count": 0,
   "metadata": {
    "colab": {},
    "colab_type": "code",
    "id": "hBC9g5QCnYz-"
   },
   "outputs": [],
   "source": [
    "# Define get_label function to change probability result into class\n",
    "def get_label(list_1):\n",
    "  list_2 = []\n",
    "  for i in list_1:\n",
    "    for j in i:\n",
    "      x = np.argmax(j)\n",
    "      if x == 0:\n",
    "        continue\n",
    "      else:\n",
    "        list_2.append(x)\n",
    "  return list_2"
   ]
  },
  {
   "cell_type": "code",
   "execution_count": 0,
   "metadata": {
    "colab": {
     "base_uri": "https://localhost:8080/",
     "height": 53
    },
    "colab_type": "code",
    "id": "tDcHAIVLw8TW",
    "outputId": "9a4f8586-240f-462a-eaa6-f61f4eb580b0"
   },
   "outputs": [
    {
     "name": "stdout",
     "output_type": "stream",
     "text": [
      "Bi-directional GRU Model:  1284\n",
      "Bi-directional LSTM Model:  1284\n"
     ]
    }
   ],
   "source": [
    "# Check the length of predicted labels\n",
    "label_test_pred_bi_gru = get_label(test_pred_bi_gru)\n",
    "label_test_pred_bi_lstm = get_label(test_pred_bi_lstm)\n",
    "\n",
    "print('Bi-directional GRU Model: ', len(label_test_pred_bi_gru))\n",
    "print('Bi-directional LSTM Model: ', len(label_test_pred_bi_lstm))\n",
    "\n",
    "label_test_pred_ensemble = get_label(test_ensemble)"
   ]
  },
  {
   "cell_type": "code",
   "execution_count": 0,
   "metadata": {
    "colab": {
     "base_uri": "https://localhost:8080/",
     "height": 408
    },
    "colab_type": "code",
    "id": "EWuTF36FlRmS",
    "outputId": "135c71b7-15fe-486b-c1c1-d5a60f2ef935"
   },
   "outputs": [
    {
     "data": {
      "text/html": [
       "<div>\n",
       "<style scoped>\n",
       "    .dataframe tbody tr th:only-of-type {\n",
       "        vertical-align: middle;\n",
       "    }\n",
       "\n",
       "    .dataframe tbody tr th {\n",
       "        vertical-align: top;\n",
       "    }\n",
       "\n",
       "    .dataframe thead th {\n",
       "        text-align: right;\n",
       "    }\n",
       "</style>\n",
       "<table border=\"1\" class=\"dataframe\">\n",
       "  <thead>\n",
       "    <tr style=\"text-align: right;\">\n",
       "      <th></th>\n",
       "      <th>Id</th>\n",
       "      <th>Category</th>\n",
       "    </tr>\n",
       "  </thead>\n",
       "  <tbody>\n",
       "    <tr>\n",
       "      <th>0</th>\n",
       "      <td>0</td>\n",
       "      <td>2</td>\n",
       "    </tr>\n",
       "    <tr>\n",
       "      <th>1</th>\n",
       "      <td>1</td>\n",
       "      <td>24</td>\n",
       "    </tr>\n",
       "    <tr>\n",
       "      <th>2</th>\n",
       "      <td>2</td>\n",
       "      <td>2</td>\n",
       "    </tr>\n",
       "    <tr>\n",
       "      <th>3</th>\n",
       "      <td>3</td>\n",
       "      <td>25</td>\n",
       "    </tr>\n",
       "    <tr>\n",
       "      <th>4</th>\n",
       "      <td>4</td>\n",
       "      <td>24</td>\n",
       "    </tr>\n",
       "    <tr>\n",
       "      <th>...</th>\n",
       "      <td>...</td>\n",
       "      <td>...</td>\n",
       "    </tr>\n",
       "    <tr>\n",
       "      <th>1279</th>\n",
       "      <td>1279</td>\n",
       "      <td>12</td>\n",
       "    </tr>\n",
       "    <tr>\n",
       "      <th>1280</th>\n",
       "      <td>1280</td>\n",
       "      <td>13</td>\n",
       "    </tr>\n",
       "    <tr>\n",
       "      <th>1281</th>\n",
       "      <td>1281</td>\n",
       "      <td>15</td>\n",
       "    </tr>\n",
       "    <tr>\n",
       "      <th>1282</th>\n",
       "      <td>1282</td>\n",
       "      <td>45</td>\n",
       "    </tr>\n",
       "    <tr>\n",
       "      <th>1283</th>\n",
       "      <td>1283</td>\n",
       "      <td>46</td>\n",
       "    </tr>\n",
       "  </tbody>\n",
       "</table>\n",
       "<p>1284 rows × 2 columns</p>\n",
       "</div>"
      ],
      "text/plain": [
       "        Id  Category\n",
       "0        0         2\n",
       "1        1        24\n",
       "2        2         2\n",
       "3        3        25\n",
       "4        4        24\n",
       "...    ...       ...\n",
       "1279  1279        12\n",
       "1280  1280        13\n",
       "1281  1281        15\n",
       "1282  1282        45\n",
       "1283  1283        46\n",
       "\n",
       "[1284 rows x 2 columns]"
      ]
     },
     "execution_count": 106,
     "metadata": {
      "tags": []
     },
     "output_type": "execute_result"
    }
   ],
   "source": [
    "# Covert predicted labels to csv\n",
    "test_csv = pd.DataFrame(columns=['Category'])\n",
    "test_csv['Category'] = label_test_pred_ensemble\n",
    "test_csv = test_csv.rename_axis('Id').reset_index()\n",
    "test_csv"
   ]
  },
  {
   "cell_type": "code",
   "execution_count": 0,
   "metadata": {
    "colab": {
     "base_uri": "https://localhost:8080/",
     "height": 35
    },
    "colab_type": "code",
    "id": "8Mo29obNyTm5",
    "outputId": "1d320aa3-bf45-446d-c673-97fa91a4b02a"
   },
   "outputs": [
    {
     "name": "stdout",
     "output_type": "stream",
     "text": [
      "Drive already mounted at /content/gdrive/; to attempt to forcibly remount, call drive.mount(\"/content/gdrive/\", force_remount=True).\n"
     ]
    }
   ],
   "source": [
    "from google.colab import drive\n",
    "drive.mount('/content/gdrive/')\n",
    "test_csv.to_csv('cs5242_GP_test_kmeans.csv', index=False)\n",
    "!cp cs5242_GP_test_kmeans.csv \"/content/gdrive/My Drive/\""
   ]
  },
  {
   "cell_type": "markdown",
   "metadata": {
    "colab_type": "text",
    "id": "gmD7_XKr95pG"
   },
   "source": [
    "### Reference:\n",
    "[1] Kukleva A, Kuehne H, Sener F, et al. Unsupervised learning of action classes with continuous temporal embedding[C]//Proceedings of the IEEE Conference on Computer Vision and Pattern Recognition. 2019: 12066-12074."
   ]
  }
 ],
 "metadata": {
  "accelerator": "GPU",
  "colab": {
   "collapsed_sections": [],
   "machine_shape": "hm",
   "name": "Bonus_Notebook.ipynb",
   "provenance": []
  },
  "kernelspec": {
   "display_name": "Python 3",
   "language": "python",
   "name": "python3"
  },
  "language_info": {
   "codemirror_mode": {
    "name": "ipython",
    "version": 3
   },
   "file_extension": ".py",
   "mimetype": "text/x-python",
   "name": "python",
   "nbconvert_exporter": "python",
   "pygments_lexer": "ipython3",
   "version": "3.7.3"
  }
 },
 "nbformat": 4,
 "nbformat_minor": 1
}
