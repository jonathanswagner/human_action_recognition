{
 "cells": [
  {
   "cell_type": "markdown",
   "metadata": {
    "colab_type": "text",
    "id": "nOKj0mcr9Zib"
   },
   "source": [
    "## CS 5242 Project Bonus, NUS 2020 Semester2\n",
    "\n",
    "**Group Name: Team 2333**\n",
    "\n",
    "**Group members:**\n",
    "- Li Fengzi A0206468Y \n",
    "- Xiuping Hua A0206514N\n",
    "- Shi Haohui A0206537E\n",
    "- Jonathan Simon Wagner A0152784X\n",
    "\n",
    "**Project address: https://www.kaggle.com/c/cs5242project/data**\n",
    "\n",
    "- Data: I3D features, dimension is D=400\n",
    "- Training videos: P16-P54\n",
    "- Test videos: P03-P15\n",
    "- Total 1712 videos\n",
    "- Ground truth: frame-wise sub-action labels for each video. Dim = Ni*1 (total num of frames in video i, including 'SIL') \n",
    "- Splits:4 splits, split1 - test, train on other splits\n",
    "- 48 different sub-actions including SIL (48 classes)\n",
    "- 10 breakfast activities\n",
    "- Each video contain Ni frames, various sub-actions, so various segments, thus various segment labels\n",
    "- data_feat: I3D features for all training videos, dimension = Ni * D, Ni-frames, D=400\n",
    "- data_labels: a list of all training labels, a list variable of length = the number of training segment for this video clip, i.e. segment labels, not the frame labels\n",
    "\n",
    "- load data: template_code.py"
   ]
  },
  {
   "cell_type": "markdown",
   "metadata": {
    "colab_type": "text",
    "id": "f6jQvbMqCbz1"
   },
   "source": [
    "### 1. Load libraries"
   ]
  },
  {
   "cell_type": "code",
   "execution_count": 0,
   "metadata": {
    "colab": {
     "base_uri": "https://localhost:8080/",
     "height": 34
    },
    "colab_type": "code",
    "executionInfo": {
     "elapsed": 7971,
     "status": "ok",
     "timestamp": 1586864778531,
     "user": {
      "displayName": "FENGZI LI",
      "photoUrl": "",
      "userId": "16205332635410986772"
     },
     "user_tz": -480
    },
    "id": "UHkEvYRiZocR",
    "outputId": "8729da6a-bab9-4e76-e5a9-9601679a4e1f"
   },
   "outputs": [
    {
     "name": "stdout",
     "output_type": "stream",
     "text": [
      "TensorFlow 1.x selected.\n"
     ]
    }
   ],
   "source": [
    "%tensorflow_version 1.x\n",
    "import tensorflow"
   ]
  },
  {
   "cell_type": "code",
   "execution_count": 0,
   "metadata": {
    "colab": {},
    "colab_type": "code",
    "id": "dkMstMQ_7d2G"
   },
   "outputs": [],
   "source": [
    "# Load library\n",
    "import numpy as np\n",
    "import pandas as pd\n",
    "import matplotlib.pyplot as plt\n",
    "%matplotlib inline"
   ]
  },
  {
   "cell_type": "code",
   "execution_count": 0,
   "metadata": {
    "colab": {
     "base_uri": "https://localhost:8080/",
     "height": 122
    },
    "colab_type": "code",
    "executionInfo": {
     "elapsed": 29735,
     "status": "ok",
     "timestamp": 1586864552523,
     "user": {
      "displayName": "FENGZI LI",
      "photoUrl": "",
      "userId": "16205332635410986772"
     },
     "user_tz": -480
    },
    "id": "4le567aOqyS4",
    "outputId": "5ee7c11e-a731-4d8c-ce22-e0427b3a8d10"
   },
   "outputs": [
    {
     "name": "stdout",
     "output_type": "stream",
     "text": [
      "Go to this URL in a browser: https://accounts.google.com/o/oauth2/auth?client_id=947318989803-6bn6qk8qdgf4n4g3pfee6491hc0brc4i.apps.googleusercontent.com&redirect_uri=urn%3aietf%3awg%3aoauth%3a2.0%3aoob&response_type=code&scope=email%20https%3a%2f%2fwww.googleapis.com%2fauth%2fdocs.test%20https%3a%2f%2fwww.googleapis.com%2fauth%2fdrive%20https%3a%2f%2fwww.googleapis.com%2fauth%2fdrive.photos.readonly%20https%3a%2f%2fwww.googleapis.com%2fauth%2fpeopleapi.readonly\n",
      "\n",
      "Enter your authorization code:\n",
      "··········\n",
      "Mounted at /content/gdrive\n"
     ]
    }
   ],
   "source": [
    "# mounted at google drive\n",
    "from google.colab import drive\n",
    "drive.mount('/content/gdrive')\n",
    "root_dir = \"/content/gdrive/My Drive/\"\n",
    "base_dir = root_dir + 'CS5242'"
   ]
  },
  {
   "cell_type": "code",
   "execution_count": 0,
   "metadata": {
    "colab": {},
    "colab_type": "code",
    "id": "PuW9wNVR21Eq"
   },
   "outputs": [],
   "source": [
    "!cat '/content/gdrive/My Drive/CS5242/read_datasetBreakfast.py'"
   ]
  },
  {
   "cell_type": "code",
   "execution_count": 0,
   "metadata": {
    "colab": {},
    "colab_type": "code",
    "id": "73mGG0K02-UG"
   },
   "outputs": [],
   "source": [
    "# Update path to import from drive\n",
    "import sys\n",
    "sys.path.append('/content/gdrive/My Drive/CS5242')"
   ]
  },
  {
   "cell_type": "markdown",
   "metadata": {
    "colab_type": "text",
    "id": "SjzoiNypCkJi"
   },
   "source": [
    "### 2. Load data"
   ]
  },
  {
   "cell_type": "code",
   "execution_count": 0,
   "metadata": {
    "colab": {
     "base_uri": "https://localhost:8080/",
     "height": 71
    },
    "colab_type": "code",
    "executionInfo": {
     "elapsed": 1658260,
     "status": "ok",
     "timestamp": 1586867336128,
     "user": {
      "displayName": "FENGZI LI",
      "photoUrl": "",
      "userId": "16205332635410986772"
     },
     "user_tz": -480
    },
    "id": "ylwwb-P_vWRQ",
    "outputId": "788c4b89-d7a7-47cb-933d-5870df019412"
   },
   "outputs": [
    {
     "name": "stdout",
     "output_type": "stream",
     "text": [
      "Finish Load the Training data and labels!!!\n"
     ]
    },
    {
     "data": {
      "text/plain": [
       "'\\nWrite Code Below\\nPointers\\nNeed to load the segments.txt file for segments for test videos \\nOutput the CSV in correct format as shown in Evaluation Section\\nId corresponds to the segments in order. \\nExample - 30-150 = Id 0\\n          150-428 = Id 1\\n          428-575 = Id 2\\nCategory is the Class of the Predicted Action\\n'"
      ]
     },
     "execution_count": 7,
     "metadata": {
      "tags": []
     },
     "output_type": "execute_result"
    }
   ],
   "source": [
    "from read_datasetBreakfast import load_data, read_mapping_dict\n",
    "import os\n",
    "\n",
    "COMP_PATH = 'content/gdrive/My Drive/CS5242/'\n",
    "\n",
    "''' \n",
    "training to load train set\n",
    "test to load test set\n",
    "'''\n",
    "\n",
    "train_split =  os.path.join(base_dir, 'splits/train.split1.bundle') #Train Split\n",
    "test_split  =  os.path.join(base_dir, 'splits/test.split1.bundle') #Test Split\n",
    "GT_folder   =  os.path.join(base_dir, 'groundTruth/groundTruth/') #Ground Truth Labels for each training video \n",
    "DATA_folder =  os.path.join(base_dir, 'data/') #Frame I3D features for all videos\n",
    "mapping_loc =  os.path.join(base_dir, 'splits/mapping_bf.txt')\n",
    "\n",
    "actions_dict = read_mapping_dict(mapping_loc)\n",
    "\n",
    "data_feat, data_labels = load_data( train_split, actions_dict, GT_folder, DATA_folder, datatype = 'training') #Get features and labels\n",
    "data_feat_test = load_data( test_split, actions_dict, GT_folder, DATA_folder, datatype = 'test') #Get features only\n",
    "\n",
    "'''\n",
    "Write Code Below\n",
    "Pointers\n",
    "Need to load the segments.txt file for segments for test videos \n",
    "Output the CSV in correct format as shown in Evaluation Section\n",
    "Id corresponds to the segments in order. \n",
    "Example - 30-150 = Id 0\n",
    "          150-428 = Id 1\n",
    "          428-575 = Id 2\n",
    "Category is the Class of the Predicted Action\n",
    "'''"
   ]
  },
  {
   "cell_type": "code",
   "execution_count": 0,
   "metadata": {
    "colab": {
     "base_uri": "https://localhost:8080/",
     "height": 51
    },
    "colab_type": "code",
    "executionInfo": {
     "elapsed": 1609,
     "status": "ok",
     "timestamp": 1586867425490,
     "user": {
      "displayName": "FENGZI LI",
      "photoUrl": "",
      "userId": "16205332635410986772"
     },
     "user_tz": -480
    },
    "id": "VBT09-6R4Uzp",
    "outputId": "2c4a8def-3a9b-4d06-c99b-e358da915cef"
   },
   "outputs": [
    {
     "name": "stdout",
     "output_type": "stream",
     "text": [
      "Number of training videos: 1460 ; Number of training segment labels:  1460\n",
      "Number of test videos:  252\n"
     ]
    }
   ],
   "source": [
    "print('Number of training videos:', len(data_feat), '; Number of training segment labels: ',len(data_labels))\n",
    "print('Number of test videos: ', len(data_feat_test))"
   ]
  },
  {
   "cell_type": "code",
   "execution_count": 0,
   "metadata": {
    "colab": {
     "base_uri": "https://localhost:8080/",
     "height": 51
    },
    "colab_type": "code",
    "executionInfo": {
     "elapsed": 1591,
     "status": "ok",
     "timestamp": 1586867429559,
     "user": {
      "displayName": "FENGZI LI",
      "photoUrl": "",
      "userId": "16205332635410986772"
     },
     "user_tz": -480
    },
    "id": "eE60hveD5HaX",
    "outputId": "360d7c36-083d-4a2b-d5b2-3b2c39017455"
   },
   "outputs": [
    {
     "name": "stdout",
     "output_type": "stream",
     "text": [
      "I3D feature dimension of the first video:  torch.Size([544, 400])\n",
      "Sub-action segment labels of the first video:  [1, 2]\n"
     ]
    }
   ],
   "source": [
    "# First data_feat shape and number of segment labels\n",
    "print('I3D feature dimension of the first video: ', data_feat[0].shape)\n",
    "print('Sub-action segment labels of the first video: ', data_labels[0])"
   ]
  },
  {
   "cell_type": "code",
   "execution_count": 0,
   "metadata": {
    "colab": {
     "base_uri": "https://localhost:8080/",
     "height": 54
    },
    "colab_type": "code",
    "executionInfo": {
     "elapsed": 1551,
     "status": "ok",
     "timestamp": 1586867433990,
     "user": {
      "displayName": "FENGZI LI",
      "photoUrl": "",
      "userId": "16205332635410986772"
     },
     "user_tz": -480
    },
    "id": "7GMuQuGY29gK",
    "outputId": "0df2cf69-a9bc-458e-f1d3-f96d33ccbd6b"
   },
   "outputs": [
    {
     "name": "stdout",
     "output_type": "stream",
     "text": [
      "[[9, 269, 474], [48, 376, 637, 1270, 5506, 6799, 6871], [6, 56, 218, 583, 701, 997, 1106, 1628, 1761, 2067, 2166], [23, 313, 478, 618, 743], [15, 260, 440, 714, 1276, 1340, 1866, 2067, 7475, 7551, 7930]]\n"
     ]
    }
   ],
   "source": [
    "# Convert segment classes into list\n",
    "file_class = open(\"/content/gdrive/My Drive/CS5242/splits/mapping_bf.txt\", \"r\")\n",
    "class_list = [line.split('\\n') for line in file_class.readlines()]\n",
    "\n",
    "file_train = open(\"/content/gdrive/My Drive/CS5242/training_segment.txt\", \"r\")\n",
    "train_segments = [line.split('\\n') for line in file_train.readlines()]\n",
    "\n",
    "train_segment_list = []\n",
    "for i in range(len(train_segments)):\n",
    "  train_segment_list.append(train_segments[i][0])\n",
    "\n",
    "train_seg = [segment_line.split(' ') for segment_line in train_segment_list]\n",
    "\n",
    "# Change the string format into int\n",
    "train_seg_new = []\n",
    "for i in train_seg:\n",
    "  seg = []\n",
    "  for j in i:\n",
    "    seg.append(int(j))\n",
    "  train_seg_new.append(seg)\n",
    "print(train_seg_new[0:5])"
   ]
  },
  {
   "cell_type": "code",
   "execution_count": 0,
   "metadata": {
    "colab": {
     "base_uri": "https://localhost:8080/",
     "height": 34
    },
    "colab_type": "code",
    "executionInfo": {
     "elapsed": 1955,
     "status": "ok",
     "timestamp": 1586867437899,
     "user": {
      "displayName": "FENGZI LI",
      "photoUrl": "",
      "userId": "16205332635410986772"
     },
     "user_tz": -480
    },
    "id": "OlO6Lw0ch1BN",
    "outputId": "9a3058d2-afec-4f90-cd87-20db4c3ce294"
   },
   "outputs": [
    {
     "name": "stdout",
     "output_type": "stream",
     "text": [
      "Number of train videos:  1460 ; Number of segment lists:  1460\n"
     ]
    }
   ],
   "source": [
    "print('Number of train videos: ',len(data_feat), '; Number of segment lists: ', len(train_seg_new))"
   ]
  },
  {
   "cell_type": "markdown",
   "metadata": {
    "colab_type": "text",
    "id": "IhVKH3I8h_NL"
   },
   "source": [
    "### 3. Continous Temporal Embedding"
   ]
  },
  {
   "cell_type": "markdown",
   "metadata": {
    "colab_type": "text",
    "id": "L95OpnPgsrOq"
   },
   "source": [
    "#### 3.1 Get 10 Activity Class"
   ]
  },
  {
   "cell_type": "code",
   "execution_count": 0,
   "metadata": {
    "colab": {
     "base_uri": "https://localhost:8080/",
     "height": 54
    },
    "colab_type": "code",
    "executionInfo": {
     "elapsed": 2076,
     "status": "ok",
     "timestamp": 1586867441312,
     "user": {
      "displayName": "FENGZI LI",
      "photoUrl": "",
      "userId": "16205332635410986772"
     },
     "user_tz": -480
    },
    "id": "OQnl7E6CLMDO",
    "outputId": "8f9fbd83-3dfb-4cfe-9ed4-cb0369369eb6"
   },
   "outputs": [
    {
     "name": "stdout",
     "output_type": "stream",
     "text": [
      "['P16_cam01_P16_cereals.txt', 'P16_cam01_P16_friedegg.txt', 'P16_cam01_P16_juice.txt', 'P16_cam01_P16_milk.txt', 'P16_cam01_P16_pancake.txt', 'P16_cam01_P16_salat.txt', 'P16_cam01_P16_sandwich.txt', 'P16_cam01_P16_tea.txt', 'P16_stereo01_P16_cereals.txt', 'P16_stereo01_P16_coffee.txt', 'P16_stereo01_P16_friedegg.txt', 'P16_stereo01_P16_juice.txt', 'P16_stereo01_P16_milk.txt', 'P16_stereo01_P16_pancake.txt', 'P16_stereo01_P16_salat.txt', 'P16_stereo01_P16_sandwich.txt', 'P16_stereo01_P16_scrambledegg.txt', 'P16_stereo01_P16_tea.txt', 'P16_webcam01_P16_cereals.txt', 'P16_webcam01_P16_friedegg.txt', 'P16_webcam01_P16_juice.txt', 'P16_webcam01_P16_milk.txt', 'P16_webcam01_P16_pancake.txt', 'P16_webcam01_P16_salat.txt', 'P16_webcam01_P16_sandwich.txt', 'P16_webcam01_P16_scrambledegg.txt', 'P16_webcam01_P16_tea.txt', 'P16_webcam02_P16_cereals.txt', 'P16_webcam02_P16_coffee.txt', 'P16_webcam02_P16_friedegg.txt', 'P16_webcam02_P16_juice.txt', 'P16_webcam02_P16_milk.txt', 'P16_webcam02_P16_pancake.txt', 'P16_webcam02_P16_salat.txt', 'P16_webcam02_P16_sandwich.txt', 'P16_webcam02_P16_scrambledegg.txt', 'P16_webcam02_P16_tea.txt', 'P17_cam01_P17_cereals.txt', 'P17_cam01_P17_coffee.txt', 'P17_cam01_P17_friedegg.txt', 'P17_cam01_P17_juice.txt', 'P17_cam01_P17_milk.txt', 'P17_cam01_P17_pancake.txt', 'P17_cam01_P17_salat.txt', 'P17_cam01_P17_sandwich.txt', 'P17_cam01_P17_tea.txt', 'P17_stereo01_P17_cereals.txt', 'P17_stereo01_P17_coffee.txt', 'P17_stereo01_P17_friedegg.txt', 'P17_stereo01_P17_juice.txt', 'P17_stereo01_P17_milk.txt', 'P17_stereo01_P17_pancake.txt', 'P17_stereo01_P17_salat.txt', 'P17_stereo01_P17_tea.txt', 'P17_webcam01_P17_cereals.txt', 'P17_webcam01_P17_coffee.txt', 'P17_webcam01_P17_friedegg.txt', 'P17_webcam01_P17_juice.txt', 'P17_webcam01_P17_milk.txt', 'P17_webcam01_P17_salat.txt', 'P17_webcam01_P17_scrambledegg.txt', 'P17_webcam01_P17_tea.txt', 'P17_webcam02_P17_cereals.txt', 'P17_webcam02_P17_coffee.txt', 'P17_webcam02_P17_friedegg.txt', 'P17_webcam02_P17_juice.txt', 'P17_webcam02_P17_milk.txt', 'P17_webcam02_P17_pancake.txt', 'P17_webcam02_P17_salat.txt', 'P17_webcam02_P17_scrambledegg.txt', 'P17_webcam02_P17_tea.txt', 'P18_cam01_P18_cereals.txt', 'P18_cam01_P18_coffee.txt', 'P18_cam01_P18_friedegg.txt', 'P18_cam01_P18_juice.txt', 'P18_cam01_P18_milk.txt', 'P18_cam01_P18_pancake.txt', 'P18_cam01_P18_sandwich.txt', 'P18_cam01_P18_scrambledegg.txt', 'P18_cam01_P18_tea.txt', 'P18_stereo01_P18_cereals.txt', 'P18_stereo01_P18_coffee.txt', 'P18_stereo01_P18_milk.txt', 'P18_stereo01_P18_tea.txt', 'P18_webcam01_P18_cereals.txt', 'P18_webcam01_P18_coffee.txt', 'P18_webcam01_P18_friedegg.txt', 'P18_webcam01_P18_juice.txt', 'P18_webcam01_P18_milk.txt', 'P18_webcam01_P18_pancake.txt', 'P18_webcam01_P18_salat.txt', 'P18_webcam01_P18_sandwich.txt', 'P18_webcam01_P18_scrambledegg.txt', 'P18_webcam01_P18_tea.txt', 'P18_webcam02_P18_cereals.txt', 'P18_webcam02_P18_coffee.txt', 'P18_webcam02_P18_friedegg.txt', 'P18_webcam02_P18_juice.txt', 'P18_webcam02_P18_milk.txt', 'P18_webcam02_P18_pancake.txt', 'P18_webcam02_P18_salat.txt', 'P18_webcam02_P18_sandwich.txt', 'P18_webcam02_P18_scrambledegg.txt', 'P18_webcam02_P18_tea.txt', 'P19_cam01_P19_cereals.txt', 'P19_cam01_P19_coffee.txt', 'P19_cam01_P19_friedegg.txt', 'P19_cam01_P19_juice.txt', 'P19_cam01_P19_milk.txt', 'P19_cam01_P19_pancake.txt', 'P19_cam01_P19_salat.txt', 'P19_cam01_P19_sandwich.txt', 'P19_cam01_P19_tea.txt', 'P19_stereo01_P19_cereals.txt', 'P19_stereo01_P19_milk.txt', 'P19_stereo01_P19_sandwich.txt', 'P19_stereo01_P19_tea.txt', 'P19_webcam01_P19_cereals.txt', 'P19_webcam01_P19_coffee.txt', 'P19_webcam01_P19_friedegg.txt', 'P19_webcam01_P19_juice.txt', 'P19_webcam01_P19_milk.txt', 'P19_webcam01_P19_pancake.txt', 'P19_webcam01_P19_salat.txt', 'P19_webcam01_P19_sandwich.txt', 'P19_webcam01_P19_scrambledegg.txt', 'P19_webcam01_P19_tea.txt', 'P19_webcam02_P19_cereals.txt', 'P19_webcam02_P19_friedegg.txt', 'P19_webcam02_P19_juice.txt', 'P19_webcam02_P19_milk.txt', 'P19_webcam02_P19_pancake.txt', 'P19_webcam02_P19_salat.txt', 'P19_webcam02_P19_sandwich.txt', 'P19_webcam02_P19_scrambledegg.txt', 'P19_webcam02_P19_tea.txt', 'P20_cam01_P20_cereals.txt', 'P20_cam01_P20_coffee.txt', 'P20_cam01_P20_friedegg.txt', 'P20_cam01_P20_juice.txt', 'P20_cam01_P20_milk.txt', 'P20_cam01_P20_salat.txt', 'P20_cam01_P20_sandwich.txt', 'P20_cam01_P20_scrambledegg.txt', 'P20_cam01_P20_tea.txt', 'P20_cam02_P20_cereals.txt', 'P20_cam02_P20_coffee.txt', 'P20_cam02_P20_milk.txt', 'P20_cam02_P20_tea.txt', 'P20_stereo01_P20_cereals.txt', 'P20_stereo01_P20_coffee.txt', 'P20_stereo01_P20_juice.txt', 'P20_stereo01_P20_milk.txt', 'P20_stereo01_P20_pancake.txt', 'P20_stereo01_P20_scrambledegg.txt', 'P20_stereo01_P20_tea.txt', 'P20_webcam01_P20_cereals.txt', 'P20_webcam01_P20_coffee.txt', 'P20_webcam01_P20_friedegg.txt', 'P20_webcam01_P20_juice.txt', 'P20_webcam01_P20_milk.txt', 'P20_webcam01_P20_pancake.txt', 'P20_webcam01_P20_salat.txt', 'P20_webcam01_P20_sandwich.txt', 'P20_webcam01_P20_scrambledegg.txt', 'P20_webcam01_P20_tea.txt', 'P20_webcam02_P20_coffee.txt', 'P20_webcam02_P20_friedegg.txt', 'P20_webcam02_P20_juice.txt', 'P20_webcam02_P20_milk.txt', 'P20_webcam02_P20_pancake.txt', 'P20_webcam02_P20_salat.txt', 'P20_webcam02_P20_sandwich.txt', 'P20_webcam02_P20_scrambledegg.txt', 'P20_webcam02_P20_tea.txt', 'P21_cam01_P21_cereals.txt', 'P21_cam01_P21_coffee.txt', 'P21_cam01_P21_friedegg.txt', 'P21_cam01_P21_juice.txt', 'P21_cam01_P21_milk.txt', 'P21_cam01_P21_pancake.txt', 'P21_cam01_P21_salat.txt', 'P21_cam01_P21_sandwich.txt', 'P21_cam01_P21_scrambledegg.txt', 'P21_cam01_P21_tea.txt', 'P21_cam02_P21_cereals.txt', 'P21_cam02_P21_coffee.txt', 'P21_cam02_P21_friedegg.txt', 'P21_cam02_P21_milk.txt', 'P21_cam02_P21_tea.txt', 'P21_stereo01_P21_coffee.txt', 'P21_stereo01_P21_friedegg.txt', 'P21_stereo01_P21_milk.txt', 'P21_stereo01_P21_sandwich.txt', 'P21_stereo01_P21_tea.txt', 'P21_webcam01_P21_cereals.txt', 'P21_webcam01_P21_coffee.txt', 'P21_webcam01_P21_friedegg.txt', 'P21_webcam01_P21_juice.txt', 'P21_webcam01_P21_milk.txt', 'P21_webcam01_P21_pancake.txt', 'P21_webcam01_P21_salat.txt', 'P21_webcam01_P21_sandwich.txt', 'P21_webcam01_P21_scrambledegg.txt', 'P21_webcam01_P21_tea.txt', 'P21_webcam02_P21_cereals.txt', 'P21_webcam02_P21_coffee.txt', 'P21_webcam02_P21_friedegg.txt', 'P21_webcam02_P21_juice.txt', 'P21_webcam02_P21_milk.txt', 'P21_webcam02_P21_pancake.txt', 'P21_webcam02_P21_salat.txt', 'P21_webcam02_P21_sandwich.txt', 'P21_webcam02_P21_scrambledegg.txt', 'P21_webcam02_P21_tea.txt', 'P22_cam01_P22_cereals.txt', 'P22_cam01_P22_coffee.txt', 'P22_cam01_P22_friedegg.txt', 'P22_cam01_P22_juice.txt', 'P22_cam01_P22_milk.txt', 'P22_cam01_P22_pancake.txt', 'P22_cam01_P22_salat.txt', 'P22_cam01_P22_sandwich.txt', 'P22_cam01_P22_scrambledegg.txt', 'P22_cam01_P22_tea.txt', 'P22_cam02_P22_cereals.txt', 'P22_cam02_P22_coffee.txt', 'P22_cam02_P22_friedegg.txt', 'P22_cam02_P22_juice.txt', 'P22_cam02_P22_milk.txt', 'P22_cam02_P22_scrambledegg.txt', 'P22_cam02_P22_tea.txt', 'P22_stereo01_P22_cereals.txt', 'P22_stereo01_P22_coffee.txt', 'P22_stereo01_P22_friedegg.txt', 'P22_stereo01_P22_milk.txt', 'P22_stereo01_P22_tea.txt', 'P22_webcam01_P22_cereals.txt', 'P22_webcam01_P22_coffee.txt', 'P22_webcam01_P22_juice.txt', 'P22_webcam01_P22_milk.txt', 'P22_webcam01_P22_pancake.txt', 'P22_webcam01_P22_salat.txt', 'P22_webcam01_P22_sandwich.txt', 'P22_webcam01_P22_scrambledegg.txt', 'P22_webcam01_P22_tea.txt', 'P22_webcam02_P22_cereals.txt', 'P22_webcam02_P22_coffee.txt', 'P22_webcam02_P22_friedegg.txt', 'P22_webcam02_P22_juice.txt', 'P22_webcam02_P22_milk.txt', 'P22_webcam02_P22_pancake.txt', 'P22_webcam02_P22_salat.txt', 'P22_webcam02_P22_sandwich.txt', 'P22_webcam02_P22_scrambledegg.txt', 'P22_webcam02_P22_tea.txt', 'P23_cam01_P23_cereals.txt', 'P23_cam01_P23_coffee.txt', 'P23_cam01_P23_juice.txt', 'P23_cam01_P23_milk.txt', 'P23_cam01_P23_pancake.txt', 'P23_cam01_P23_salat.txt', 'P23_cam01_P23_sandwich.txt', 'P23_cam01_P23_tea.txt', 'P23_cam02_P23_cereals.txt', 'P23_cam02_P23_coffee.txt', 'P23_cam02_P23_friedegg.txt', 'P23_cam02_P23_juice.txt', 'P23_cam02_P23_milk.txt', 'P23_cam02_P23_pancake.txt', 'P23_cam02_P23_sandwich.txt', 'P23_cam02_P23_scrambledegg.txt', 'P23_cam02_P23_tea.txt', 'P23_stereo01_P23_cereals.txt', 'P23_stereo01_P23_coffee.txt', 'P23_stereo01_P23_friedegg.txt', 'P23_stereo01_P23_juice.txt', 'P23_stereo01_P23_milk.txt', 'P23_stereo01_P23_sandwich.txt', 'P23_stereo01_P23_tea.txt', 'P23_webcam01_P23_cereals.txt', 'P23_webcam01_P23_coffee.txt', 'P23_webcam01_P23_friedegg.txt', 'P23_webcam01_P23_juice.txt', 'P23_webcam01_P23_milk.txt', 'P23_webcam01_P23_pancake.txt', 'P23_webcam01_P23_salat.txt', 'P23_webcam01_P23_sandwich.txt', 'P23_webcam01_P23_scrambledegg.txt', 'P23_webcam01_P23_tea.txt', 'P23_webcam02_P23_cereals.txt', 'P23_webcam02_P23_coffee.txt', 'P23_webcam02_P23_friedegg.txt', 'P23_webcam02_P23_juice.txt', 'P23_webcam02_P23_milk.txt', 'P23_webcam02_P23_pancake.txt', 'P23_webcam02_P23_salat.txt', 'P23_webcam02_P23_sandwich.txt', 'P23_webcam02_P23_scrambledegg.txt', 'P23_webcam02_P23_tea.txt', 'P24_cam01_P24_cereals.txt', 'P24_cam01_P24_coffee.txt', 'P24_cam01_P24_friedegg.txt', 'P24_cam01_P24_juice.txt', 'P24_cam01_P24_milk.txt', 'P24_cam01_P24_pancake.txt', 'P24_cam01_P24_salat.txt', 'P24_cam01_P24_sandwich.txt', 'P24_cam01_P24_scrambledegg.txt', 'P24_cam01_P24_tea.txt', 'P24_cam02_P24_cereals.txt', 'P24_cam02_P24_coffee.txt', 'P24_cam02_P24_friedegg.txt', 'P24_cam02_P24_juice.txt', 'P24_cam02_P24_milk.txt', 'P24_cam02_P24_pancake.txt', 'P24_cam02_P24_salat.txt', 'P24_cam02_P24_sandwich.txt', 'P24_stereo01_P24_coffee.txt', 'P24_stereo01_P24_friedegg.txt', 'P24_stereo01_P24_salat.txt', 'P24_stereo01_P24_sandwich.txt', 'P24_webcam01_P24_cereals.txt', 'P24_webcam01_P24_coffee.txt', 'P24_webcam01_P24_friedegg.txt', 'P24_webcam01_P24_juice.txt', 'P24_webcam01_P24_milk.txt', 'P24_webcam01_P24_pancake.txt', 'P24_webcam01_P24_salat.txt', 'P24_webcam01_P24_sandwich.txt', 'P24_webcam01_P24_scrambledegg.txt', 'P24_webcam01_P24_tea.txt', 'P24_webcam02_P24_cereals.txt', 'P24_webcam02_P24_coffee.txt', 'P24_webcam02_P24_friedegg.txt', 'P24_webcam02_P24_juice.txt', 'P24_webcam02_P24_milk.txt', 'P24_webcam02_P24_pancake.txt', 'P24_webcam02_P24_salat.txt', 'P24_webcam02_P24_sandwich.txt', 'P24_webcam02_P24_scrambledegg.txt', 'P24_webcam02_P24_tea.txt', 'P25_cam01_P25_cereals.txt', 'P25_cam01_P25_coffee.txt', 'P25_cam01_P25_friedegg.txt', 'P25_cam01_P25_juice.txt', 'P25_cam01_P25_milk.txt', 'P25_cam01_P25_salat.txt', 'P25_cam01_P25_sandwich.txt', 'P25_cam01_P25_scrambledegg.txt', 'P25_cam01_P25_tea.txt', 'P25_cam02_P25_cereals.txt', 'P25_cam02_P25_coffee.txt', 'P25_cam02_P25_friedegg.txt', 'P25_cam02_P25_juice.txt', 'P25_cam02_P25_milk.txt', 'P25_cam02_P25_pancake.txt', 'P25_cam02_P25_salat.txt', 'P25_cam02_P25_sandwich.txt', 'P25_cam02_P25_scrambledegg.txt', 'P25_cam02_P25_tea.txt', 'P25_stereo01_P25_juice.txt', 'P25_stereo01_P25_salat.txt', 'P25_stereo01_P25_sandwich.txt', 'P25_stereo01_P25_tea.txt', 'P25_webcam02_P25_cereals.txt', 'P25_webcam02_P25_coffee.txt', 'P25_webcam02_P25_friedegg.txt', 'P25_webcam02_P25_juice.txt', 'P25_webcam02_P25_milk.txt', 'P25_webcam02_P25_pancake.txt', 'P25_webcam02_P25_salat.txt', 'P25_webcam02_P25_sandwich.txt', 'P25_webcam02_P25_scrambledegg.txt', 'P25_webcam02_P25_tea.txt', 'P26_cam01_P26_cereals.txt', 'P26_cam01_P26_coffee.txt', 'P26_cam01_P26_juice.txt', 'P26_cam01_P26_milk.txt', 'P26_cam01_P26_pancake.txt', 'P26_cam01_P26_salat.txt', 'P26_cam01_P26_sandwich.txt', 'P26_cam01_P26_scrambledegg.txt', 'P26_cam02_P26_cereals.txt', 'P26_cam02_P26_coffee.txt', 'P26_cam02_P26_friedegg.txt', 'P26_cam02_P26_juice.txt', 'P26_cam02_P26_milk.txt', 'P26_cam02_P26_pancake.txt', 'P26_cam02_P26_salat.txt', 'P26_cam02_P26_sandwich.txt', 'P26_cam02_P26_scrambledegg.txt', 'P26_stereo01_P26_cereals.txt', 'P26_stereo01_P26_coffee.txt', 'P26_stereo01_P26_juice.txt', 'P26_stereo01_P26_pancake.txt', 'P26_webcam02_P26_cereals.txt', 'P26_webcam02_P26_coffee.txt', 'P26_webcam02_P26_friedegg.txt', 'P26_webcam02_P26_juice.txt', 'P26_webcam02_P26_milk.txt', 'P26_webcam02_P26_pancake.txt', 'P26_webcam02_P26_salat.txt', 'P26_webcam02_P26_sandwich.txt', 'P26_webcam02_P26_scrambledegg.txt', 'P26_webcam02_P26_tea.txt', 'P27_cam01_P27_cereals.txt', 'P27_cam01_P27_coffee.txt', 'P27_cam01_P27_friedegg.txt', 'P27_cam01_P27_juice.txt', 'P27_cam01_P27_milk.txt', 'P27_cam01_P27_pancake.txt', 'P27_cam01_P27_salat.txt', 'P27_cam01_P27_sandwich.txt', 'P27_cam01_P27_scrambledegg.txt', 'P27_cam01_P27_tea.txt', 'P27_cam02_P27_cereals.txt', 'P27_cam02_P27_coffee.txt', 'P27_cam02_P27_friedegg.txt', 'P27_cam02_P27_juice.txt', 'P27_cam02_P27_milk.txt', 'P27_cam02_P27_pancake.txt', 'P27_cam02_P27_salat.txt', 'P27_cam02_P27_sandwich.txt', 'P27_cam02_P27_scrambledegg.txt', 'P27_cam02_P27_tea.txt', 'P27_stereo01_P27_coffee.txt', 'P27_stereo01_P27_friedegg.txt', 'P27_stereo01_P27_milk.txt', 'P27_stereo01_P27_pancake.txt', 'P27_stereo01_P27_scrambledegg.txt', 'P27_webcam02_P27_cereals.txt', 'P27_webcam02_P27_coffee.txt', 'P27_webcam02_P27_friedegg.txt', 'P27_webcam02_P27_juice.txt', 'P27_webcam02_P27_milk.txt', 'P27_webcam02_P27_pancake.txt', 'P27_webcam02_P27_salat.txt', 'P27_webcam02_P27_sandwich.txt', 'P27_webcam02_P27_scrambledegg.txt', 'P27_webcam02_P27_tea.txt', 'P28_cam01_P28_cereals.txt', 'P28_cam01_P28_juice.txt', 'P28_cam01_P28_salat.txt', 'P28_cam01_P28_sandwich.txt', 'P28_cam02_P28_cereals.txt', 'P28_cam02_P28_juice.txt', 'P28_cam02_P28_salat.txt', 'P28_cam02_P28_sandwich.txt', 'P28_stereo01_P28_cereals.txt', 'P28_stereo01_P28_salat.txt', 'P29_cam01_P29_cereals.txt', 'P29_cam01_P29_coffee.txt', 'P29_cam01_P29_friedegg.txt', 'P29_cam01_P29_juice.txt', 'P29_cam01_P29_milk.txt', 'P29_cam01_P29_pancake.txt', 'P29_cam01_P29_salat.txt', 'P29_cam01_P29_sandwich.txt', 'P29_cam01_P29_scrambledegg.txt', 'P29_cam01_P29_tea.txt', 'P29_cam02_P29_cereals.txt', 'P29_cam02_P29_coffee.txt', 'P29_cam02_P29_friedegg.txt', 'P29_cam02_P29_juice.txt', 'P29_cam02_P29_milk.txt', 'P29_cam02_P29_pancake.txt', 'P29_cam02_P29_salat.txt', 'P29_cam02_P29_sandwich.txt', 'P29_cam02_P29_scrambledegg.txt', 'P29_cam02_P29_tea.txt', 'P29_stereo01_P29_coffee.txt', 'P29_stereo01_P29_pancake.txt', 'P29_stereo01_P29_sandwich.txt', 'P29_stereo01_P29_scrambledegg.txt', 'P29_stereo01_P29_tea.txt', 'P30_cam01_P30_coffee.txt', 'P30_cam01_P30_juice.txt', 'P30_cam01_P30_milk.txt', 'P30_cam01_P30_pancake.txt', 'P30_cam01_P30_salat.txt', 'P30_cam01_P30_scrambledegg.txt', 'P30_cam01_P30_tea.txt', 'P30_cam02_P30_cereals.txt', 'P30_cam02_P30_coffee.txt', 'P30_cam02_P30_friedegg.txt', 'P30_cam02_P30_juice.txt', 'P30_cam02_P30_milk.txt', 'P30_cam02_P30_pancake.txt', 'P30_cam02_P30_salat.txt', 'P30_cam02_P30_sandwich.txt', 'P30_cam02_P30_scrambledegg.txt', 'P30_cam02_P30_tea.txt', 'P30_stereo01_P30_coffee.txt', 'P30_stereo01_P30_friedegg.txt', 'P30_stereo01_P30_milk.txt', 'P30_stereo01_P30_sandwich.txt', 'P30_stereo01_P30_scrambledegg.txt', 'P30_stereo01_P30_tea.txt', 'P31_cam01_P31_cereals.txt', 'P31_cam01_P31_coffee.txt', 'P31_cam01_P31_friedegg.txt', 'P31_cam01_P31_juice.txt', 'P31_cam01_P31_milk.txt', 'P31_cam01_P31_pancake.txt', 'P31_cam01_P31_salat.txt', 'P31_cam01_P31_sandwich.txt', 'P31_cam01_P31_scrambledegg.txt', 'P31_cam01_P31_tea.txt', 'P31_cam02_P31_cereals.txt', 'P31_cam02_P31_coffee.txt', 'P31_cam02_P31_friedegg.txt', 'P31_cam02_P31_juice.txt', 'P31_cam02_P31_milk.txt', 'P31_cam02_P31_pancake.txt', 'P31_cam02_P31_salat.txt', 'P31_cam02_P31_sandwich.txt', 'P31_cam02_P31_scrambledegg.txt', 'P31_cam02_P31_tea.txt', 'P31_stereo01_P31_coffee.txt', 'P31_stereo01_P31_milk.txt', 'P31_stereo01_P31_tea.txt', 'P32_cam01_P32_cereals.txt', 'P32_cam01_P32_coffee.txt', 'P32_cam01_P32_friedegg.txt', 'P32_cam01_P32_juice.txt', 'P32_cam01_P32_milk.txt', 'P32_cam01_P32_pancake.txt', 'P32_cam01_P32_salat.txt', 'P32_cam01_P32_sandwich.txt', 'P32_cam01_P32_scrambledegg.txt', 'P32_cam01_P32_tea.txt', 'P32_cam02_P32_cereals.txt', 'P32_cam02_P32_coffee.txt', 'P32_cam02_P32_friedegg.txt', 'P32_cam02_P32_juice.txt', 'P32_cam02_P32_milk.txt', 'P32_cam02_P32_pancake.txt', 'P32_cam02_P32_salat.txt', 'P32_cam02_P32_sandwich.txt', 'P32_cam02_P32_scrambledegg.txt', 'P32_cam02_P32_tea.txt', 'P32_stereo01_P32_cereals.txt', 'P32_stereo01_P32_coffee.txt', 'P32_stereo01_P32_milk.txt', 'P32_stereo01_P32_sandwich.txt', 'P32_stereo01_P32_tea.txt', 'P33_cam01_P33_cereals.txt', 'P33_cam01_P33_coffee.txt', 'P33_cam01_P33_friedegg.txt', 'P33_cam01_P33_juice.txt', 'P33_cam01_P33_milk.txt', 'P33_cam01_P33_pancake.txt', 'P33_cam01_P33_salat.txt', 'P33_cam01_P33_sandwich.txt', 'P33_cam01_P33_scrambledegg.txt', 'P33_cam01_P33_tea.txt', 'P33_cam02_P33_cereals.txt', 'P33_cam02_P33_coffee.txt', 'P33_cam02_P33_friedegg.txt', 'P33_cam02_P33_juice.txt', 'P33_cam02_P33_milk.txt', 'P33_cam02_P33_pancake.txt', 'P33_cam02_P33_salat.txt', 'P33_cam02_P33_sandwich.txt', 'P33_cam02_P33_scrambledegg.txt', 'P33_cam02_P33_tea.txt', 'P33_stereo01_P33_cereals.txt', 'P33_stereo01_P33_milk.txt', 'P33_stereo01_P33_sandwich.txt', 'P33_stereo01_P33_tea.txt', 'P34_cam01_P34_cereals.txt', 'P34_cam01_P34_coffee.txt', 'P34_cam01_P34_friedegg.txt', 'P34_cam01_P34_juice.txt', 'P34_cam01_P34_milk.txt', 'P34_cam01_P34_sandwich.txt', 'P34_cam01_P34_scrambledegg.txt', 'P34_cam01_P34_tea.txt', 'P34_cam02_P34_friedegg.txt', 'P34_stereo01_P34_cereals.txt', 'P34_stereo01_P34_friedegg.txt', 'P34_stereo01_P34_juice.txt', 'P34_stereo01_P34_milk.txt', 'P34_stereo01_P34_salat.txt', 'P34_stereo01_P34_sandwich.txt', 'P34_stereo01_P34_scrambledegg.txt', 'P34_stereo01_P34_tea.txt', 'P34_webcam02_P34_cereals.txt', 'P34_webcam02_P34_coffee.txt', 'P34_webcam02_P34_juice.txt', 'P34_webcam02_P34_milk.txt', 'P34_webcam02_P34_salat.txt', 'P34_webcam02_P34_sandwich.txt', 'P34_webcam02_P34_scrambledegg.txt', 'P34_webcam02_P34_tea.txt', 'P35_cam01_P35_cereals.txt', 'P35_cam01_P35_coffee.txt', 'P35_cam01_P35_friedegg.txt', 'P35_cam01_P35_juice.txt', 'P35_cam01_P35_milk.txt', 'P35_cam01_P35_pancake.txt', 'P35_cam01_P35_salat.txt', 'P35_cam01_P35_sandwich.txt', 'P35_cam01_P35_scrambledegg.txt', 'P35_cam01_P35_tea.txt', 'P35_cam02_P35_cereals.txt', 'P35_cam02_P35_coffee.txt', 'P35_cam02_P35_tea.txt', 'P35_stereo01_P35_cereals.txt', 'P35_stereo01_P35_coffee.txt', 'P35_stereo01_P35_friedegg.txt', 'P35_stereo01_P35_juice.txt', 'P35_stereo01_P35_milk.txt', 'P35_stereo01_P35_salat.txt', 'P35_stereo01_P35_sandwich.txt', 'P35_stereo01_P35_scrambledegg.txt', 'P35_stereo01_P35_tea.txt', 'P35_webcam02_P35_cereals.txt', 'P35_webcam02_P35_coffee.txt', 'P35_webcam02_P35_friedegg.txt', 'P35_webcam02_P35_juice.txt', 'P35_webcam02_P35_milk.txt', 'P35_webcam02_P35_pancake.txt', 'P35_webcam02_P35_salat.txt', 'P35_webcam02_P35_sandwich.txt', 'P35_webcam02_P35_scrambledegg.txt', 'P35_webcam02_P35_tea.txt', 'P36_cam01_P36_cereals.txt', 'P36_cam01_P36_friedegg.txt', 'P36_cam01_P36_juice.txt', 'P36_cam01_P36_milk.txt', 'P36_cam01_P36_pancake.txt', 'P36_cam01_P36_salat.txt', 'P36_cam01_P36_sandwich.txt', 'P36_cam01_P36_scrambledegg.txt', 'P36_cam01_P36_tea.txt', 'P36_stereo01_P36_cereals.txt', 'P36_stereo01_P36_coffee.txt', 'P36_stereo01_P36_friedegg.txt', 'P36_stereo01_P36_juice.txt', 'P36_stereo01_P36_milk.txt', 'P36_stereo01_P36_pancake.txt', 'P36_stereo01_P36_salat.txt', 'P36_stereo01_P36_sandwich.txt', 'P36_stereo01_P36_scrambledegg.txt', 'P36_stereo01_P36_tea.txt', 'P36_webcam01_P36_cereals.txt', 'P36_webcam01_P36_friedegg.txt', 'P36_webcam01_P36_juice.txt', 'P36_webcam01_P36_milk.txt', 'P36_webcam01_P36_pancake.txt', 'P36_webcam01_P36_salat.txt', 'P36_webcam01_P36_sandwich.txt', 'P36_webcam01_P36_scrambledegg.txt', 'P36_webcam01_P36_tea.txt', 'P36_webcam02_P36_cereals.txt', 'P36_webcam02_P36_friedegg.txt', 'P36_webcam02_P36_juice.txt', 'P36_webcam02_P36_milk.txt', 'P36_webcam02_P36_pancake.txt', 'P36_webcam02_P36_salat.txt', 'P36_webcam02_P36_sandwich.txt', 'P36_webcam02_P36_scrambledegg.txt', 'P36_webcam02_P36_tea.txt', 'P37_cam01_P37_cereals.txt', 'P37_cam01_P37_coffee.txt', 'P37_cam01_P37_friedegg.txt', 'P37_cam01_P37_juice.txt', 'P37_cam01_P37_milk.txt', 'P37_cam01_P37_pancake.txt', 'P37_cam01_P37_salat.txt', 'P37_cam01_P37_sandwich.txt', 'P37_cam01_P37_scrambledegg.txt', 'P37_cam01_P37_tea.txt', 'P37_stereo01_P37_cereals.txt', 'P37_stereo01_P37_coffee.txt', 'P37_stereo01_P37_friedegg.txt', 'P37_stereo01_P37_juice.txt', 'P37_stereo01_P37_milk.txt', 'P37_stereo01_P37_pancake.txt', 'P37_stereo01_P37_salat.txt', 'P37_stereo01_P37_sandwich.txt', 'P37_stereo01_P37_scrambledegg.txt', 'P37_stereo01_P37_tea.txt', 'P37_webcam01_P37_cereals.txt', 'P37_webcam01_P37_coffee.txt', 'P37_webcam01_P37_friedegg.txt', 'P37_webcam01_P37_juice.txt', 'P37_webcam01_P37_milk.txt', 'P37_webcam01_P37_pancake.txt', 'P37_webcam01_P37_salat.txt', 'P37_webcam01_P37_sandwich.txt', 'P37_webcam01_P37_scrambledegg.txt', 'P37_webcam01_P37_tea.txt', 'P37_webcam02_P37_cereals.txt', 'P37_webcam02_P37_coffee.txt', 'P37_webcam02_P37_friedegg.txt', 'P37_webcam02_P37_juice.txt', 'P37_webcam02_P37_milk.txt', 'P37_webcam02_P37_pancake.txt', 'P37_webcam02_P37_salat.txt', 'P37_webcam02_P37_sandwich.txt', 'P37_webcam02_P37_scrambledegg.txt', 'P37_webcam02_P37_tea.txt', 'P38_cam01_P38_cereals.txt', 'P38_cam01_P38_coffee.txt', 'P38_cam01_P38_friedegg.txt', 'P38_cam01_P38_juice.txt', 'P38_cam01_P38_milk.txt', 'P38_cam01_P38_pancake.txt', 'P38_cam01_P38_salat.txt', 'P38_cam01_P38_sandwich.txt', 'P38_cam01_P38_scrambledegg.txt', 'P38_cam01_P38_tea.txt', 'P38_stereo01_P38_cereals.txt', 'P38_stereo01_P38_coffee.txt', 'P38_stereo01_P38_friedegg.txt', 'P38_stereo01_P38_juice.txt', 'P38_stereo01_P38_milk.txt', 'P38_stereo01_P38_pancake.txt', 'P38_stereo01_P38_salat.txt', 'P38_stereo01_P38_sandwich.txt', 'P38_stereo01_P38_scrambledegg.txt', 'P38_stereo01_P38_tea.txt', 'P38_webcam01_P38_cereals.txt', 'P38_webcam01_P38_coffee.txt', 'P38_webcam01_P38_friedegg.txt', 'P38_webcam01_P38_juice.txt', 'P38_webcam01_P38_milk.txt', 'P38_webcam01_P38_pancake.txt', 'P38_webcam01_P38_salat.txt', 'P38_webcam01_P38_sandwich.txt', 'P38_webcam01_P38_scrambledegg.txt', 'P38_webcam01_P38_tea.txt', 'P38_webcam02_P38_cereals.txt', 'P38_webcam02_P38_coffee.txt', 'P38_webcam02_P38_friedegg.txt', 'P38_webcam02_P38_juice.txt', 'P38_webcam02_P38_milk.txt', 'P38_webcam02_P38_pancake.txt', 'P38_webcam02_P38_salat.txt', 'P38_webcam02_P38_sandwich.txt', 'P38_webcam02_P38_scrambledegg.txt', 'P38_webcam02_P38_tea.txt', 'P39_cam01_P39_cereals.txt', 'P39_cam01_P39_friedegg.txt', 'P39_cam01_P39_milk.txt', 'P39_cam01_P39_pancake.txt', 'P39_cam01_P39_salat.txt', 'P39_cam01_P39_sandwich.txt', 'P39_cam01_P39_scrambledegg.txt', 'P39_cam01_P39_tea.txt', 'P39_cam02_P39_cereals.txt', 'P39_cam02_P39_friedegg.txt', 'P39_cam02_P39_juice.txt', 'P39_cam02_P39_milk.txt', 'P39_cam02_P39_pancake.txt', 'P39_cam02_P39_salat.txt', 'P39_cam02_P39_sandwich.txt', 'P39_cam02_P39_scrambledegg.txt', 'P39_cam02_P39_tea.txt', 'P39_stereo01_P39_cereals.txt', 'P39_stereo01_P39_coffee.txt', 'P39_stereo01_P39_friedegg.txt', 'P39_stereo01_P39_juice.txt', 'P39_stereo01_P39_milk.txt', 'P39_stereo01_P39_pancake.txt', 'P39_stereo01_P39_salat.txt', 'P39_stereo01_P39_sandwich.txt', 'P39_stereo01_P39_scrambledegg.txt', 'P39_stereo01_P39_tea.txt', 'P39_webcam01_P39_cereals.txt', 'P39_webcam01_P39_friedegg.txt', 'P39_webcam01_P39_pancake.txt', 'P39_webcam01_P39_salat.txt', 'P39_webcam01_P39_sandwich.txt', 'P39_webcam01_P39_scrambledegg.txt', 'P39_webcam02_P39_cereals.txt', 'P39_webcam02_P39_coffee.txt', 'P39_webcam02_P39_friedegg.txt', 'P39_webcam02_P39_juice.txt', 'P39_webcam02_P39_milk.txt', 'P39_webcam02_P39_pancake.txt', 'P39_webcam02_P39_salat.txt', 'P39_webcam02_P39_sandwich.txt', 'P39_webcam02_P39_scrambledegg.txt', 'P39_webcam02_P39_tea.txt', 'P40_cam01_P40_cereals.txt', 'P40_cam01_P40_friedegg.txt', 'P40_cam01_P40_juice.txt', 'P40_cam01_P40_milk.txt', 'P40_cam01_P40_pancake.txt', 'P40_cam01_P40_salat.txt', 'P40_cam01_P40_sandwich.txt', 'P40_cam01_P40_scrambledegg.txt', 'P40_cam02_P40_cereals.txt', 'P40_cam02_P40_coffee.txt', 'P40_cam02_P40_friedegg.txt', 'P40_cam02_P40_juice.txt', 'P40_cam02_P40_milk.txt', 'P40_cam02_P40_pancake.txt', 'P40_cam02_P40_salat.txt', 'P40_cam02_P40_sandwich.txt', 'P40_cam02_P40_scrambledegg.txt', 'P40_cam02_P40_tea.txt', 'P40_stereo01_P40_cereals.txt', 'P40_stereo01_P40_coffee.txt', 'P40_stereo01_P40_friedegg.txt', 'P40_stereo01_P40_juice.txt', 'P40_stereo01_P40_milk.txt', 'P40_stereo01_P40_sandwich.txt', 'P40_stereo01_P40_scrambledegg.txt', 'P40_stereo01_P40_tea.txt', 'P40_webcam01_P40_cereals.txt', 'P40_webcam01_P40_coffee.txt', 'P40_webcam01_P40_friedegg.txt', 'P40_webcam01_P40_juice.txt', 'P40_webcam01_P40_milk.txt', 'P40_webcam01_P40_pancake.txt', 'P40_webcam01_P40_salat.txt', 'P40_webcam01_P40_sandwich.txt', 'P40_webcam01_P40_scrambledegg.txt', 'P40_webcam01_P40_tea.txt', 'P40_webcam02_P40_cereals.txt', 'P40_webcam02_P40_coffee.txt', 'P40_webcam02_P40_friedegg.txt', 'P40_webcam02_P40_juice.txt', 'P40_webcam02_P40_milk.txt', 'P40_webcam02_P40_pancake.txt', 'P40_webcam02_P40_salat.txt', 'P40_webcam02_P40_sandwich.txt', 'P40_webcam02_P40_scrambledegg.txt', 'P40_webcam02_P40_tea.txt', 'P41_cam01_P41_cereals.txt', 'P41_cam01_P41_coffee.txt', 'P41_cam01_P41_friedegg.txt', 'P41_cam01_P41_juice.txt', 'P41_cam01_P41_milk.txt', 'P41_cam01_P41_pancake.txt', 'P41_cam01_P41_salat.txt', 'P41_cam01_P41_sandwich.txt', 'P41_cam01_P41_scrambledegg.txt', 'P41_cam01_P41_tea.txt', 'P41_cam02_P41_cereals.txt', 'P41_cam02_P41_coffee.txt', 'P41_cam02_P41_friedegg.txt', 'P41_cam02_P41_juice.txt', 'P41_cam02_P41_milk.txt', 'P41_cam02_P41_pancake.txt', 'P41_cam02_P41_salat.txt', 'P41_cam02_P41_sandwich.txt', 'P41_cam02_P41_scrambledegg.txt', 'P41_cam02_P41_tea.txt', 'P41_stereo01_P41_cereals.txt', 'P41_stereo01_P41_coffee.txt', 'P41_stereo01_P41_friedegg.txt', 'P41_stereo01_P41_juice.txt', 'P41_stereo01_P41_milk.txt', 'P41_stereo01_P41_pancake.txt', 'P41_stereo01_P41_salat.txt', 'P41_stereo01_P41_sandwich.txt', 'P41_stereo01_P41_scrambledegg.txt', 'P41_stereo01_P41_tea.txt', 'P41_webcam01_P41_cereals.txt', 'P41_webcam01_P41_coffee.txt', 'P41_webcam01_P41_friedegg.txt', 'P41_webcam01_P41_juice.txt', 'P41_webcam01_P41_milk.txt', 'P41_webcam01_P41_pancake.txt', 'P41_webcam01_P41_salat.txt', 'P41_webcam01_P41_sandwich.txt', 'P41_webcam01_P41_scrambledegg.txt', 'P41_webcam01_P41_tea.txt', 'P41_webcam02_P41_cereals.txt', 'P41_webcam02_P41_coffee.txt', 'P41_webcam02_P41_friedegg.txt', 'P41_webcam02_P41_juice.txt', 'P41_webcam02_P41_milk.txt', 'P41_webcam02_P41_pancake.txt', 'P41_webcam02_P41_salat.txt', 'P41_webcam02_P41_sandwich.txt', 'P41_webcam02_P41_scrambledegg.txt', 'P41_webcam02_P41_tea.txt', 'P42_cam01_P42_cereals.txt', 'P42_cam01_P42_coffee.txt', 'P42_cam01_P42_friedegg.txt', 'P42_cam01_P42_juice.txt', 'P42_cam01_P42_milk.txt', 'P42_cam01_P42_pancake.txt', 'P42_cam01_P42_salat.txt', 'P42_cam01_P42_sandwich.txt', 'P42_cam01_P42_scrambledegg.txt', 'P42_cam01_P42_tea.txt', 'P42_cam02_P42_cereals.txt', 'P42_cam02_P42_coffee.txt', 'P42_cam02_P42_juice.txt', 'P42_cam02_P42_milk.txt', 'P42_cam02_P42_pancake.txt', 'P42_cam02_P42_salat.txt', 'P42_cam02_P42_sandwich.txt', 'P42_cam02_P42_scrambledegg.txt', 'P42_cam02_P42_tea.txt', 'P42_stereo01_P42_cereals.txt', 'P42_stereo01_P42_coffee.txt', 'P42_stereo01_P42_friedegg.txt', 'P42_stereo01_P42_juice.txt', 'P42_stereo01_P42_milk.txt', 'P42_stereo01_P42_pancake.txt', 'P42_stereo01_P42_sandwich.txt', 'P42_stereo01_P42_scrambledegg.txt', 'P42_stereo01_P42_tea.txt', 'P42_webcam01_P42_cereals.txt', 'P42_webcam01_P42_coffee.txt', 'P42_webcam01_P42_friedegg.txt', 'P42_webcam01_P42_juice.txt', 'P42_webcam01_P42_milk.txt', 'P42_webcam01_P42_pancake.txt', 'P42_webcam01_P42_salat.txt', 'P42_webcam01_P42_sandwich.txt', 'P42_webcam01_P42_scrambledegg.txt', 'P42_webcam01_P42_tea.txt', 'P42_webcam02_P42_cereals.txt', 'P42_webcam02_P42_coffee.txt', 'P42_webcam02_P42_friedegg.txt', 'P42_webcam02_P42_juice.txt', 'P42_webcam02_P42_milk.txt', 'P42_webcam02_P42_pancake.txt', 'P42_webcam02_P42_salat.txt', 'P42_webcam02_P42_sandwich.txt', 'P42_webcam02_P42_scrambledegg.txt', 'P42_webcam02_P42_tea.txt', 'P43_cam01_P43_friedegg.txt', 'P43_cam01_P43_milk.txt', 'P43_cam01_P43_scrambledegg.txt', 'P43_cam02_P43_cereals.txt', 'P43_cam02_P43_coffee.txt', 'P43_cam02_P43_friedegg.txt', 'P43_cam02_P43_juice.txt', 'P43_cam02_P43_milk.txt', 'P43_cam02_P43_pancake.txt', 'P43_cam02_P43_salat.txt', 'P43_cam02_P43_scrambledegg.txt', 'P43_cam02_P43_tea.txt', 'P43_stereo01_P43_cereals.txt', 'P43_stereo01_P43_friedegg.txt', 'P43_stereo01_P43_juice.txt', 'P43_stereo01_P43_milk.txt', 'P43_stereo01_P43_pancake.txt', 'P43_stereo01_P43_salat.txt', 'P43_stereo01_P43_scrambledegg.txt', 'P43_stereo01_P43_tea.txt', 'P43_webcam01_P43_cereals.txt', 'P43_webcam01_P43_coffee.txt', 'P43_webcam01_P43_friedegg.txt', 'P43_webcam01_P43_juice.txt', 'P43_webcam01_P43_milk.txt', 'P43_webcam01_P43_pancake.txt', 'P43_webcam01_P43_salat.txt', 'P43_webcam01_P43_sandwich.txt', 'P43_webcam01_P43_scrambledegg.txt', 'P43_webcam01_P43_tea.txt', 'P43_webcam02_P43_cereals.txt', 'P43_webcam02_P43_coffee.txt', 'P43_webcam02_P43_friedegg.txt', 'P43_webcam02_P43_juice.txt', 'P43_webcam02_P43_milk.txt', 'P43_webcam02_P43_pancake.txt', 'P43_webcam02_P43_salat.txt', 'P43_webcam02_P43_sandwich.txt', 'P43_webcam02_P43_scrambledegg.txt', 'P43_webcam02_P43_tea.txt', 'P44_cam01_P44_cereals.txt', 'P44_cam01_P44_coffee.txt', 'P44_cam01_P44_friedegg.txt', 'P44_cam01_P44_milk.txt', 'P44_cam01_P44_pancake.txt', 'P44_cam01_P44_salat.txt', 'P44_cam01_P44_sandwich.txt', 'P44_cam01_P44_scrambledegg.txt', 'P44_cam01_P44_tea.txt', 'P44_cam02_P44_cereals.txt', 'P44_cam02_P44_coffee.txt', 'P44_cam02_P44_friedegg.txt', 'P44_cam02_P44_juice.txt', 'P44_cam02_P44_milk.txt', 'P44_cam02_P44_pancake.txt', 'P44_cam02_P44_salat.txt', 'P44_cam02_P44_sandwich.txt', 'P44_cam02_P44_scrambledegg.txt', 'P44_cam02_P44_tea.txt', 'P44_stereo01_P44_cereals.txt', 'P44_stereo01_P44_coffee.txt', 'P44_stereo01_P44_juice.txt', 'P44_stereo01_P44_milk.txt', 'P44_stereo01_P44_sandwich.txt', 'P44_stereo01_P44_tea.txt', 'P44_webcam01_P44_cereals.txt', 'P44_webcam01_P44_coffee.txt', 'P44_webcam01_P44_friedegg.txt', 'P44_webcam01_P44_juice.txt', 'P44_webcam01_P44_milk.txt', 'P44_webcam01_P44_pancake.txt', 'P44_webcam01_P44_salat.txt', 'P44_webcam01_P44_sandwich.txt', 'P44_webcam01_P44_scrambledegg.txt', 'P44_webcam01_P44_tea.txt', 'P44_webcam02_P44_cereals.txt', 'P44_webcam02_P44_coffee.txt', 'P44_webcam02_P44_friedegg.txt', 'P44_webcam02_P44_juice.txt', 'P44_webcam02_P44_milk.txt', 'P44_webcam02_P44_pancake.txt', 'P44_webcam02_P44_salat.txt', 'P44_webcam02_P44_sandwich.txt', 'P44_webcam02_P44_scrambledegg.txt', 'P44_webcam02_P44_tea.txt', 'P45_cam01_P45_cereals.txt', 'P45_cam01_P45_coffee.txt', 'P45_cam01_P45_friedegg.txt', 'P45_cam01_P45_juice.txt', 'P45_cam01_P45_milk.txt', 'P45_cam01_P45_pancake.txt', 'P45_cam01_P45_salat.txt', 'P45_cam01_P45_sandwich.txt', 'P45_cam01_P45_scrambledegg.txt', 'P45_cam01_P45_tea.txt', 'P45_cam02_P45_cereals.txt', 'P45_cam02_P45_coffee.txt', 'P45_cam02_P45_friedegg.txt', 'P45_cam02_P45_juice.txt', 'P45_cam02_P45_milk.txt', 'P45_cam02_P45_pancake.txt', 'P45_cam02_P45_scrambledegg.txt', 'P45_cam02_P45_tea.txt', 'P45_stereo01_P45_cereals.txt', 'P45_stereo01_P45_coffee.txt', 'P45_stereo01_P45_friedegg.txt', 'P45_stereo01_P45_juice.txt', 'P45_stereo01_P45_milk.txt', 'P45_stereo01_P45_salat.txt', 'P45_webcam01_P45_cereals.txt', 'P45_webcam01_P45_coffee.txt', 'P45_webcam01_P45_friedegg.txt', 'P45_webcam01_P45_juice.txt', 'P45_webcam01_P45_milk.txt', 'P45_webcam01_P45_pancake.txt', 'P45_webcam01_P45_salat.txt', 'P45_webcam01_P45_sandwich.txt', 'P45_webcam01_P45_scrambledegg.txt', 'P45_webcam01_P45_tea.txt', 'P45_webcam02_P45_cereals.txt', 'P45_webcam02_P45_coffee.txt', 'P45_webcam02_P45_friedegg.txt', 'P45_webcam02_P45_juice.txt', 'P45_webcam02_P45_milk.txt', 'P45_webcam02_P45_pancake.txt', 'P45_webcam02_P45_salat.txt', 'P45_webcam02_P45_sandwich.txt', 'P45_webcam02_P45_scrambledegg.txt', 'P45_webcam02_P45_tea.txt', 'P46_cam01_P46_cereals.txt', 'P46_cam01_P46_coffee.txt', 'P46_cam01_P46_friedegg.txt', 'P46_cam01_P46_juice.txt', 'P46_cam01_P46_milk.txt', 'P46_cam01_P46_pancake.txt', 'P46_cam01_P46_salat.txt', 'P46_cam01_P46_sandwich.txt', 'P46_cam01_P46_scrambledegg.txt', 'P46_cam01_P46_tea.txt', 'P46_cam02_P46_cereals.txt', 'P46_cam02_P46_coffee.txt', 'P46_cam02_P46_friedegg.txt', 'P46_cam02_P46_juice.txt', 'P46_cam02_P46_milk.txt', 'P46_cam02_P46_pancake.txt', 'P46_cam02_P46_salat.txt', 'P46_cam02_P46_sandwich.txt', 'P46_cam02_P46_scrambledegg.txt', 'P46_cam02_P46_tea.txt', 'P46_stereo01_P46_coffee.txt', 'P46_stereo01_P46_friedegg.txt', 'P46_stereo01_P46_milk.txt', 'P46_stereo01_P46_tea.txt', 'P46_webcam01_P46_cereals.txt', 'P46_webcam01_P46_coffee.txt', 'P46_webcam01_P46_friedegg.txt', 'P46_webcam01_P46_juice.txt', 'P46_webcam01_P46_milk.txt', 'P46_webcam01_P46_pancake.txt', 'P46_webcam01_P46_salat.txt', 'P46_webcam01_P46_sandwich.txt', 'P46_webcam01_P46_scrambledegg.txt', 'P46_webcam01_P46_tea.txt', 'P46_webcam02_P46_cereals.txt', 'P46_webcam02_P46_coffee.txt', 'P46_webcam02_P46_friedegg.txt', 'P46_webcam02_P46_juice.txt', 'P46_webcam02_P46_milk.txt', 'P46_webcam02_P46_pancake.txt', 'P46_webcam02_P46_salat.txt', 'P46_webcam02_P46_sandwich.txt', 'P46_webcam02_P46_scrambledegg.txt', 'P46_webcam02_P46_tea.txt', 'P47_cam01_P47_cereals.txt', 'P47_cam01_P47_coffee.txt', 'P47_cam01_P47_friedegg.txt', 'P47_cam01_P47_juice.txt', 'P47_cam01_P47_milk.txt', 'P47_cam01_P47_pancake.txt', 'P47_cam01_P47_salat.txt', 'P47_cam01_P47_sandwich.txt', 'P47_cam01_P47_scrambledegg.txt', 'P47_cam01_P47_tea.txt', 'P47_cam02_P47_cereals.txt', 'P47_cam02_P47_coffee.txt', 'P47_cam02_P47_friedegg.txt', 'P47_cam02_P47_juice.txt', 'P47_cam02_P47_milk.txt', 'P47_cam02_P47_pancake.txt', 'P47_cam02_P47_salat.txt', 'P47_cam02_P47_sandwich.txt', 'P47_cam02_P47_scrambledegg.txt', 'P47_cam02_P47_tea.txt', 'P47_stereo01_P47_cereals.txt', 'P47_stereo01_P47_tea.txt', 'P47_webcam01_P47_cereals.txt', 'P47_webcam01_P47_coffee.txt', 'P47_webcam01_P47_friedegg.txt', 'P47_webcam01_P47_juice.txt', 'P47_webcam01_P47_milk.txt', 'P47_webcam01_P47_pancake.txt', 'P47_webcam01_P47_salat.txt', 'P47_webcam01_P47_sandwich.txt', 'P47_webcam01_P47_tea.txt', 'P47_webcam02_P47_cereals.txt', 'P47_webcam02_P47_coffee.txt', 'P47_webcam02_P47_friedegg.txt', 'P47_webcam02_P47_juice.txt', 'P47_webcam02_P47_milk.txt', 'P47_webcam02_P47_pancake.txt', 'P47_webcam02_P47_salat.txt', 'P47_webcam02_P47_sandwich.txt', 'P47_webcam02_P47_scrambledegg.txt', 'P47_webcam02_P47_tea.txt', 'P48_cam01_P48_cereals.txt', 'P48_cam01_P48_friedegg.txt', 'P48_cam01_P48_juice.txt', 'P48_cam01_P48_milk.txt', 'P48_cam01_P48_pancake.txt', 'P48_cam01_P48_salat.txt', 'P48_cam01_P48_sandwich.txt', 'P48_cam01_P48_scrambledegg.txt', 'P48_cam01_P48_tea.txt', 'P48_cam02_P48_cereals.txt', 'P48_cam02_P48_coffee.txt', 'P48_cam02_P48_friedegg.txt', 'P48_cam02_P48_juice.txt', 'P48_cam02_P48_milk.txt', 'P48_cam02_P48_pancake.txt', 'P48_cam02_P48_salat.txt', 'P48_cam02_P48_sandwich.txt', 'P48_cam02_P48_scrambledegg.txt', 'P48_cam02_P48_tea.txt', 'P48_stereo01_P48_cereals.txt', 'P48_stereo01_P48_coffee.txt', 'P48_stereo01_P48_milk.txt', 'P48_webcam01_P48_cereals.txt', 'P48_webcam01_P48_coffee.txt', 'P48_webcam01_P48_friedegg.txt', 'P48_webcam01_P48_juice.txt', 'P48_webcam01_P48_milk.txt', 'P48_webcam01_P48_pancake.txt', 'P48_webcam01_P48_salat.txt', 'P48_webcam01_P48_sandwich.txt', 'P48_webcam01_P48_scrambledegg.txt', 'P48_webcam01_P48_tea.txt', 'P48_webcam02_P48_cereals.txt', 'P48_webcam02_P48_coffee.txt', 'P48_webcam02_P48_friedegg.txt', 'P48_webcam02_P48_juice.txt', 'P48_webcam02_P48_milk.txt', 'P48_webcam02_P48_pancake.txt', 'P48_webcam02_P48_salat.txt', 'P48_webcam02_P48_sandwich.txt', 'P48_webcam02_P48_scrambledegg.txt', 'P48_webcam02_P48_tea.txt', 'P49_cam01_P49_cereals.txt', 'P49_cam01_P49_coffee.txt', 'P49_cam01_P49_friedegg.txt', 'P49_cam01_P49_juice.txt', 'P49_cam01_P49_milk.txt', 'P49_cam01_P49_pancake.txt', 'P49_cam01_P49_salat.txt', 'P49_cam01_P49_sandwich.txt', 'P49_cam01_P49_scrambledegg.txt', 'P49_cam01_P49_tea.txt', 'P49_cam02_P49_cereals.txt', 'P49_cam02_P49_coffee.txt', 'P49_cam02_P49_friedegg.txt', 'P49_cam02_P49_juice.txt', 'P49_cam02_P49_pancake.txt', 'P49_cam02_P49_salat.txt', 'P49_cam02_P49_sandwich.txt', 'P49_cam02_P49_scrambledegg.txt', 'P49_cam02_P49_tea.txt', 'P49_stereo01_P49_cereals.txt', 'P49_stereo01_P49_coffee.txt', 'P49_stereo01_P49_friedegg.txt', 'P49_stereo01_P49_juice.txt', 'P49_stereo01_P49_salat.txt', 'P49_stereo01_P49_sandwich.txt', 'P49_stereo01_P49_scrambledegg.txt', 'P49_stereo01_P49_tea.txt', 'P49_webcam01_P49_cereals.txt', 'P49_webcam01_P49_coffee.txt', 'P49_webcam01_P49_friedegg.txt', 'P49_webcam01_P49_juice.txt', 'P49_webcam01_P49_milk.txt', 'P49_webcam01_P49_pancake.txt', 'P49_webcam01_P49_salat.txt', 'P49_webcam01_P49_sandwich.txt', 'P49_webcam01_P49_scrambledegg.txt', 'P49_webcam01_P49_tea.txt', 'P49_webcam02_P49_coffee.txt', 'P49_webcam02_P49_friedegg.txt', 'P49_webcam02_P49_juice.txt', 'P49_webcam02_P49_milk.txt', 'P49_webcam02_P49_pancake.txt', 'P49_webcam02_P49_salat.txt', 'P49_webcam02_P49_sandwich.txt', 'P49_webcam02_P49_scrambledegg.txt', 'P49_webcam02_P49_tea.txt', 'P50_cam01_P50_cereals.txt', 'P50_cam01_P50_coffee.txt', 'P50_cam01_P50_friedegg.txt', 'P50_cam01_P50_juice.txt', 'P50_cam01_P50_milk.txt', 'P50_cam01_P50_pancake.txt', 'P50_cam01_P50_salat.txt', 'P50_cam01_P50_sandwich.txt', 'P50_cam01_P50_scrambledegg.txt', 'P50_cam01_P50_tea.txt', 'P50_cam02_P50_cereals.txt', 'P50_cam02_P50_coffee.txt', 'P50_cam02_P50_friedegg.txt', 'P50_cam02_P50_juice.txt', 'P50_cam02_P50_milk.txt', 'P50_cam02_P50_pancake.txt', 'P50_cam02_P50_salat.txt', 'P50_cam02_P50_sandwich.txt', 'P50_cam02_P50_scrambledegg.txt', 'P50_cam02_P50_tea.txt', 'P50_stereo01_P50_cereals.txt', 'P50_stereo01_P50_coffee.txt', 'P50_stereo01_P50_juice.txt', 'P50_stereo01_P50_milk.txt', 'P50_stereo01_P50_pancake.txt', 'P50_stereo01_P50_sandwich.txt', 'P50_stereo01_P50_scrambledegg.txt', 'P50_stereo01_P50_tea.txt', 'P50_webcam01_P50_cereals.txt', 'P50_webcam01_P50_coffee.txt', 'P50_webcam01_P50_friedegg.txt', 'P50_webcam01_P50_juice.txt', 'P50_webcam01_P50_milk.txt', 'P50_webcam01_P50_pancake.txt', 'P50_webcam01_P50_salat.txt', 'P50_webcam01_P50_sandwich.txt', 'P50_webcam01_P50_scrambledegg.txt', 'P50_webcam01_P50_tea.txt', 'P50_webcam02_P50_cereals.txt', 'P50_webcam02_P50_coffee.txt', 'P50_webcam02_P50_friedegg.txt', 'P50_webcam02_P50_juice.txt', 'P50_webcam02_P50_milk.txt', 'P50_webcam02_P50_pancake.txt', 'P50_webcam02_P50_salat.txt', 'P50_webcam02_P50_sandwich.txt', 'P50_webcam02_P50_scrambledegg.txt', 'P50_webcam02_P50_tea.txt', 'P51_cam01_P51_cereals.txt', 'P51_cam01_P51_friedegg.txt', 'P51_cam01_P51_juice.txt', 'P51_cam01_P51_milk.txt', 'P51_cam01_P51_pancake.txt', 'P51_cam01_P51_salat.txt', 'P51_cam01_P51_sandwich.txt', 'P51_cam01_P51_scrambledegg.txt', 'P51_cam01_P51_tea.txt', 'P51_cam02_P51_cereals.txt', 'P51_cam02_P51_coffee.txt', 'P51_cam02_P51_friedegg.txt', 'P51_cam02_P51_juice.txt', 'P51_cam02_P51_milk.txt', 'P51_cam02_P51_pancake.txt', 'P51_cam02_P51_salat.txt', 'P51_cam02_P51_sandwich.txt', 'P51_cam02_P51_scrambledegg.txt', 'P51_cam02_P51_tea.txt', 'P51_stereo01_P51_cereals.txt', 'P51_stereo01_P51_coffee.txt', 'P51_stereo01_P51_juice.txt', 'P51_stereo01_P51_milk.txt', 'P51_stereo01_P51_salat.txt', 'P51_stereo01_P51_sandwich.txt', 'P51_stereo01_P51_tea.txt', 'P51_webcam01_P51_cereals.txt', 'P51_webcam01_P51_coffee.txt', 'P51_webcam01_P51_friedegg.txt', 'P51_webcam01_P51_juice.txt', 'P51_webcam01_P51_milk.txt', 'P51_webcam01_P51_pancake.txt', 'P51_webcam01_P51_salat.txt', 'P51_webcam01_P51_sandwich.txt', 'P51_webcam01_P51_scrambledegg.txt', 'P51_webcam01_P51_tea.txt', 'P51_webcam02_P51_cereals.txt', 'P51_webcam02_P51_coffee.txt', 'P51_webcam02_P51_friedegg.txt', 'P51_webcam02_P51_juice.txt', 'P51_webcam02_P51_milk.txt', 'P51_webcam02_P51_pancake.txt', 'P51_webcam02_P51_salat.txt', 'P51_webcam02_P51_sandwich.txt', 'P51_webcam02_P51_scrambledegg.txt', 'P51_webcam02_P51_tea.txt', 'P52_cam01_P52_friedegg.txt', 'P52_cam01_P52_juice.txt', 'P52_cam01_P52_milk.txt', 'P52_cam01_P52_pancake.txt', 'P52_cam01_P52_salat.txt', 'P52_cam01_P52_scrambledegg.txt', 'P52_cam01_P52_tea.txt', 'P52_cam02_P52_cereals.txt', 'P52_cam02_P52_coffee.txt', 'P52_cam02_P52_friedegg.txt', 'P52_cam02_P52_juice.txt', 'P52_cam02_P52_milk.txt', 'P52_cam02_P52_pancake.txt', 'P52_cam02_P52_salat.txt', 'P52_cam02_P52_scrambledegg.txt', 'P52_cam02_P52_tea.txt', 'P52_stereo01_P52_cereals.txt', 'P52_stereo01_P52_coffee.txt', 'P52_stereo01_P52_friedegg.txt', 'P52_stereo01_P52_milk.txt', 'P52_stereo01_P52_pancake.txt', 'P52_stereo01_P52_salat.txt', 'P52_stereo01_P52_sandwich.txt', 'P52_stereo01_P52_scrambledegg.txt', 'P52_stereo01_P52_tea.txt', 'P52_webcam01_P52_cereals.txt', 'P52_webcam01_P52_coffee.txt', 'P52_webcam01_P52_friedegg.txt', 'P52_webcam01_P52_juice.txt', 'P52_webcam01_P52_milk.txt', 'P52_webcam01_P52_pancake.txt', 'P52_webcam01_P52_salat.txt', 'P52_webcam01_P52_sandwich.txt', 'P52_webcam01_P52_scrambledegg.txt', 'P52_webcam01_P52_tea.txt', 'P52_webcam02_P52_cereals.txt', 'P52_webcam02_P52_coffee.txt', 'P52_webcam02_P52_friedegg.txt', 'P52_webcam02_P52_juice.txt', 'P52_webcam02_P52_milk.txt', 'P52_webcam02_P52_pancake.txt', 'P52_webcam02_P52_salat.txt', 'P52_webcam02_P52_sandwich.txt', 'P52_webcam02_P52_scrambledegg.txt', 'P52_webcam02_P52_tea.txt', 'P53_cam01_P53_cereals.txt', 'P53_cam01_P53_friedegg.txt', 'P53_cam01_P53_pancake.txt', 'P53_cam01_P53_scrambledegg.txt', 'P53_cam02_P53_cereals.txt', 'P53_cam02_P53_coffee.txt', 'P53_cam02_P53_friedegg.txt', 'P53_cam02_P53_juice.txt', 'P53_cam02_P53_milk.txt', 'P53_cam02_P53_pancake.txt', 'P53_cam02_P53_salat.txt', 'P53_cam02_P53_sandwich.txt', 'P53_cam02_P53_scrambledegg.txt', 'P53_cam02_P53_tea.txt', 'P53_stereo01_P53_cereals.txt', 'P53_stereo01_P53_coffee.txt', 'P53_stereo01_P53_friedegg.txt', 'P53_stereo01_P53_juice.txt', 'P53_stereo01_P53_milk.txt', 'P53_stereo01_P53_salat.txt', 'P53_stereo01_P53_sandwich.txt', 'P53_stereo01_P53_scrambledegg.txt', 'P53_stereo01_P53_tea.txt', 'P53_webcam01_P53_cereals.txt', 'P53_webcam01_P53_coffee.txt', 'P53_webcam01_P53_friedegg.txt', 'P53_webcam01_P53_juice.txt', 'P53_webcam01_P53_milk.txt', 'P53_webcam01_P53_pancake.txt', 'P53_webcam01_P53_salat.txt', 'P53_webcam01_P53_sandwich.txt', 'P53_webcam01_P53_scrambledegg.txt', 'P53_webcam01_P53_tea.txt', 'P53_webcam02_P53_cereals.txt', 'P53_webcam02_P53_coffee.txt', 'P53_webcam02_P53_friedegg.txt', 'P53_webcam02_P53_juice.txt', 'P53_webcam02_P53_milk.txt', 'P53_webcam02_P53_pancake.txt', 'P53_webcam02_P53_salat.txt', 'P53_webcam02_P53_sandwich.txt', 'P53_webcam02_P53_scrambledegg.txt', 'P53_webcam02_P53_tea.txt', 'P54_cam01_P54_cereals.txt', 'P54_cam01_P54_friedegg.txt', 'P54_cam01_P54_juice.txt', 'P54_cam01_P54_pancake.txt', 'P54_cam01_P54_salat.txt', 'P54_cam01_P54_sandwich.txt', 'P54_cam01_P54_scrambledegg.txt', 'P54_cam02_P54_cereals.txt', 'P54_cam02_P54_coffee.txt', 'P54_cam02_P54_friedegg.txt', 'P54_cam02_P54_juice.txt', 'P54_cam02_P54_milk.txt', 'P54_cam02_P54_pancake.txt', 'P54_cam02_P54_salat.txt', 'P54_cam02_P54_scrambledegg.txt', 'P54_cam02_P54_tea.txt', 'P54_stereo01_P54_cereals.txt', 'P54_stereo01_P54_coffee.txt', 'P54_stereo01_P54_friedegg.txt', 'P54_stereo01_P54_juice.txt', 'P54_stereo01_P54_milk.txt', 'P54_stereo01_P54_pancake.txt', 'P54_stereo01_P54_salat.txt', 'P54_stereo01_P54_sandwich.txt', 'P54_stereo01_P54_scrambledegg.txt', 'P54_stereo01_P54_tea.txt', 'P54_webcam01_P54_cereals.txt', 'P54_webcam01_P54_coffee.txt', 'P54_webcam01_P54_friedegg.txt', 'P54_webcam01_P54_juice.txt', 'P54_webcam01_P54_milk.txt', 'P54_webcam01_P54_pancake.txt', 'P54_webcam01_P54_scrambledegg.txt', 'P54_webcam01_P54_tea.txt', 'P54_webcam02_P54_cereals.txt', 'P54_webcam02_P54_coffee.txt', 'P54_webcam02_P54_friedegg.txt', 'P54_webcam02_P54_juice.txt', 'P54_webcam02_P54_milk.txt', 'P54_webcam02_P54_pancake.txt', 'P54_webcam02_P54_salat.txt', 'P54_webcam02_P54_sandwich.txt', 'P54_webcam02_P54_scrambledegg.txt', 'P54_webcam02_P54_tea.txt']\n"
     ]
    }
   ],
   "source": [
    "import os\n",
    "print(sorted(os.listdir(\"/content/gdrive/My Drive/CS5242/groundTruth/groundTruth\")))"
   ]
  },
  {
   "cell_type": "code",
   "execution_count": 0,
   "metadata": {
    "colab": {
     "base_uri": "https://localhost:8080/",
     "height": 391
    },
    "colab_type": "code",
    "executionInfo": {
     "elapsed": 1642,
     "status": "ok",
     "timestamp": 1586867448009,
     "user": {
      "displayName": "FENGZI LI",
      "photoUrl": "",
      "userId": "16205332635410986772"
     },
     "user_tz": -480
    },
    "id": "oSQfKKHxibPC",
    "outputId": "5ad49c0e-5d92-46a5-bb1d-98c4c6b7e9bb"
   },
   "outputs": [
    {
     "name": "stdout",
     "output_type": "stream",
     "text": [
      "total number of training dataset 1460\n",
      "the first 10 video activity class name\n"
     ]
    },
    {
     "data": {
      "text/plain": [
       "['cereals',\n",
       " 'friedegg',\n",
       " 'juice',\n",
       " 'milk',\n",
       " 'pancake',\n",
       " 'salat',\n",
       " 'sandwich',\n",
       " 'tea',\n",
       " 'cereals',\n",
       " 'coffee',\n",
       " 'friedegg',\n",
       " 'juice',\n",
       " 'milk',\n",
       " 'pancake',\n",
       " 'salat',\n",
       " 'sandwich',\n",
       " 'scrambledegg',\n",
       " 'tea',\n",
       " 'cereals',\n",
       " 'friedegg']"
      ]
     },
     "execution_count": 13,
     "metadata": {
      "tags": []
     },
     "output_type": "execute_result"
    }
   ],
   "source": [
    "# Get 10 Activity Class\n",
    "# Make sure the sequence is correspinding to data_label list\n",
    "activity_class_list = []\n",
    "\n",
    "import os,glob,ntpath\n",
    "folder_path = '/content/gdrive/My Drive/CS5242/groundTruth/groundTruth'\n",
    "for filename in sorted(glob.glob(os.path.join(folder_path, '*.txt'))):\n",
    "    _, activity_class_name = os.path.split(filename)\n",
    "    activity_class_name = (activity_class_name.split('_')[-1]).split('.')[0]\n",
    "    activity_class_list.append(activity_class_name)\n",
    "\n",
    "print('total number of training dataset', len(activity_class_list))\n",
    "print('the first 10 video activity class name')\n",
    "activity_class_list[0:20]"
   ]
  },
  {
   "cell_type": "code",
   "execution_count": 0,
   "metadata": {
    "colab": {
     "base_uri": "https://localhost:8080/",
     "height": 187
    },
    "colab_type": "code",
    "executionInfo": {
     "elapsed": 1661,
     "status": "ok",
     "timestamp": 1586867495544,
     "user": {
      "displayName": "FENGZI LI",
      "photoUrl": "",
      "userId": "16205332635410986772"
     },
     "user_tz": -480
    },
    "id": "2reB1PB_rNLA",
    "outputId": "9487d97d-99f3-40d7-e19b-397270da9aee"
   },
   "outputs": [
    {
     "data": {
      "text/plain": [
       "['coffee',\n",
       " 'tea',\n",
       " 'scrambledegg',\n",
       " 'cereals',\n",
       " 'milk',\n",
       " 'sandwich',\n",
       " 'salat',\n",
       " 'pancake',\n",
       " 'friedegg',\n",
       " 'juice']"
      ]
     },
     "execution_count": 16,
     "metadata": {
      "tags": []
     },
     "output_type": "execute_result"
    }
   ],
   "source": [
    "# Total number of unique activity class = 10\n",
    "ten_activity_class = list(set(activity_class_list))\n",
    "ten_activity_class"
   ]
  },
  {
   "cell_type": "code",
   "execution_count": 0,
   "metadata": {
    "colab": {
     "base_uri": "https://localhost:8080/",
     "height": 71
    },
    "colab_type": "code",
    "executionInfo": {
     "elapsed": 1549,
     "status": "ok",
     "timestamp": 1586867507215,
     "user": {
      "displayName": "FENGZI LI",
      "photoUrl": "",
      "userId": "16205332635410986772"
     },
     "user_tz": -480
    },
    "id": "c5drFWnrqQGd",
    "outputId": "252029c0-1a9b-46fc-c385-d15213d13173"
   },
   "outputs": [
    {
     "name": "stdout",
     "output_type": "stream",
     "text": [
      "total number of activity class 10\n",
      "the first 1 activity class video index [[9, 28, 38, 47, 55, 63, 72, 81, 85, 95, 105, 118, 137, 146, 150, 157, 166, 176, 186, 190, 196, 206, 216, 226, 233, 238, 247, 257, 265, 274, 281, 291, 301, 311, 318, 323, 333, 343, 352, 366, 376, 384, 393, 397, 407, 417, 426, 432, 452, 462, 471, 476, 484, 493, 500, 510, 519, 523, 533, 543, 548, 558, 572, 589, 597, 607, 610, 619, 638, 666, 676, 686, 696, 706, 716, 726, 736, 763, 779, 797, 807, 815, 825, 835, 845, 855, 865, 875, 885, 895, 904, 913, 923, 936, 953, 963, 973, 982, 992, 998, 1008, 1018, 1028, 1036, 1042, 1052, 1062, 1072, 1081, 1086, 1096, 1106, 1116, 1128, 1137, 1156, 1166, 1169, 1179, 1189, 1199, 1208, 1216, 1225, 1235, 1245, 1255, 1263, 1273, 1292, 1302, 1309, 1319, 1336, 1345, 1354, 1364, 1378, 1388, 1397, 1407, 1424, 1433, 1443, 1451]]\n"
     ]
    }
   ],
   "source": [
    "# Sort the activity class dataset\n",
    "class_video_index = []\n",
    "\n",
    "for name in ten_activity_class:\n",
    "    class_name = name\n",
    "    video_index = []\n",
    "    video_index = [i for i, e in enumerate(activity_class_list) if e == name]\n",
    "    class_video_index.append(video_index)\n",
    "\n",
    "print('total number of activity class',len(class_video_index))\n",
    "print('the first 1 activity class video index', class_video_index[0:1])"
   ]
  },
  {
   "cell_type": "code",
   "execution_count": 0,
   "metadata": {
    "colab": {
     "base_uri": "https://localhost:8080/",
     "height": 34
    },
    "colab_type": "code",
    "executionInfo": {
     "elapsed": 1850,
     "status": "ok",
     "timestamp": 1586867570347,
     "user": {
      "displayName": "FENGZI LI",
      "photoUrl": "",
      "userId": "16205332635410986772"
     },
     "user_tz": -480
    },
    "id": "sEjp3AIJtaej",
    "outputId": "f02e5ec6-c903-415d-85c9-b437b4b188ca"
   },
   "outputs": [
    {
     "name": "stdout",
     "output_type": "stream",
     "text": [
      "number of videos for each activity class [145, 154, 140, 157, 156, 142, 139, 135, 146, 146]\n"
     ]
    }
   ],
   "source": [
    "# For each activity class, the number of total videos under each activity class\n",
    "class_video_number = []\n",
    "for i in range(len(class_video_index)):\n",
    "    class_video_number.append(len(class_video_index[i]))\n",
    "print('number of videos for each activity class', class_video_number)"
   ]
  },
  {
   "cell_type": "code",
   "execution_count": 0,
   "metadata": {
    "colab": {
     "base_uri": "https://localhost:8080/",
     "height": 224
    },
    "colab_type": "code",
    "executionInfo": {
     "elapsed": 1499,
     "status": "ok",
     "timestamp": 1586867578670,
     "user": {
      "displayName": "FENGZI LI",
      "photoUrl": "",
      "userId": "16205332635410986772"
     },
     "user_tz": -480
    },
    "id": "Ry_jIvJHtaqg",
    "outputId": "4d711aef-4eca-4a4c-9ce1-913a4e25aaca"
   },
   "outputs": [
    {
     "name": "stdout",
     "output_type": "stream",
     "text": [
      "total number of video in class_1: 145\n",
      "total number of video with frame time stamps 145\n",
      "total number of data labels for each video in class_1 145\n",
      "the first video size in class_1: torch.Size([571, 400])\n",
      "the first video size in original data_feat: torch.Size([571, 400])\n",
      "the first video frame time stamp size: (571,)\n",
      "the first video frame first 20 time stamps  [0.         0.00175131 0.00350263 0.00525394 0.00700525 0.00875657\n",
      " 0.01050788 0.01225919 0.01401051 0.01576182 0.01751313 0.01926445\n",
      " 0.02101576 0.02276708 0.02451839 0.0262697  0.02802102 0.02977233\n",
      " 0.03152364 0.03327496]\n",
      "segment lables in the first 5 videos in class_1 excluding 0:SIL [[5, 2], [5, 2], [5], [5], [5], [5], [5], [5], [5], [5]]\n"
     ]
    }
   ],
   "source": [
    "# Get the training data_fest for each activity class\n",
    "data_feat_class_1 = []\n",
    "time_stamp_class_1 = []\n",
    "data_label_class_1 = []\n",
    "for i in class_video_index[0]:\n",
    "    data_feat_class_1.append(data_feat[i])\n",
    "    time_stamp_class_1.append(np.arange(0,data_feat[i].shape[0])/(data_feat[i].shape[0]))\n",
    "    data_label_class_1.append(data_labels[i])\n",
    "\n",
    "print('total number of video in class_1:', len(data_feat_class_1))\n",
    "print('total number of video with frame time stamps', len(time_stamp_class_1))\n",
    "print('total number of data labels for each video in class_1', len(data_label_class_1))\n",
    "print('the first video size in class_1:', data_feat_class_1[0].shape)\n",
    "print('the first video size in original data_feat:', data_feat[class_video_index[0][0]].shape)\n",
    "print('the first video frame time stamp size:', time_stamp_class_1[0].shape)\n",
    "print('the first video frame first 20 time stamps ', time_stamp_class_1[0][0:20])\n",
    "print('segment lables in the first 5 videos in class_1 excluding 0:SIL', data_label_class_1[0:10])"
   ]
  },
  {
   "cell_type": "code",
   "execution_count": 0,
   "metadata": {
    "colab": {
     "base_uri": "https://localhost:8080/",
     "height": 102
    },
    "colab_type": "code",
    "executionInfo": {
     "elapsed": 2113,
     "status": "ok",
     "timestamp": 1586867591798,
     "user": {
      "displayName": "FENGZI LI",
      "photoUrl": "",
      "userId": "16205332635410986772"
     },
     "user_tz": -480
    },
    "id": "jLp-qyU8241l",
    "outputId": "e19ab7ea-9a33-4f3f-f310-57d1eba95c66"
   },
   "outputs": [
    {
     "name": "stdout",
     "output_type": "stream",
     "text": [
      "total numebr of video frames count for class_1 84560\n",
      "total number of video frames for class_1 84560\n",
      "total number of video frames time stamp for class_1 84560\n",
      "frame feature dimension (400,)\n",
      "total number of segment label for all video in class_1 380\n"
     ]
    }
   ],
   "source": [
    "# Flatten data_feat for each activity class\n",
    "data_feat_class_1_flat = []\n",
    "time_stamp_class_1_flat = []\n",
    "data_label_class_1_flat = []\n",
    "sum_video_frames = 0\n",
    "for k in range(len(data_feat_class_1)):\n",
    "    for q in range(len(data_feat_class_1[k])):\n",
    "        data_feat_class_1_flat.append(np.array(data_feat_class_1[k][q]))\n",
    "        time_stamp_class_1_flat.append(time_stamp_class_1[k][q])\n",
    "    sum_video_frames += data_feat_class_1[k].shape[0]\n",
    "\n",
    "    for p in range(len(data_label_class_1[k])):\n",
    "        data_label_class_1_flat.append(data_label_class_1[k][p])\n",
    "\n",
    "print('total numebr of video frames count for class_1', sum_video_frames)\n",
    "print('total number of video frames for class_1',len(data_feat_class_1_flat))\n",
    "print('total number of video frames time stamp for class_1',len(time_stamp_class_1_flat))\n",
    "print('frame feature dimension', data_feat_class_1_flat[0].shape)\n",
    "print('total number of segment label for all video in class_1', len(data_label_class_1_flat))"
   ]
  },
  {
   "cell_type": "code",
   "execution_count": 0,
   "metadata": {
    "colab": {
     "base_uri": "https://localhost:8080/",
     "height": 34
    },
    "colab_type": "code",
    "executionInfo": {
     "elapsed": 1583,
     "status": "ok",
     "timestamp": 1586867611677,
     "user": {
      "displayName": "FENGZI LI",
      "photoUrl": "",
      "userId": "16205332635410986772"
     },
     "user_tz": -480
    },
    "id": "mQcWLw48Dxla",
    "outputId": "bc78c8d2-b20b-427a-8b91-da4dd4eaa0af"
   },
   "outputs": [
    {
     "data": {
      "text/plain": [
       "(84560, 1, 400)"
      ]
     },
     "execution_count": 21,
     "metadata": {
      "tags": []
     },
     "output_type": "execute_result"
    }
   ],
   "source": [
    "data_feat_class_1_flat = np.array(data_feat_class_1_flat)\n",
    "data_feat_class_1_flat = data_feat_class_1_flat.reshape(data_feat_class_1_flat.shape[0], 1, 400)\n",
    "data_feat_class_1_flat.shape"
   ]
  },
  {
   "cell_type": "code",
   "execution_count": 0,
   "metadata": {
    "colab": {
     "base_uri": "https://localhost:8080/",
     "height": 34
    },
    "colab_type": "code",
    "executionInfo": {
     "elapsed": 1555,
     "status": "ok",
     "timestamp": 1586867615060,
     "user": {
      "displayName": "FENGZI LI",
      "photoUrl": "",
      "userId": "16205332635410986772"
     },
     "user_tz": -480
    },
    "id": "-efluVFs9ADq",
    "outputId": "14ef0f74-1a35-43d4-90ad-4b7352ea7e8e"
   },
   "outputs": [
    {
     "data": {
      "text/plain": [
       "(84560, 1, 1)"
      ]
     },
     "execution_count": 22,
     "metadata": {
      "tags": []
     },
     "output_type": "execute_result"
    }
   ],
   "source": [
    "time_stamp_class_1_flat = np.array(time_stamp_class_1_flat)\n",
    "time_stamp_class_1_flat = time_stamp_class_1_flat.reshape(time_stamp_class_1_flat.shape[0], 1, 1)\n",
    "time_stamp_class_1_flat.shape"
   ]
  },
  {
   "cell_type": "code",
   "execution_count": 0,
   "metadata": {
    "colab": {
     "base_uri": "https://localhost:8080/",
     "height": 51
    },
    "colab_type": "code",
    "executionInfo": {
     "elapsed": 2438,
     "status": "ok",
     "timestamp": 1586867719195,
     "user": {
      "displayName": "FENGZI LI",
      "photoUrl": "",
      "userId": "16205332635410986772"
     },
     "user_tz": -480
    },
    "id": "3ky81ch-4mgf",
    "outputId": "d691a1c3-f3f1-4dee-9d3c-e4e55e68870f"
   },
   "outputs": [
    {
     "name": "stdout",
     "output_type": "stream",
     "text": [
      "Total unique segment labels in activity class_1 6\n",
      "activity class name {2, 5, 6, 7, 8, 9}\n"
     ]
    }
   ],
   "source": [
    "# Get unique number of segment labels in activity class 1\n",
    "k_class_1 =  len(set(data_label_class_1_flat))\n",
    "k_class_1_name = set(data_label_class_1_flat)\n",
    "print('Total unique segment labels in activity class_1', k_class_1)\n",
    "print('activity class name',k_class_1_name)"
   ]
  },
  {
   "cell_type": "markdown",
   "metadata": {
    "colab_type": "text",
    "id": "mHpid6O-sxmO"
   },
   "source": [
    "#### 3.2 MLP to compute embedding features wrt time stamp"
   ]
  },
  {
   "cell_type": "code",
   "execution_count": 0,
   "metadata": {
    "colab": {
     "base_uri": "https://localhost:8080/",
     "height": 360
    },
    "colab_type": "code",
    "executionInfo": {
     "elapsed": 3073,
     "status": "ok",
     "timestamp": 1586867757928,
     "user": {
      "displayName": "FENGZI LI",
      "photoUrl": "",
      "userId": "16205332635410986772"
     },
     "user_tz": -480
    },
    "id": "GwZ9IJPpjIpo",
    "outputId": "0b40bed2-35bf-48f3-8ebb-f38453d84ede"
   },
   "outputs": [
    {
     "name": "stderr",
     "output_type": "stream",
     "text": [
      "Using TensorFlow backend.\n"
     ]
    },
    {
     "name": "stdout",
     "output_type": "stream",
     "text": [
      "WARNING:tensorflow:From /tensorflow-1.15.2/python3.6/tensorflow_core/python/ops/resource_variable_ops.py:1630: calling BaseResourceVariable.__init__ (from tensorflow.python.ops.resource_variable_ops) with constraint is deprecated and will be removed in a future version.\n",
      "Instructions for updating:\n",
      "If using Keras pass *_constraint arguments to layers.\n",
      "Model: \"sequential_1\"\n",
      "_________________________________________________________________\n",
      "Layer (type)                 Output Shape              Param #   \n",
      "=================================================================\n",
      "dense_1 (Dense)              (None, 1, 40)             16040     \n",
      "_________________________________________________________________\n",
      "dense_2 (Dense)              (None, 1, 20)             820       \n",
      "_________________________________________________________________\n",
      "dense_3 (Dense)              (None, 1, 1)              21        \n",
      "=================================================================\n",
      "Total params: 16,881\n",
      "Trainable params: 16,881\n",
      "Non-trainable params: 0\n",
      "_________________________________________________________________\n",
      "None\n"
     ]
    }
   ],
   "source": [
    "# Use keras to define MLP\n",
    "# Use MLP to compute the embedding of features with respect to their relative time stamp\n",
    "from keras.layers import Dense, Flatten, Dropout\n",
    "from keras.models import Sequential, load_model\n",
    "from keras.optimizers import Adam, RMSprop\n",
    "from keras import backend\n",
    "\n",
    "backend.clear_session()\n",
    "feature_dim = 400\n",
    "embed_dim = 20\n",
    "mlp_model = Sequential()\n",
    "mlp_model.add(Dense(embed_dim * 2, input_shape = (1, feature_dim), activation='sigmoid'))\n",
    "mlp_model.add(Dense(embed_dim, activation='sigmoid'))\n",
    "mlp_model.add(Dense(1))\n",
    "optimizer = Adam(lr=1e-3, decay=1e-4)\n",
    "mlp_model.compile(loss='mse', optimizer = optimizer, metrics=['accuracy'])\n",
    "print(mlp_model.summary())"
   ]
  },
  {
   "cell_type": "code",
   "execution_count": 0,
   "metadata": {
    "colab": {
     "base_uri": "https://localhost:8080/",
     "height": 1000
    },
    "colab_type": "code",
    "executionInfo": {
     "elapsed": 74088,
     "status": "ok",
     "timestamp": 1586867834498,
     "user": {
      "displayName": "FENGZI LI",
      "photoUrl": "",
      "userId": "16205332635410986772"
     },
     "user_tz": -480
    },
    "id": "04PaOqmyV-eV",
    "outputId": "b0fdd392-49d9-4d73-c419-2d47c2920947"
   },
   "outputs": [
    {
     "name": "stdout",
     "output_type": "stream",
     "text": [
      "WARNING:tensorflow:From /usr/local/lib/python3.6/dist-packages/keras/backend/tensorflow_backend.py:422: The name tf.global_variables is deprecated. Please use tf.compat.v1.global_variables instead.\n",
      "\n",
      "Train on 67648 samples, validate on 16912 samples\n",
      "Epoch 1/64\n",
      " - 2s - loss: 0.0791 - accuracy: 0.0013 - val_loss: 0.0769 - val_accuracy: 8.8694e-04\n",
      "Epoch 2/64\n",
      " - 1s - loss: 0.0591 - accuracy: 0.0015 - val_loss: 0.0737 - val_accuracy: 9.4607e-04\n",
      "Epoch 3/64\n",
      " - 1s - loss: 0.0469 - accuracy: 0.0016 - val_loss: 0.0818 - val_accuracy: 5.9130e-04\n",
      "Epoch 4/64\n",
      " - 1s - loss: 0.0386 - accuracy: 0.0017 - val_loss: 0.0847 - val_accuracy: 7.0956e-04\n",
      "Epoch 5/64\n",
      " - 1s - loss: 0.0324 - accuracy: 0.0016 - val_loss: 0.0860 - val_accuracy: 7.6868e-04\n",
      "Epoch 6/64\n",
      " - 1s - loss: 0.0281 - accuracy: 0.0017 - val_loss: 0.0902 - val_accuracy: 6.5043e-04\n",
      "Epoch 7/64\n",
      " - 1s - loss: 0.0252 - accuracy: 0.0017 - val_loss: 0.0902 - val_accuracy: 7.6868e-04\n",
      "Epoch 8/64\n",
      " - 1s - loss: 0.0229 - accuracy: 0.0017 - val_loss: 0.0950 - val_accuracy: 5.3217e-04\n",
      "Epoch 9/64\n",
      " - 1s - loss: 0.0217 - accuracy: 0.0017 - val_loss: 0.0962 - val_accuracy: 4.7304e-04\n",
      "Epoch 10/64\n",
      " - 1s - loss: 0.0201 - accuracy: 0.0017 - val_loss: 0.0987 - val_accuracy: 4.7304e-04\n",
      "Epoch 11/64\n",
      " - 1s - loss: 0.0190 - accuracy: 0.0017 - val_loss: 0.0989 - val_accuracy: 4.7304e-04\n",
      "Epoch 12/64\n",
      " - 1s - loss: 0.0181 - accuracy: 0.0018 - val_loss: 0.0973 - val_accuracy: 5.3217e-04\n",
      "Epoch 13/64\n",
      " - 1s - loss: 0.0174 - accuracy: 0.0018 - val_loss: 0.0963 - val_accuracy: 5.3217e-04\n",
      "Epoch 14/64\n",
      " - 1s - loss: 0.0168 - accuracy: 0.0018 - val_loss: 0.0969 - val_accuracy: 5.3217e-04\n",
      "Epoch 15/64\n",
      " - 1s - loss: 0.0159 - accuracy: 0.0018 - val_loss: 0.0943 - val_accuracy: 5.9130e-04\n",
      "Epoch 16/64\n",
      " - 1s - loss: 0.0155 - accuracy: 0.0018 - val_loss: 0.0976 - val_accuracy: 4.1391e-04\n",
      "Epoch 17/64\n",
      " - 1s - loss: 0.0148 - accuracy: 0.0018 - val_loss: 0.0990 - val_accuracy: 4.1391e-04\n",
      "Epoch 18/64\n",
      " - 1s - loss: 0.0144 - accuracy: 0.0018 - val_loss: 0.0999 - val_accuracy: 4.1391e-04\n",
      "Epoch 19/64\n",
      " - 1s - loss: 0.0140 - accuracy: 0.0018 - val_loss: 0.0976 - val_accuracy: 5.3217e-04\n",
      "Epoch 20/64\n",
      " - 1s - loss: 0.0136 - accuracy: 0.0018 - val_loss: 0.0994 - val_accuracy: 4.7304e-04\n",
      "Epoch 21/64\n",
      " - 1s - loss: 0.0133 - accuracy: 0.0018 - val_loss: 0.1003 - val_accuracy: 4.7304e-04\n",
      "Epoch 22/64\n",
      " - 1s - loss: 0.0128 - accuracy: 0.0018 - val_loss: 0.1034 - val_accuracy: 5.3217e-04\n",
      "Epoch 23/64\n",
      " - 1s - loss: 0.0127 - accuracy: 0.0018 - val_loss: 0.1003 - val_accuracy: 4.1391e-04\n",
      "Epoch 24/64\n",
      " - 1s - loss: 0.0124 - accuracy: 0.0018 - val_loss: 0.1011 - val_accuracy: 4.7304e-04\n",
      "Epoch 25/64\n",
      " - 1s - loss: 0.0119 - accuracy: 0.0018 - val_loss: 0.1022 - val_accuracy: 4.7304e-04\n",
      "Epoch 26/64\n",
      " - 1s - loss: 0.0117 - accuracy: 0.0018 - val_loss: 0.1025 - val_accuracy: 3.5478e-04\n",
      "Epoch 27/64\n",
      " - 1s - loss: 0.0116 - accuracy: 0.0018 - val_loss: 0.1003 - val_accuracy: 4.1391e-04\n",
      "Epoch 28/64\n",
      " - 1s - loss: 0.0112 - accuracy: 0.0018 - val_loss: 0.0989 - val_accuracy: 4.7304e-04\n",
      "Epoch 29/64\n",
      " - 1s - loss: 0.0111 - accuracy: 0.0018 - val_loss: 0.1016 - val_accuracy: 4.1391e-04\n",
      "Epoch 30/64\n",
      " - 1s - loss: 0.0108 - accuracy: 0.0018 - val_loss: 0.1010 - val_accuracy: 4.1391e-04\n",
      "Epoch 31/64\n",
      " - 1s - loss: 0.0105 - accuracy: 0.0018 - val_loss: 0.1004 - val_accuracy: 4.7304e-04\n",
      "Epoch 32/64\n",
      " - 1s - loss: 0.0105 - accuracy: 0.0018 - val_loss: 0.0996 - val_accuracy: 4.1391e-04\n",
      "Epoch 33/64\n",
      " - 1s - loss: 0.0104 - accuracy: 0.0018 - val_loss: 0.0989 - val_accuracy: 4.1391e-04\n",
      "Epoch 34/64\n",
      " - 1s - loss: 0.0100 - accuracy: 0.0018 - val_loss: 0.0984 - val_accuracy: 5.3217e-04\n",
      "Epoch 35/64\n",
      " - 1s - loss: 0.0099 - accuracy: 0.0018 - val_loss: 0.1000 - val_accuracy: 4.1391e-04\n",
      "Epoch 36/64\n",
      " - 1s - loss: 0.0097 - accuracy: 0.0018 - val_loss: 0.1025 - val_accuracy: 4.1391e-04\n",
      "Epoch 37/64\n",
      " - 1s - loss: 0.0096 - accuracy: 0.0018 - val_loss: 0.1014 - val_accuracy: 4.1391e-04\n",
      "Epoch 38/64\n",
      " - 1s - loss: 0.0095 - accuracy: 0.0018 - val_loss: 0.0978 - val_accuracy: 5.3217e-04\n",
      "Epoch 39/64\n",
      " - 1s - loss: 0.0094 - accuracy: 0.0018 - val_loss: 0.1014 - val_accuracy: 4.1391e-04\n",
      "Epoch 40/64\n",
      " - 1s - loss: 0.0093 - accuracy: 0.0018 - val_loss: 0.0967 - val_accuracy: 4.1391e-04\n",
      "Epoch 41/64\n",
      " - 1s - loss: 0.0092 - accuracy: 0.0018 - val_loss: 0.0994 - val_accuracy: 4.1391e-04\n",
      "Epoch 42/64\n",
      " - 1s - loss: 0.0092 - accuracy: 0.0018 - val_loss: 0.0975 - val_accuracy: 4.7304e-04\n",
      "Epoch 43/64\n",
      " - 1s - loss: 0.0090 - accuracy: 0.0018 - val_loss: 0.0963 - val_accuracy: 5.9130e-04\n",
      "Epoch 44/64\n",
      " - 1s - loss: 0.0088 - accuracy: 0.0018 - val_loss: 0.0986 - val_accuracy: 5.9130e-04\n",
      "Epoch 45/64\n",
      " - 1s - loss: 0.0087 - accuracy: 0.0018 - val_loss: 0.0984 - val_accuracy: 5.3217e-04\n",
      "Epoch 46/64\n",
      " - 1s - loss: 0.0087 - accuracy: 0.0018 - val_loss: 0.0995 - val_accuracy: 4.7304e-04\n",
      "Epoch 47/64\n",
      " - 1s - loss: 0.0086 - accuracy: 0.0018 - val_loss: 0.0987 - val_accuracy: 4.7304e-04\n",
      "Epoch 48/64\n",
      " - 1s - loss: 0.0084 - accuracy: 0.0018 - val_loss: 0.0988 - val_accuracy: 4.7304e-04\n",
      "Epoch 49/64\n",
      " - 1s - loss: 0.0084 - accuracy: 0.0018 - val_loss: 0.1007 - val_accuracy: 4.1391e-04\n",
      "Epoch 50/64\n",
      " - 1s - loss: 0.0083 - accuracy: 0.0018 - val_loss: 0.0978 - val_accuracy: 4.7304e-04\n",
      "Epoch 51/64\n",
      " - 1s - loss: 0.0081 - accuracy: 0.0018 - val_loss: 0.0992 - val_accuracy: 4.7304e-04\n",
      "Epoch 52/64\n",
      " - 1s - loss: 0.0081 - accuracy: 0.0018 - val_loss: 0.0983 - val_accuracy: 4.7304e-04\n",
      "Epoch 53/64\n",
      " - 1s - loss: 0.0081 - accuracy: 0.0018 - val_loss: 0.0976 - val_accuracy: 5.9130e-04\n",
      "Epoch 54/64\n",
      " - 1s - loss: 0.0080 - accuracy: 0.0018 - val_loss: 0.0987 - val_accuracy: 4.7304e-04\n",
      "Epoch 55/64\n",
      " - 1s - loss: 0.0080 - accuracy: 0.0018 - val_loss: 0.0980 - val_accuracy: 5.3217e-04\n",
      "Epoch 56/64\n",
      " - 1s - loss: 0.0078 - accuracy: 0.0018 - val_loss: 0.1000 - val_accuracy: 4.7304e-04\n",
      "Epoch 57/64\n",
      " - 1s - loss: 0.0078 - accuracy: 0.0018 - val_loss: 0.0980 - val_accuracy: 4.7304e-04\n",
      "Epoch 58/64\n",
      " - 1s - loss: 0.0077 - accuracy: 0.0018 - val_loss: 0.0995 - val_accuracy: 5.3217e-04\n",
      "Epoch 59/64\n",
      " - 1s - loss: 0.0077 - accuracy: 0.0018 - val_loss: 0.0961 - val_accuracy: 5.9130e-04\n",
      "Epoch 60/64\n",
      " - 1s - loss: 0.0076 - accuracy: 0.0018 - val_loss: 0.0970 - val_accuracy: 5.3217e-04\n",
      "Epoch 61/64\n",
      " - 1s - loss: 0.0075 - accuracy: 0.0018 - val_loss: 0.0978 - val_accuracy: 5.3217e-04\n",
      "Epoch 62/64\n",
      " - 1s - loss: 0.0075 - accuracy: 0.0018 - val_loss: 0.0968 - val_accuracy: 5.3217e-04\n",
      "Epoch 63/64\n",
      " - 1s - loss: 0.0074 - accuracy: 0.0018 - val_loss: 0.0987 - val_accuracy: 5.9130e-04\n",
      "Epoch 64/64\n",
      " - 1s - loss: 0.0074 - accuracy: 0.0018 - val_loss: 0.0985 - val_accuracy: 4.7304e-04\n",
      "Computation time = 71.76s\n"
     ]
    }
   ],
   "source": [
    "# Fit model (verbose: 0=silent, 1=progress bar, 2=one line per epoch)\n",
    "import time\n",
    "\n",
    "start = time.time()\n",
    "\n",
    "history = mlp_model.fit(data_feat_class_1_flat, time_stamp_class_1_flat, batch_size=256, validation_split=0.2, epochs=64, verbose=2, shuffle=True)\n",
    "\n",
    "elapsed = time.time() - start\n",
    "print('Computation time = ' + str(round(elapsed,2)) + 's')"
   ]
  },
  {
   "cell_type": "code",
   "execution_count": 0,
   "metadata": {
    "colab": {
     "base_uri": "https://localhost:8080/",
     "height": 34
    },
    "colab_type": "code",
    "executionInfo": {
     "elapsed": 1078,
     "status": "ok",
     "timestamp": 1586867862767,
     "user": {
      "displayName": "FENGZI LI",
      "photoUrl": "",
      "userId": "16205332635410986772"
     },
     "user_tz": -480
    },
    "id": "-Q9F9H5Ql724",
    "outputId": "fcb068f9-1fa2-4cef-a3ef-73ac5e8b9fa5"
   },
   "outputs": [
    {
     "name": "stdout",
     "output_type": "stream",
     "text": [
      "(84560, 1, 20)\n"
     ]
    }
   ],
   "source": [
    "# Extract the second last layer embedding features for KMeans with a Sequential model\n",
    "get_2nd_last_layer_output = backend.function([mlp_model.layers[0].input], [mlp_model.layers[1].output])\n",
    "embedding_features = get_2nd_last_layer_output([data_feat_class_1_flat])[0]\n",
    "print(embedding_features.shape)"
   ]
  },
  {
   "cell_type": "code",
   "execution_count": 0,
   "metadata": {
    "colab": {},
    "colab_type": "code",
    "id": "dswyEVV0sX6Q"
   },
   "outputs": [],
   "source": [
    "# Save the embedding features\n",
    "embedding_features_df = pd.DataFrame(embedding_features.reshape(embedding_features.shape[0], 20))\n",
    "\n",
    "embedding_features_df.to_csv('embedding_features_mlp_coffee_class.csv', index=True)\n",
    "!cp embedding_features_mlp_coffee_class.csv \"/content/gdrive/My Drive/Colab Notebooks/CS5242_Grop_Proj/\"\n",
    "\n",
    "# Save the segment labels for class_1 (coffee)\n",
    "data_label_class_1_flat_df = pd.DataFrame(data_label_class_1_flat)\n",
    "data_label_class_1_flat_df.to_csv('segment_labels_coffee_class.csv', index=True)\n",
    "!cp segment_labels_coffee_class.csv \"/content/gdrive/My Drive/Colab Notebooks/CS5242_Grop_Proj/\""
   ]
  },
  {
   "cell_type": "markdown",
   "metadata": {
    "colab_type": "text",
    "id": "gmD7_XKr95pG"
   },
   "source": [
    "### References:\n",
    "[1] Kukleva A, Kuehne H, Sener F, et al. Unsupervised learning of action classes with continuous temporal embedding[C]//Proceedings of the IEEE Conference on Computer Vision and Pattern Recognition. 2019: 12066-12074."
   ]
  }
 ],
 "metadata": {
  "accelerator": "GPU",
  "colab": {
   "collapsed_sections": [],
   "machine_shape": "hm",
   "name": "Bonus_Continous_Temporal_Embedding.ipynb",
   "provenance": [
    {
     "file_id": "1OSDTDUWtdc36Nh98MluRR-xqVkdwHF1U",
     "timestamp": 1584631065899
    }
   ]
  },
  "kernelspec": {
   "display_name": "Python 3",
   "language": "python",
   "name": "python3"
  },
  "language_info": {
   "codemirror_mode": {
    "name": "ipython",
    "version": 3
   },
   "file_extension": ".py",
   "mimetype": "text/x-python",
   "name": "python",
   "nbconvert_exporter": "python",
   "pygments_lexer": "ipython3",
   "version": "3.7.3"
  }
 },
 "nbformat": 4,
 "nbformat_minor": 1
}
