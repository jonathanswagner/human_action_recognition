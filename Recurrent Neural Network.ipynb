{
 "cells": [
  {
   "cell_type": "markdown",
   "metadata": {
    "colab_type": "text",
    "id": "nOKj0mcr9Zib"
   },
   "source": [
    "## CS 5242 Project, NUS 2020 Semester2\n",
    "\n",
    "**Group Name: Team 2333**\n",
    "\n",
    "**Group members:**\n",
    "- Li Fengzi A0206468Y \n",
    "- Xiuping Hua A0206514N\n",
    "- Shi Haohui A0206537E\n",
    "- Jonathan Simon Wagner A0152784X\n",
    "\n",
    "**Project address: https://www.kaggle.com/c/cs5242project/data**\n",
    "\n",
    "- Data: I3D features, dimension is D=400\n",
    "- Training videos: P16-P54\n",
    "- Test videos: P03-P15\n",
    "- Total 1712 videos\n",
    "- Ground truth: frame-wise sub-action labels for each video. Dim = Ni*1 (total num of frames in video i, including 'SIL') \n",
    "- Splits:4 splits, split1 - test, train on other splits\n",
    "- 48 different sub-actions including SIL (48 classes)\n",
    "- 10 breakfast activities\n",
    "- Each video contain Ni frames, various sub-actions, so various segments, thus various segment labels\n",
    "- data_feat: I3D features for all training videos, dimension = Ni * D, Ni-frames, D=400\n",
    "- data_labels: a list of all training labels, a list variable of length = the number of training segment for this video clip, i.e. segment labels, not the frame labels\n",
    "\n",
    "- load data: template_code.py\n",
    "- train_segment.txt: temporal segment boundaries for train dataset\n",
    "- test_segment.txt: temporal segment boundaries for test dataset"
   ]
  },
  {
   "cell_type": "markdown",
   "metadata": {
    "colab_type": "text",
    "id": "f6jQvbMqCbz1"
   },
   "source": [
    "## 1. Load libraries"
   ]
  },
  {
   "cell_type": "code",
   "execution_count": 0,
   "metadata": {
    "colab": {
     "base_uri": "https://localhost:8080/",
     "height": 34
    },
    "colab_type": "code",
    "id": "UHkEvYRiZocR",
    "outputId": "4f28006a-1fdc-424f-f482-a8a0cbe906a0"
   },
   "outputs": [
    {
     "name": "stdout",
     "output_type": "stream",
     "text": [
      "TensorFlow 1.x selected.\n"
     ]
    }
   ],
   "source": [
    "%tensorflow_version 1.x\n",
    "import tensorflow"
   ]
  },
  {
   "cell_type": "code",
   "execution_count": 0,
   "metadata": {
    "colab": {},
    "colab_type": "code",
    "id": "dkMstMQ_7d2G"
   },
   "outputs": [],
   "source": [
    "# Load library\n",
    "import numpy as np\n",
    "import pandas as pd\n",
    "import matplotlib.pyplot as plt\n",
    "%matplotlib inline"
   ]
  },
  {
   "cell_type": "code",
   "execution_count": 0,
   "metadata": {
    "colab": {
     "base_uri": "https://localhost:8080/",
     "height": 122
    },
    "colab_type": "code",
    "id": "4le567aOqyS4",
    "outputId": "a047daf1-0b39-46ea-c04e-1437b96018d7"
   },
   "outputs": [
    {
     "name": "stdout",
     "output_type": "stream",
     "text": [
      "Go to this URL in a browser: https://accounts.google.com/o/oauth2/auth?client_id=947318989803-6bn6qk8qdgf4n4g3pfee6491hc0brc4i.apps.googleusercontent.com&redirect_uri=urn%3aietf%3awg%3aoauth%3a2.0%3aoob&response_type=code&scope=email%20https%3a%2f%2fwww.googleapis.com%2fauth%2fdocs.test%20https%3a%2f%2fwww.googleapis.com%2fauth%2fdrive%20https%3a%2f%2fwww.googleapis.com%2fauth%2fdrive.photos.readonly%20https%3a%2f%2fwww.googleapis.com%2fauth%2fpeopleapi.readonly\n",
      "\n",
      "Enter your authorization code:\n",
      "··········\n",
      "Mounted at /content/gdrive\n"
     ]
    }
   ],
   "source": [
    "# Mounted at google drive\n",
    "from google.colab import drive\n",
    "drive.mount('/content/gdrive')\n",
    "root_dir = \"/content/gdrive/My Drive/\"\n",
    "base_dir = root_dir + 'CS5242'"
   ]
  },
  {
   "cell_type": "code",
   "execution_count": 0,
   "metadata": {
    "colab": {},
    "colab_type": "code",
    "id": "PuW9wNVR21Eq"
   },
   "outputs": [],
   "source": [
    "!cat '/content/gdrive/My Drive/CS5242/read_datasetBreakfast.py'"
   ]
  },
  {
   "cell_type": "code",
   "execution_count": 0,
   "metadata": {
    "colab": {},
    "colab_type": "code",
    "id": "73mGG0K02-UG"
   },
   "outputs": [],
   "source": [
    "# Update path to import from drive\n",
    "import sys\n",
    "sys.path.append('/content/gdrive/My Drive/CS5242')"
   ]
  },
  {
   "cell_type": "markdown",
   "metadata": {
    "colab_type": "text",
    "id": "SjzoiNypCkJi"
   },
   "source": [
    "## 2. Load data"
   ]
  },
  {
   "cell_type": "code",
   "execution_count": 0,
   "metadata": {
    "colab": {
     "base_uri": "https://localhost:8080/"
    },
    "colab_type": "code",
    "id": "ylwwb-P_vWRQ",
    "outputId": "b515c6e2-6d87-4ebf-a0c0-2eec3db35c8b"
   },
   "outputs": [
    {
     "name": "stdout",
     "output_type": "stream",
     "text": [
      "Finish Load the Training data and labels!!!\n"
     ]
    },
    {
     "data": {
      "text/plain": [
       "'\\nWrite Code Below\\nPointers\\nNeed to load the segments.txt file for segments for test videos \\nOutput the CSV in correct format as shown in Evaluation Section\\nId corresponds to the segments in order. \\nExample - 30-150 = Id 0\\n          150-428 = Id 1\\n          428-575 = Id 2\\nCategory is the Class of the Predicted Action\\n'"
      ]
     },
     "execution_count": 6,
     "metadata": {
      "tags": []
     },
     "output_type": "execute_result"
    }
   ],
   "source": [
    "from read_datasetBreakfast import load_data, read_mapping_dict\n",
    "import os\n",
    "\n",
    "COMP_PATH = 'content/gdrive/My Drive/CS5242/'\n",
    "\n",
    "''' \n",
    "training to load train set\n",
    "test to load test set\n",
    "'''\n",
    "\n",
    "train_split =  os.path.join(base_dir, 'splits/train.split1.bundle') #Train Split\n",
    "test_split  =  os.path.join(base_dir, 'splits/test.split1.bundle') #Test Split\n",
    "GT_folder   =  os.path.join(base_dir, 'groundTruth/groundTruth/') #Ground Truth Labels for each training video \n",
    "DATA_folder =  os.path.join(base_dir, 'data/') #Frame I3D features for all videos\n",
    "mapping_loc =  os.path.join(base_dir, 'splits/mapping_bf.txt')\n",
    "\n",
    "actions_dict = read_mapping_dict(mapping_loc)\n",
    "\n",
    "data_feat, data_labels = load_data( train_split, actions_dict, GT_folder, DATA_folder, datatype = 'training') #Get features and labels\n",
    "data_feat_test = load_data( test_split, actions_dict, GT_folder, DATA_folder, datatype = 'test') #Get features only\n",
    "\n",
    "'''\n",
    "Write Code Below\n",
    "Pointers\n",
    "Need to load the segments.txt file for segments for test videos \n",
    "Output the CSV in correct format as shown in Evaluation Section\n",
    "Id corresponds to the segments in order. \n",
    "Example - 30-150 = Id 0\n",
    "          150-428 = Id 1\n",
    "          428-575 = Id 2\n",
    "Category is the Class of the Predicted Action\n",
    "'''"
   ]
  },
  {
   "cell_type": "code",
   "execution_count": 0,
   "metadata": {
    "colab": {
     "base_uri": "https://localhost:8080/",
     "height": 53
    },
    "colab_type": "code",
    "id": "VBT09-6R4Uzp",
    "outputId": "62b5922e-9af2-4b61-c783-c832336d4539"
   },
   "outputs": [
    {
     "name": "stdout",
     "output_type": "stream",
     "text": [
      "Number of training videos: 1460 ; Number of training segment labels:  1460\n",
      "Number of test videos:  252\n"
     ]
    }
   ],
   "source": [
    "print('Number of training videos:', len(data_feat), '; Number of training segment labels: ',len(data_labels))\n",
    "print('Number of test videos: ', len(data_feat_test))"
   ]
  },
  {
   "cell_type": "code",
   "execution_count": 0,
   "metadata": {
    "colab": {},
    "colab_type": "code",
    "id": "jrssPCSXu4Ba"
   },
   "outputs": [],
   "source": [
    "labels = pd.DataFrame(data_labels)\n",
    "\n",
    "labels = pd.DataFrame(labels.unstack(level=0)).reset_index()\n",
    "labels.drop('level_0',inplace=True,axis=1)\n",
    "labels.dropna(inplace=True)\n",
    "labels.columns =['number','category']\n",
    "labels['category'] = labels['category'].astype(int)\n",
    "\n",
    "\n",
    "#mapping for actions (change keys and values)\n",
    "actions_dict = {y:x for x,y in actions_dict.items()}\n",
    "labels['category'] = labels['category'].map(actions_dict)"
   ]
  },
  {
   "cell_type": "code",
   "execution_count": 0,
   "metadata": {
    "colab": {
     "base_uri": "https://localhost:8080/"
    },
    "colab_type": "code",
    "id": "gpuUAMHcu48N",
    "outputId": "d989476a-6a64-489e-8089-52ceff986c4d"
   },
   "outputs": [
    {
     "name": "stderr",
     "output_type": "stream",
     "text": [
      "/usr/local/lib/python3.6/dist-packages/statsmodels/tools/_testing.py:19: FutureWarning: pandas.util.testing is deprecated. Use the functions in the public API at pandas.testing instead.\n",
      "  import pandas.util.testing as tm\n"
     ]
    },
    {
     "data": {
      "image/png": "[encoded data removed]",
      "text/plain": [
       "<Figure size 1130.4x595.44 with 1 Axes>"
      ]
     },
     "metadata": {
      "tags": []
     },
     "output_type": "display_data"
    }
   ],
   "source": [
    "import seaborn as sns\n",
    "import pandas_profiling\n",
    "%matplotlib inline\n",
    "\n",
    "sns.set(rc={'figure.figsize':(15.7,8.27)})\n",
    "\n",
    "sns.countplot(y= 'category',orient= 'h',data=labels,order = labels['category'].value_counts().index)\n",
    "plt.show()"
   ]
  },
  {
   "cell_type": "code",
   "execution_count": 0,
   "metadata": {
    "colab": {
     "base_uri": "https://localhost:8080/"
    },
    "colab_type": "code",
    "id": "1rK-DrZevBVv",
    "outputId": "05c92b43-2038-450d-dbd4-2b8b13041d12"
   },
   "outputs": [
    {
     "data": {
      "text/plain": [
       "<matplotlib.axes._subplots.AxesSubplot at 0x7fcbdeea29b0>"
      ]
     },
     "execution_count": 9,
     "metadata": {
      "tags": []
     },
     "output_type": "execute_result"
    },
    {
     "data": {
      "image/png": "[encoded data removed]",
      "text/plain": [
       "<Figure size 1130.4x595.44 with 1 Axes>"
      ]
     },
     "metadata": {
      "tags": []
     },
     "output_type": "display_data"
    }
   ],
   "source": [
    "list_frame_no=[]\n",
    "for x in data_feat:\n",
    "    len_frame = len(x)\n",
    "    list_frame_no.append(len_frame)\n",
    "sns.distplot(list_frame_no)"
   ]
  },
  {
   "cell_type": "code",
   "execution_count": 0,
   "metadata": {
    "colab": {
     "base_uri": "https://localhost:8080/",
     "height": 53
    },
    "colab_type": "code",
    "id": "eE60hveD5HaX",
    "outputId": "b751c4a9-88a3-4036-c829-062dad757134"
   },
   "outputs": [
    {
     "name": "stdout",
     "output_type": "stream",
     "text": [
      "I3D feature dimension of the first video:  torch.Size([544, 400])\n",
      "Sub-action segment labels of the first video:  [1, 2]\n"
     ]
    }
   ],
   "source": [
    "# Shape of the first data_feat shape and number of segment labels\n",
    "print('I3D feature dimension of the first video: ', data_feat[0].shape)\n",
    "print('Sub-action segment labels of the first video: ', data_labels[0])"
   ]
  },
  {
   "cell_type": "code",
   "execution_count": 0,
   "metadata": {
    "colab": {
     "base_uri": "https://localhost:8080/",
     "height": 55
    },
    "colab_type": "code",
    "id": "7GMuQuGY29gK",
    "outputId": "0ab77553-e028-4a83-e237-5e25ee0df926"
   },
   "outputs": [
    {
     "name": "stdout",
     "output_type": "stream",
     "text": [
      "[[9, 269, 474], [48, 376, 637, 1270, 5506, 6799, 6871], [6, 56, 218, 583, 701, 997, 1106, 1628, 1761, 2067, 2166], [23, 313, 478, 618, 743], [15, 260, 440, 714, 1276, 1340, 1866, 2067, 7475, 7551, 7930]]\n"
     ]
    }
   ],
   "source": [
    "# Convert segment classes into list\n",
    "file_class = open(\"/content/gdrive/My Drive/CS5242/splits/mapping_bf.txt\", \"r\")\n",
    "class_list = [line.split('\\n') for line in file_class.readlines()]\n",
    "\n",
    "file_train = open(\"/content/gdrive/My Drive/CS5242/training_segment.txt\", \"r\")\n",
    "train_segments = [line.split('\\n') for line in file_train.readlines()]\n",
    "\n",
    "train_segment_list = []\n",
    "for i in range(len(train_segments)):\n",
    "  train_segment_list.append(train_segments[i][0])\n",
    "\n",
    "train_seg = [segment_line.split(' ') for segment_line in train_segment_list]\n",
    "\n",
    "# Change the string format into int\n",
    "train_seg_new = []\n",
    "for i in train_seg:\n",
    "  seg = []\n",
    "  for j in i:\n",
    "    seg.append(int(j))\n",
    "  train_seg_new.append(seg)\n",
    "print(train_seg_new[0:5])"
   ]
  },
  {
   "cell_type": "code",
   "execution_count": 0,
   "metadata": {
    "colab": {
     "base_uri": "https://localhost:8080/",
     "height": 35
    },
    "colab_type": "code",
    "id": "OlO6Lw0ch1BN",
    "outputId": "0c9840c4-9e50-4aa6-9ad1-1dd7753426b1"
   },
   "outputs": [
    {
     "name": "stdout",
     "output_type": "stream",
     "text": [
      "Number of train videos:  1460 ; Number of segment lists:  1460\n"
     ]
    }
   ],
   "source": [
    "print('Number of train videos: ',len(data_feat), '; Number of segment lists: ', len(train_seg_new))"
   ]
  },
  {
   "cell_type": "markdown",
   "metadata": {
    "colab_type": "text",
    "id": "BUD5KHNvy519"
   },
   "source": [
    "## 3. Feature extraction by max pooling"
   ]
  },
  {
   "cell_type": "code",
   "execution_count": 0,
   "metadata": {
    "colab": {},
    "colab_type": "code",
    "id": "pHebqSuFkha0"
   },
   "outputs": [],
   "source": [
    "from read_datasetBreakfast import get_maxpool_lstm_data\n",
    "data_feat_max = []\n",
    "for i in range(len(data_feat)):\n",
    "   list_data = get_maxpool_lstm_data(data_feat[i],train_seg_new[i])\n",
    "   data_feat_max.append(list_data)"
   ]
  },
  {
   "cell_type": "code",
   "execution_count": 0,
   "metadata": {
    "colab": {
     "base_uri": "https://localhost:8080/",
     "height": 53
    },
    "colab_type": "code",
    "id": "PQUdkLKlkGuN",
    "outputId": "89b3ef1c-2100-43c8-a66c-c8557e5ceb01"
   },
   "outputs": [
    {
     "name": "stdout",
     "output_type": "stream",
     "text": [
      "torch.Size([544, 400])\n",
      "torch.Size([2, 400])\n"
     ]
    }
   ],
   "source": [
    "# Check whether the feature dimension changes\n",
    "# Original dimension\n",
    "print(data_feat[0].shape)\n",
    "# New dimension\n",
    "print(data_feat_max[0].shape)"
   ]
  },
  {
   "cell_type": "code",
   "execution_count": 0,
   "metadata": {
    "colab": {
     "base_uri": "https://localhost:8080/",
     "height": 35
    },
    "colab_type": "code",
    "id": "1Jad_exBoq5Z",
    "outputId": "d0a3c666-238e-44e7-ba9c-f86be348d7b4"
   },
   "outputs": [
    {
     "name": "stdout",
     "output_type": "stream",
     "text": [
      "The max number of segments is : 23\n"
     ]
    }
   ],
   "source": [
    "# Find the max number of segments in one video\n",
    "train_seg = []\n",
    "for k in data_feat_max:\n",
    "  train_seg.append(len(k))\n",
    "print('The max number of segments is :', max(train_seg))"
   ]
  },
  {
   "cell_type": "code",
   "execution_count": 0,
   "metadata": {
    "colab": {
     "base_uri": "https://localhost:8080/",
     "height": 35
    },
    "colab_type": "code",
    "id": "m6pxONVhVcRh",
    "outputId": "e3f6899b-bb9c-4583-d461-31ccf7611140"
   },
   "outputs": [
    {
     "name": "stderr",
     "output_type": "stream",
     "text": [
      "Using TensorFlow backend.\n"
     ]
    }
   ],
   "source": [
    "# Make each video contain 28 segments through padding\n",
    "from keras.preprocessing import sequence\n",
    "from keras.utils import to_categorical\n",
    "data_feat_pad= sequence.pad_sequences(data_feat_max, maxlen=28, padding='post', truncating='post', value=0.0, dtype='float64')\n",
    "data_labels_pad = sequence.pad_sequences(data_labels, maxlen=28, padding='post', truncating='post', value=0)\n",
    "data_labels_pad = [to_categorical(i, 48) for i in data_labels_pad]\n",
    "data_feat_pad = np.array(data_feat_pad)\n",
    "data_labels_pad = np.array(data_labels_pad)"
   ]
  },
  {
   "cell_type": "code",
   "execution_count": 0,
   "metadata": {
    "colab": {
     "base_uri": "https://localhost:8080/",
     "height": 71
    },
    "colab_type": "code",
    "id": "OYin8PhY4nnQ",
    "outputId": "fd8bbd84-483d-4bf7-f210-76c84114a616"
   },
   "outputs": [
    {
     "name": "stdout",
     "output_type": "stream",
     "text": [
      "1168 1168\n",
      "146 146\n",
      "146 146\n"
     ]
    }
   ],
   "source": [
    "# Train, validation and test dataset split\n",
    "from sklearn.model_selection import train_test_split\n",
    "X_train, X_test, y_train, Y_test = train_test_split(data_feat_pad, data_labels_pad, test_size = 0.2, random_state = 5242)\n",
    "x_val, x_test, y_val, y_test = train_test_split(X_test, Y_test, test_size = 0.5, random_state = 5242)\n",
    "print(len(X_train), len(y_train))\n",
    "print(len(x_val), len(y_val))\n",
    "print(len(x_test), len(y_test))"
   ]
  },
  {
   "cell_type": "code",
   "execution_count": 0,
   "metadata": {
    "colab": {},
    "colab_type": "code",
    "id": "_qvWwt3VjsmY"
   },
   "outputs": [],
   "source": [
    "# Delete data_feat to save ram\n",
    "del data_feat"
   ]
  },
  {
   "cell_type": "markdown",
   "metadata": {
    "colab_type": "text",
    "id": "aKKP3Z8_0Qq-"
   },
   "source": [
    "## 4. Models\n",
    "### 4.1 Multi-layer LSTM model"
   ]
  },
  {
   "cell_type": "code",
   "execution_count": 0,
   "metadata": {
    "colab": {},
    "colab_type": "code",
    "id": "29P4klwt0Pkd"
   },
   "outputs": [],
   "source": [
    "from keras.layers import Dense, Flatten, Dropout, Bidirectional, MaxPooling1D, TimeDistributed, GRU, Conv1D\n",
    "from keras.layers.recurrent import LSTM\n",
    "from keras.models import Sequential, load_model\n",
    "from keras.optimizers import Adam\n",
    "from keras import backend"
   ]
  },
  {
   "cell_type": "code",
   "execution_count": 0,
   "metadata": {
    "colab": {
     "base_uri": "https://localhost:8080/",
     "height": 393
    },
    "colab_type": "code",
    "id": "eQQkHGUg96do",
    "outputId": "b21144f7-b4c8-4dff-fe9c-907855505d9f"
   },
   "outputs": [
    {
     "name": "stdout",
     "output_type": "stream",
     "text": [
      "Model: \"sequential_10\"\n",
      "_________________________________________________________________\n",
      "Layer (type)                 Output Shape              Param #   \n",
      "=================================================================\n",
      "lstm_9 (LSTM)                (None, 28, 2048)          20062208  \n",
      "_________________________________________________________________\n",
      "dense_28 (Dense)             (None, 28, 1024)          2098176   \n",
      "_________________________________________________________________\n",
      "dense_29 (Dense)             (None, 28, 256)           262400    \n",
      "_________________________________________________________________\n",
      "dense_30 (Dense)             (None, 28, 128)           32896     \n",
      "_________________________________________________________________\n",
      "dropout_9 (Dropout)          (None, 28, 128)           0         \n",
      "_________________________________________________________________\n",
      "dense_31 (Dense)             (None, 28, 48)            6192      \n",
      "=================================================================\n",
      "Total params: 22,461,872\n",
      "Trainable params: 22,461,872\n",
      "Non-trainable params: 0\n",
      "_________________________________________________________________\n",
      "None\n"
     ]
    }
   ],
   "source": [
    "# Build Multi-layer LSTM model\n",
    "seg_class = 48 # Padding is used so silence is included —— 48 classes\n",
    "\n",
    "lstm_model = Sequential()\n",
    "lstm_model.add(LSTM(2048, return_sequences= True, dropout = 0.1, input_shape = data_feat_pad[0].shape))\n",
    "lstm_model.add(Dense(1024, activation='relu'))\n",
    "lstm_model.add(Dense(256, activation='relu'))\n",
    "lstm_model.add(Dense(128, activation='relu'))\n",
    "lstm_model.add(Dropout(0.1))\n",
    "lstm_model.add(Dense(seg_class, activation='softmax'))\n",
    "lstm_model.compile(loss='categorical_crossentropy', optimizer='adam', metrics=['accuracy'])\n",
    "print(lstm_model.summary())"
   ]
  },
  {
   "cell_type": "markdown",
   "metadata": {
    "colab_type": "text",
    "id": "bZ6ZQv_EiTwS"
   },
   "source": [
    "### 4.2 CNN LSTM model "
   ]
  },
  {
   "cell_type": "code",
   "execution_count": 0,
   "metadata": {
    "colab": {
     "base_uri": "https://localhost:8080/",
     "height": 501
    },
    "colab_type": "code",
    "id": "aaf-rEiFiP9C",
    "outputId": "30251247-0a9e-4f3c-fd66-e9d26f8b010f"
   },
   "outputs": [
    {
     "name": "stdout",
     "output_type": "stream",
     "text": [
      "Model: \"sequential_11\"\n",
      "_________________________________________________________________\n",
      "Layer (type)                 Output Shape              Param #   \n",
      "=================================================================\n",
      "conv1d_3 (Conv1D)            (None, 28, 32)            38432     \n",
      "_________________________________________________________________\n",
      "max_pooling1d_3 (MaxPooling1 (None, 28, 32)            0         \n",
      "_________________________________________________________________\n",
      "dropout_10 (Dropout)         (None, 28, 32)            0         \n",
      "_________________________________________________________________\n",
      "lstm_10 (LSTM)               (None, 28, 2048)          17047552  \n",
      "_________________________________________________________________\n",
      "dense_32 (Dense)             (None, 28, 1024)          2098176   \n",
      "_________________________________________________________________\n",
      "dense_33 (Dense)             (None, 28, 256)           262400    \n",
      "_________________________________________________________________\n",
      "dense_34 (Dense)             (None, 28, 128)           32896     \n",
      "_________________________________________________________________\n",
      "dropout_11 (Dropout)         (None, 28, 128)           0         \n",
      "_________________________________________________________________\n",
      "dense_35 (Dense)             (None, 28, 48)            6192      \n",
      "=================================================================\n",
      "Total params: 19,485,648\n",
      "Trainable params: 19,485,648\n",
      "Non-trainable params: 0\n",
      "_________________________________________________________________\n",
      "None\n"
     ]
    }
   ],
   "source": [
    "# Build CNN LSTM model\n",
    "cnn_lstm_model = Sequential()\n",
    "cnn_lstm_model.add(Conv1D(32,kernel_size=3,padding='same',activation='relu',strides=1,input_shape = data_feat_pad[0].shape))\n",
    "cnn_lstm_model.add(MaxPooling1D(pool_size=2, strides=1, padding='same'))\n",
    "cnn_lstm_model.add(Dropout(0.2))\n",
    "cnn_lstm_model.add(LSTM(2048, return_sequences= True, dropout = 0.1))\n",
    "cnn_lstm_model.add(Dense(1024, activation='relu'))\n",
    "cnn_lstm_model.add(Dense(256, activation='relu'))\n",
    "cnn_lstm_model.add(Dense(128, activation='relu'))\n",
    "cnn_lstm_model.add(Dropout(0.1))\n",
    "cnn_lstm_model.add(Dense(seg_class, activation='softmax'))\n",
    "cnn_lstm_model.compile(loss='categorical_crossentropy', optimizer='adam', metrics=['accuracy'])\n",
    "print(cnn_lstm_model.summary())"
   ]
  },
  {
   "cell_type": "markdown",
   "metadata": {
    "colab_type": "text",
    "id": "70CVFV9ogkVY"
   },
   "source": [
    "### 4.3 Bi-Directional GRU model "
   ]
  },
  {
   "cell_type": "code",
   "execution_count": 0,
   "metadata": {
    "colab": {
     "base_uri": "https://localhost:8080/",
     "height": 286
    },
    "colab_type": "code",
    "id": "jZqXpsQQn9h0",
    "outputId": "8b26c669-e82b-42af-a78f-97c29005fed9"
   },
   "outputs": [
    {
     "name": "stdout",
     "output_type": "stream",
     "text": [
      "Model: \"sequential_12\"\n",
      "_________________________________________________________________\n",
      "Layer (type)                 Output Shape              Param #   \n",
      "=================================================================\n",
      "bidirectional_7 (Bidirection (None, 28, 2048)          8755200   \n",
      "_________________________________________________________________\n",
      "bidirectional_8 (Bidirection (None, 28, 2048)          18880512  \n",
      "_________________________________________________________________\n",
      "time_distributed_4 (TimeDist (None, 28, 48)            98352     \n",
      "=================================================================\n",
      "Total params: 27,734,064\n",
      "Trainable params: 27,734,064\n",
      "Non-trainable params: 0\n",
      "_________________________________________________________________\n",
      "None\n"
     ]
    }
   ],
   "source": [
    "# Build Bi-Directional GRU model \n",
    "bi_gru_model = Sequential()\n",
    "bi_gru_model.add(Bidirectional(GRU(1024, dropout=0.08, return_sequences=True), merge_mode='concat' ,input_shape= data_feat_pad[0].shape))\n",
    "bi_gru_model.add(Bidirectional(GRU(1024, dropout=0.08, return_sequences=True), merge_mode='concat')) \n",
    "bi_gru_model.add(TimeDistributed(Dense(seg_class, activation='softmax'))) \n",
    "bi_gru_model.compile(loss='categorical_crossentropy', optimizer='adam', metrics=['accuracy'])\n",
    "print(bi_gru_model.summary())"
   ]
  },
  {
   "cell_type": "markdown",
   "metadata": {
    "colab_type": "text",
    "id": "xXX6Wx1kg0Wg"
   },
   "source": [
    "### 4.4 Bi-Directional LSTM model "
   ]
  },
  {
   "cell_type": "code",
   "execution_count": 0,
   "metadata": {
    "colab": {
     "base_uri": "https://localhost:8080/",
     "height": 268
    },
    "colab_type": "code",
    "id": "w040zC4q1_xj",
    "outputId": "505274c6-4063-48de-ef3c-44d1f1a3eb50"
   },
   "outputs": [
    {
     "name": "stdout",
     "output_type": "stream",
     "text": [
      "Model: \"sequential_13\"\n",
      "_________________________________________________________________\n",
      "Layer (type)                 Output Shape              Param #   \n",
      "=================================================================\n",
      "bidirectional_9 (Bidirection (None, 28, 1024)          11673600  \n",
      "_________________________________________________________________\n",
      "bidirectional_10 (Bidirectio (None, 28, 1024)          16785408  \n",
      "_________________________________________________________________\n",
      "time_distributed_5 (TimeDist (None, 28, 48)            49200     \n",
      "=================================================================\n",
      "Total params: 28,508,208\n",
      "Trainable params: 28,508,208\n",
      "Non-trainable params: 0\n",
      "_________________________________________________________________\n"
     ]
    }
   ],
   "source": [
    "# Build Bi-Directional LSTM model \n",
    "bi_lstm_model = Sequential()\n",
    "bi_lstm_model.add(Bidirectional(LSTM(1024, dropout=0.08, return_sequences=True), merge_mode='sum', input_shape=data_feat_pad[0].shape)) \n",
    "bi_lstm_model.add(Bidirectional(LSTM(1024, dropout=0.08, return_sequences=True), merge_mode='sum'))\n",
    "bi_lstm_model.add(TimeDistributed(Dense(seg_class, activation='softmax')))\n",
    "bi_lstm_model.compile(loss='categorical_crossentropy', optimizer='adam', metrics=['accuracy'])\n",
    "bi_lstm_model.summary()"
   ]
  },
  {
   "cell_type": "markdown",
   "metadata": {
    "colab_type": "text",
    "id": "ZwxAm3Q6cy37"
   },
   "source": [
    "## 5.  Model Training and Evaluation"
   ]
  },
  {
   "cell_type": "markdown",
   "metadata": {
    "colab_type": "text",
    "id": "lD3TILYchE4i"
   },
   "source": [
    "### 5.1 LSTM Model"
   ]
  },
  {
   "cell_type": "code",
   "execution_count": 0,
   "metadata": {
    "colab": {
     "base_uri": "https://localhost:8080/",
     "height": 53
    },
    "colab_type": "code",
    "id": "ZLJARtHZi7d_",
    "outputId": "3f513082-8ab0-48f4-9b30-af26dd93072d"
   },
   "outputs": [
    {
     "name": "stderr",
     "output_type": "stream",
     "text": [
      "/usr/local/lib/python3.6/dist-packages/keras/callbacks/callbacks.py:998: UserWarning: `epsilon` argument is deprecated and will be removed, use `min_delta` instead.\n",
      "  warnings.warn('`epsilon` argument is deprecated and '\n"
     ]
    }
   ],
   "source": [
    "import time\n",
    "from keras.callbacks import EarlyStopping, ModelCheckpoint, ReduceLROnPlateau\n",
    "\n",
    "earlyStopping = EarlyStopping(monitor='val_loss', patience=10, verbose=0, mode='min')\n",
    "reduce_lr_loss = ReduceLROnPlateau(monitor='val_loss', factor=0.1, patience=7, verbose=1, epsilon=1e-4, mode='min')"
   ]
  },
  {
   "cell_type": "code",
   "execution_count": 0,
   "metadata": {
    "colab": {},
    "colab_type": "code",
    "id": "966vacNn96lj"
   },
   "outputs": [],
   "source": [
    "start = time.time()\n",
    "history = lstm_model.fit(X_train, y_train, batch_size=400, epochs=300, verbose=1, shuffle=False, validation_data=(x_val, y_val), callbacks=[earlyStopping, reduce_lr_loss])\n",
    "elapsed = time.time() - start\n",
    "print('Computation time = ' + str(round(elapsed,2)) + 's')"
   ]
  },
  {
   "cell_type": "markdown",
   "metadata": {
    "colab_type": "text",
    "id": "odaAtALvi_O8"
   },
   "source": [
    "### 5.2 CNN LSTM Model"
   ]
  },
  {
   "cell_type": "code",
   "execution_count": 0,
   "metadata": {
    "colab": {},
    "colab_type": "code",
    "id": "DGVtpgh5jCvE"
   },
   "outputs": [],
   "source": [
    "history_cnn_lstm = cnn_lstm_model.fit(X_train, y_train, batch_size=400, epochs=200, verbose=1, shuffle=False, validation_data=(x_val, y_val), callbacks=[earlyStopping, reduce_lr_loss]) "
   ]
  },
  {
   "cell_type": "markdown",
   "metadata": {
    "colab_type": "text",
    "id": "9C_9ONN9hXeF"
   },
   "source": [
    "### 5.3 Bi-directional GRU model"
   ]
  },
  {
   "cell_type": "code",
   "execution_count": 0,
   "metadata": {
    "colab": {},
    "colab_type": "code",
    "id": "70CD9MGTJCDA"
   },
   "outputs": [],
   "source": [
    "history_bi_gru = bi_gru_model.fit(X_train, y_train, batch_size=400, epochs=200, verbose=1, shuffle=False, validation_data=(x_val, y_val), callbacks=[earlyStopping, reduce_lr_loss]) "
   ]
  },
  {
   "cell_type": "markdown",
   "metadata": {
    "colab_type": "text",
    "id": "0cL-H1WNhzIE"
   },
   "source": [
    "### 5.4 Bi-directional LSTM model"
   ]
  },
  {
   "cell_type": "code",
   "execution_count": 0,
   "metadata": {
    "colab": {},
    "colab_type": "code",
    "id": "MR0MiFkEh43G"
   },
   "outputs": [],
   "source": [
    "history_bi_lstm = bi_lstm_model.fit(X_train, y_train, batch_size=400, epochs=200, verbose=1, shuffle=False, validation_data=(x_val, y_val), callbacks=[earlyStopping, reduce_lr_loss])"
   ]
  },
  {
   "cell_type": "markdown",
   "metadata": {
    "colab_type": "text",
    "id": "457ShvqGPBfu"
   },
   "source": [
    "###5.5 Model Evaluation"
   ]
  },
  {
   "cell_type": "code",
   "execution_count": 0,
   "metadata": {
    "colab": {},
    "colab_type": "code",
    "id": "tdJ0IVdsQn_j"
   },
   "outputs": [],
   "source": [
    "# Prediction\n",
    "test_pred_lstm = lstm_model.predict(x_test)\n",
    "test_pred_cnn_lstm = cnn_lstm_model.predict(x_test)\n",
    "test_pred_bi_gru = bi_gru_model.predict(x_test)\n",
    "test_pred_bi_lstm = bi_lstm_model.predict(x_test)"
   ]
  },
  {
   "cell_type": "code",
   "execution_count": 0,
   "metadata": {
    "colab": {},
    "colab_type": "code",
    "id": "RNzt_CZoPXqy"
   },
   "outputs": [],
   "source": [
    "# Define get_label function to change probability result into class\n",
    "def get_label(list_1):\n",
    "  list_2 = []\n",
    "  for i in list_1:\n",
    "    for j in i:\n",
    "      x = np.argmax(j)\n",
    "      if x == 0:\n",
    "        continue\n",
    "      else:\n",
    "        list_2.append(x)\n",
    "  return list_2"
   ]
  },
  {
   "cell_type": "code",
   "execution_count": 0,
   "metadata": {
    "colab": {
     "base_uri": "https://localhost:8080/",
     "height": 89
    },
    "colab_type": "code",
    "id": "tF7NLFyiPAdm",
    "outputId": "b5f9a636-005f-41e3-9007-dd47ce34c4da"
   },
   "outputs": [
    {
     "name": "stdout",
     "output_type": "stream",
     "text": [
      "Multi-layer LSTM Model:  703\n",
      "CNN-LSTM Model:  703\n",
      "Bi-directional GRU Model:  703\n",
      "Bi-directional LSTM Model:  703\n"
     ]
    }
   ],
   "source": [
    "# Check the length of label list\n",
    "label_test_pred_lstm = get_label(test_pred_lstm)\n",
    "label_test_pred_cnn_lstm = get_label(test_pred_cnn_lstm)\n",
    "label_test_pred_bi_gru = get_label(test_pred_bi_gru)\n",
    "label_test_pred_bi_lstm = get_label(test_pred_bi_lstm)\n",
    "print('Multi-layer LSTM Model: ', len(label_test_pred_lstm))\n",
    "print('CNN-LSTM Model: ', len(label_test_pred_cnn_lstm))\n",
    "print('Bi-directional GRU Model: ', len(label_test_pred_bi_gru))\n",
    "print('Bi-directional LSTM Model: ', len(label_test_pred_bi_lstm))"
   ]
  },
  {
   "cell_type": "code",
   "execution_count": 0,
   "metadata": {
    "colab": {
     "base_uri": "https://localhost:8080/",
     "height": 89
    },
    "colab_type": "code",
    "id": "8Enwvy91S2i1",
    "outputId": "86c2ae9b-9bae-4ec6-9f3c-ecf2f8175614"
   },
   "outputs": [
    {
     "name": "stdout",
     "output_type": "stream",
     "text": [
      "Test accuracy of Multi-layer LSTM Model:  0.6614509246088194\n",
      "Test accuracy of CNN-LSTM Model:  0.6529160739687055\n",
      "Test accuracy of Bi-directional GRU Model:  0.8975817923186344\n",
      "Test accuracy of Bi-directional LSTM Model:  0.9018492176386913\n"
     ]
    }
   ],
   "source": [
    "# Accuracy\n",
    "from sklearn.metrics import accuracy_score\n",
    "label_test_true = get_label(y_test)\n",
    "print('Test accuracy of Multi-layer LSTM Model: ', accuracy_score(label_test_pred_lstm, label_test_true))\n",
    "print('Test accuracy of CNN-LSTM Model: ', accuracy_score(label_test_pred_cnn_lstm, label_test_true))\n",
    "print('Test accuracy of Bi-directional GRU Model: ', accuracy_score(label_test_pred_bi_gru, label_test_true)) \n",
    "print('Test accuracy of Bi-directional LSTM Model: ', accuracy_score(label_test_pred_bi_lstm, label_test_true)) "
   ]
  },
  {
   "cell_type": "code",
   "execution_count": 0,
   "metadata": {
    "colab": {
     "base_uri": "https://localhost:8080/",
     "height": 1000
    },
    "colab_type": "code",
    "id": "XSWVRYLidBKU",
    "outputId": "c1d87175-d306-472a-f4e4-77df53539228"
   },
   "outputs": [
    {
     "name": "stdout",
     "output_type": "stream",
     "text": [
      "45\n",
      "                   precision    recall  f1-score   support\n",
      "\n",
      "     pour_cereals       0.85      0.92      0.88        12\n",
      "        pour_milk       0.83      0.93      0.88        57\n",
      "     stir_cereals       0.71      1.00      0.83         5\n",
      "        take_bowl       0.93      0.93      0.93        14\n",
      "      pour_coffee       0.83      1.00      0.91        10\n",
      "         take_cup       0.94      1.00      0.97        17\n",
      "      spoon_sugar       0.50      1.00      0.67         1\n",
      "      stir_coffee       1.00      1.00      1.00         2\n",
      "       pour_sugar       0.00      0.00      0.00         1\n",
      "         pour_oil       1.00      0.93      0.96        14\n",
      "        crack_egg       0.82      0.89      0.85        45\n",
      "  add_saltnpepper       0.75      0.90      0.82        20\n",
      "          fry_egg       0.87      0.91      0.89        22\n",
      "       take_plate       0.86      0.89      0.87        27\n",
      "    put_egg2plate       0.97      1.00      0.98        28\n",
      "        take_eggs       1.00      0.33      0.50         3\n",
      "       butter_pan       0.89      0.89      0.89        27\n",
      "       take_knife       1.00      0.57      0.73         7\n",
      "       cut_orange       1.00      1.00      1.00        13\n",
      "   squeeze_orange       1.00      1.00      1.00        16\n",
      "       pour_juice       1.00      0.93      0.97        15\n",
      "       take_glass       0.91      1.00      0.95        10\n",
      "    take_squeezer       1.00      1.00      1.00         2\n",
      "     spoon_powder       1.00      0.77      0.87        22\n",
      "        stir_milk       0.89      0.85      0.87        20\n",
      "      spoon_flour       0.92      0.75      0.83        16\n",
      "       stir_dough       1.00      1.00      1.00        22\n",
      "   pour_dough2pan       1.00      1.00      1.00        15\n",
      "      fry_pancake       1.00      1.00      1.00        16\n",
      "put_pancake2plate       1.00      1.00      1.00        12\n",
      "        cut_fruit       0.92      0.92      0.92        48\n",
      "   put_fruit2bowl       0.96      0.80      0.87        30\n",
      "       peel_fruit       0.91      0.83      0.87        24\n",
      "       stir_fruit       0.50      0.67      0.57         3\n",
      "          cut_bun       0.79      1.00      0.88        15\n",
      "     smear_butter       0.93      0.72      0.81        18\n",
      "     take_topping       1.00      1.00      1.00         3\n",
      " put_toppingOnTop       0.89      0.84      0.86        19\n",
      "  put_bunTogether       0.86      0.86      0.86         7\n",
      "      take_butter       1.00      1.00      1.00         1\n",
      "         stir_egg       1.00      0.75      0.86         8\n",
      "     pour_egg2pan       1.00      0.80      0.89         5\n",
      "      stirfry_egg       0.79      0.85      0.81        13\n",
      "       add_teabag       0.88      0.78      0.82         9\n",
      "       pour_water       0.90      1.00      0.95         9\n",
      "\n",
      "         accuracy                           0.90       703\n",
      "        macro avg       0.88      0.87      0.87       703\n",
      "     weighted avg       0.90      0.90      0.90       703\n",
      "\n"
     ]
    },
    {
     "name": "stderr",
     "output_type": "stream",
     "text": [
      "/usr/local/lib/python3.6/dist-packages/sklearn/metrics/_classification.py:1272: UndefinedMetricWarning: Precision and F-score are ill-defined and being set to 0.0 in labels with no predicted samples. Use `zero_division` parameter to control this behavior.\n",
      "  _warn_prf(average, modifier, msg_start, len(result))\n"
     ]
    }
   ],
   "source": [
    "file_class = pd.read_csv(\"/content/gdrive/My Drive/CS5242/splits/mapping_bf.txt\", sep = ' ', header = None, names = ['label','truth'])\n",
    "dict_class = file_class.set_index('label').T.to_dict('list')\n",
    "\n",
    "# Classification report of Bi-directional GRU Model\n",
    "from sklearn.metrics import classification_report\n",
    "class_names = file_class.truth.to_list()\n",
    "for i in list(set(list(range(0,48))).difference(set(label_test_true))):\n",
    "  if dict_class[i][0] in class_names:\n",
    "    class_names.remove(dict_class[i][0])\n",
    "print(classification_report(label_test_true, label_test_pred_bi_gru, target_names=class_names))"
   ]
  },
  {
   "cell_type": "code",
   "execution_count": 0,
   "metadata": {
    "colab": {
     "base_uri": "https://localhost:8080/",
     "height": 1000
    },
    "colab_type": "code",
    "id": "9uUT5ETjdEvC",
    "outputId": "18069c08-6eea-4f63-a8b8-4f1b53861b0f"
   },
   "outputs": [
    {
     "name": "stdout",
     "output_type": "stream",
     "text": [
      "                   precision    recall  f1-score   support\n",
      "\n",
      "     pour_cereals       0.75      1.00      0.86        12\n",
      "        pour_milk       0.89      0.84      0.86        57\n",
      "     stir_cereals       0.62      1.00      0.77         5\n",
      "        take_bowl       0.75      0.86      0.80        14\n",
      "      pour_coffee       0.91      1.00      0.95        10\n",
      "         take_cup       0.82      0.82      0.82        17\n",
      "      spoon_sugar       1.00      1.00      1.00         1\n",
      "      stir_coffee       1.00      1.00      1.00         2\n",
      "       pour_sugar       1.00      1.00      1.00         1\n",
      "         pour_oil       0.85      0.79      0.81        14\n",
      "        crack_egg       0.85      0.87      0.86        45\n",
      "  add_saltnpepper       0.80      0.80      0.80        20\n",
      "          fry_egg       0.88      1.00      0.94        22\n",
      "       take_plate       0.89      0.89      0.89        27\n",
      "    put_egg2plate       0.97      1.00      0.98        28\n",
      "        take_eggs       0.00      0.00      0.00         3\n",
      "       butter_pan       0.92      0.85      0.88        27\n",
      "       take_knife       1.00      0.57      0.73         7\n",
      "       cut_orange       1.00      1.00      1.00        13\n",
      "   squeeze_orange       1.00      1.00      1.00        16\n",
      "       pour_juice       1.00      1.00      1.00        15\n",
      "       take_glass       0.91      1.00      0.95        10\n",
      "    take_squeezer       1.00      1.00      1.00         2\n",
      "     spoon_powder       0.94      0.73      0.82        22\n",
      "        stir_milk       1.00      0.80      0.89        20\n",
      "      spoon_flour       0.88      0.94      0.91        16\n",
      "       stir_dough       1.00      0.95      0.98        22\n",
      "   pour_dough2pan       1.00      1.00      1.00        15\n",
      "      fry_pancake       1.00      1.00      1.00        16\n",
      "put_pancake2plate       1.00      1.00      1.00        12\n",
      "        cut_fruit       0.93      0.90      0.91        48\n",
      "   put_fruit2bowl       0.97      0.93      0.95        30\n",
      "       peel_fruit       0.88      0.88      0.88        24\n",
      "       stir_fruit       0.75      1.00      0.86         3\n",
      "          cut_bun       0.75      1.00      0.86        15\n",
      "     smear_butter       1.00      0.78      0.88        18\n",
      "     take_topping       1.00      1.00      1.00         3\n",
      " put_toppingOnTop       1.00      0.95      0.97        19\n",
      "  put_bunTogether       0.88      1.00      0.93         7\n",
      "      take_butter       1.00      1.00      1.00         1\n",
      "         stir_egg       0.88      0.88      0.88         8\n",
      "     pour_egg2pan       0.83      1.00      0.91         5\n",
      "      stirfry_egg       0.92      0.92      0.92        13\n",
      "       add_teabag       0.82      1.00      0.90         9\n",
      "       pour_water       0.75      1.00      0.86         9\n",
      "\n",
      "         accuracy                           0.90       703\n",
      "        macro avg       0.89      0.91      0.89       703\n",
      "     weighted avg       0.91      0.90      0.90       703\n",
      "\n"
     ]
    },
    {
     "name": "stderr",
     "output_type": "stream",
     "text": [
      "/usr/local/lib/python3.6/dist-packages/sklearn/metrics/_classification.py:1272: UndefinedMetricWarning: Precision and F-score are ill-defined and being set to 0.0 in labels with no predicted samples. Use `zero_division` parameter to control this behavior.\n",
      "  _warn_prf(average, modifier, msg_start, len(result))\n"
     ]
    }
   ],
   "source": [
    "# Classification report of Bi-directional LSTM Model\n",
    "print(classification_report(label_test_true, label_test_pred_bi_lstm, target_names=class_names))"
   ]
  },
  {
   "cell_type": "markdown",
   "metadata": {
    "colab_type": "text",
    "id": "d7G8tn2cc7Jq"
   },
   "source": [
    "## 6. Prediction of Testset and Kaggle Submission"
   ]
  },
  {
   "cell_type": "markdown",
   "metadata": {
    "colab_type": "text",
    "id": "NxEdm2Llkchv"
   },
   "source": [
    "###6.1 Re-build and train models"
   ]
  },
  {
   "cell_type": "code",
   "execution_count": 0,
   "metadata": {
    "colab": {},
    "colab_type": "code",
    "id": "3YtW7UNBhguM"
   },
   "outputs": [],
   "source": [
    "# Re-build two models and use the whole dataset to train\n",
    "# Build Bi-Directional GRU model \n",
    "seg_class = 48 \n",
    "bi_gru_model = Sequential()\n",
    "bi_gru_model.add(Bidirectional(GRU(1024, dropout=0.08, return_sequences=True), merge_mode='concat' ,input_shape= data_feat_pad[0].shape))\n",
    "bi_gru_model.add(Bidirectional(GRU(1024, dropout=0.08, return_sequences=True), merge_mode='concat')) \n",
    "bi_gru_model.add(TimeDistributed(Dense(seg_class, activation='softmax'))) \n",
    "bi_gru_model.compile(loss='categorical_crossentropy', optimizer='adam', metrics=['accuracy'])\n",
    "\n",
    "# Build Bi-Directional LSTM model \n",
    "bi_lstm_model = Sequential()\n",
    "bi_lstm_model.add(Bidirectional(LSTM(1024, dropout=0.08, return_sequences=True), merge_mode='sum', input_shape=data_feat_pad[0].shape)) \n",
    "bi_lstm_model.add(Bidirectional(LSTM(1024, dropout=0.08, return_sequences=True), merge_mode='sum'))\n",
    "bi_lstm_model.add(TimeDistributed(Dense(seg_class, activation='softmax')))\n",
    "bi_lstm_model.compile(loss='categorical_crossentropy', optimizer='adam', metrics=['accuracy'])"
   ]
  },
  {
   "cell_type": "code",
   "execution_count": 0,
   "metadata": {
    "colab": {
     "base_uri": "https://localhost:8080/",
     "height": 53
    },
    "colab_type": "code",
    "id": "EOkiaCZh25je",
    "outputId": "3d9716b8-0519-479a-a2ad-4eb69cc3dc8f"
   },
   "outputs": [
    {
     "name": "stderr",
     "output_type": "stream",
     "text": [
      "/usr/local/lib/python3.6/dist-packages/keras/callbacks/callbacks.py:998: UserWarning: `epsilon` argument is deprecated and will be removed, use `min_delta` instead.\n",
      "  warnings.warn('`epsilon` argument is deprecated and '\n"
     ]
    }
   ],
   "source": [
    "earlyStopping = EarlyStopping(monitor='loss', patience=10, verbose=0, mode='min')\n",
    "reduce_lr_loss = ReduceLROnPlateau(monitor='loss', factor=0.1, patience=7, verbose=1, epsilon=1e-4, mode='min')"
   ]
  },
  {
   "cell_type": "code",
   "execution_count": 0,
   "metadata": {
    "colab": {
     "base_uri": "https://localhost:8080/",
     "height": 125
    },
    "colab_type": "code",
    "id": "mCTkD4Iwh04q",
    "outputId": "eae39e7b-42dc-434c-b60b-01431de9fc65"
   },
   "outputs": [
    {
     "name": "stdout",
     "output_type": "stream",
     "text": [
      "\n",
      "Epoch 00127: ReduceLROnPlateau reducing learning rate to 0.00010000000474974513.\n",
      "\n",
      "Epoch 00137: ReduceLROnPlateau reducing learning rate to 1.0000000474974514e-05.\n",
      "\n",
      "Epoch 00144: ReduceLROnPlateau reducing learning rate to 1.0000000656873453e-06.\n"
     ]
    }
   ],
   "source": [
    "# Train two models and use earlystopping and learning rate adjustment to avoid overfitting\n",
    "history_bi_gru = bi_gru_model.fit(data_feat_pad, data_labels_pad, batch_size=400, epochs=150, verbose=0, shuffle=False, callbacks=[earlyStopping, reduce_lr_loss]) "
   ]
  },
  {
   "cell_type": "code",
   "execution_count": 0,
   "metadata": {
    "colab": {
     "base_uri": "https://localhost:8080/",
     "height": 536
    },
    "colab_type": "code",
    "id": "Db8ELe4v96pF",
    "outputId": "8ec22ac0-5228-4f29-8bf7-9040668c7ab8"
   },
   "outputs": [
    {
     "data": {
      "image/png": "[encoded data removed]",
      "text/plain": [
       "<Figure size 600x600 with 2 Axes>"
      ]
     },
     "metadata": {
      "needs_background": "light",
      "tags": []
     },
     "output_type": "display_data"
    }
   ],
   "source": [
    "# Plot train and valid loss history of Bi-directional GRU model\n",
    "loss_gru = history_bi_gru.history['loss']\n",
    "acc_gru = history_bi_gru.history['accuracy']\n",
    "\n",
    "epoch_number = range(len(acc_gru))\n",
    "plt.figure(figsize=(6, 6), dpi=100)\n",
    "plt.subplot(2,1,1)\n",
    "plt.plot(epoch_number, acc_gru, 'r', label='train acc')\n",
    "plt.title('Bi-directional GRU: Train Accuracy')\n",
    "plt.legend()\n",
    "plt.subplots_adjust(hspace=0.5)\n",
    "plt.subplot(2,1,2)\n",
    "plt.plot(epoch_number, loss_gru, 'r', label='train loss')\n",
    "plt.title('Bi-directional GRU: Train Loss')\n",
    "plt.legend()\n",
    "\n",
    "plt.show()"
   ]
  },
  {
   "cell_type": "code",
   "execution_count": 0,
   "metadata": {
    "colab": {
     "base_uri": "https://localhost:8080/",
     "height": 125
    },
    "colab_type": "code",
    "id": "Tr-_j2nLiHO1",
    "outputId": "a269b41d-8df0-4975-a6bc-2fe48d49afd9"
   },
   "outputs": [
    {
     "name": "stdout",
     "output_type": "stream",
     "text": [
      "\n",
      "Epoch 00127: ReduceLROnPlateau reducing learning rate to 0.00010000000474974513.\n",
      "\n",
      "Epoch 00137: ReduceLROnPlateau reducing learning rate to 1.0000000474974514e-05.\n",
      "\n",
      "Epoch 00144: ReduceLROnPlateau reducing learning rate to 1.0000000656873453e-06.\n"
     ]
    }
   ],
   "source": [
    "history_bi_lstm = bi_lstm_model.fit(data_feat_pad, data_labels_pad, batch_size=400, epochs=150, verbose=0, shuffle=False, callbacks=[earlyStopping, reduce_lr_loss]) "
   ]
  },
  {
   "cell_type": "code",
   "execution_count": 0,
   "metadata": {
    "colab": {
     "base_uri": "https://localhost:8080/",
     "height": 536
    },
    "colab_type": "code",
    "id": "iCKd_EzzidK9",
    "outputId": "fdf0d603-1171-45a8-cc96-da4f589bdac6"
   },
   "outputs": [
    {
     "data": {
      "image/png": "[encoded data removed]",
      "text/plain": [
       "<Figure size 600x600 with 2 Axes>"
      ]
     },
     "metadata": {
      "needs_background": "light",
      "tags": []
     },
     "output_type": "display_data"
    }
   ],
   "source": [
    "# Plot train and valid loss history of Bi-directional LSTM model\n",
    "loss_lstm = history_bi_lstm.history['loss']\n",
    "acc_lstm = history_bi_lstm.history['accuracy']\n",
    "\n",
    "epoch_number = range(len(acc_lstm))\n",
    "plt.figure(figsize=(6, 6), dpi=100)\n",
    "plt.subplot(2,1,1)\n",
    "plt.plot(epoch_number, acc_lstm, 'r', label='train acc')\n",
    "plt.title('Bi-directional LSTM: Train Accuracy')\n",
    "plt.legend()\n",
    "plt.subplots_adjust(hspace=0.5)\n",
    "plt.subplot(2,1,2)\n",
    "plt.plot(epoch_number, loss_lstm, 'r', label='train loss')\n",
    "plt.title('Bi-directional LSTM: Train Loss')\n",
    "plt.legend()\n",
    "\n",
    "plt.show()"
   ]
  },
  {
   "cell_type": "code",
   "execution_count": 0,
   "metadata": {
    "colab": {},
    "colab_type": "code",
    "id": "DCkvGPQVj1Rd"
   },
   "outputs": [],
   "source": [
    "# Sava Models\n",
    "lstm_model.save('best_bi_lstm.h5')\n",
    "bi_gru_model.save('best_bi_gru.h5')\n",
    "!cp best_bi_lstm.h5 \"/content/gdrive/My Drive/\"\n",
    "!cp best_bi_gru.h5 \"/content/gdrive/My Drive/\""
   ]
  },
  {
   "cell_type": "markdown",
   "metadata": {
    "colab_type": "text",
    "id": "65uBxG6hkkXQ"
   },
   "source": [
    "###6.2 Pre-processing of Testset"
   ]
  },
  {
   "cell_type": "code",
   "execution_count": 0,
   "metadata": {
    "colab": {
     "base_uri": "https://localhost:8080/",
     "height": 53
    },
    "colab_type": "code",
    "id": "B776Yakqjj-l",
    "outputId": "f112cc49-e36d-473f-afcf-227ba6464d33"
   },
   "outputs": [
    {
     "name": "stdout",
     "output_type": "stream",
     "text": [
      "[[30, 150, 428, 575, 705], [38, 199, 378, 775], [385, 599, 1382, 4007, 4123], [54, 229, 514, 754, 1024], [483, 548, 703, 853, 2633, 2960, 3310, 3740, 4110, 4200, 4375]]\n",
      "252\n"
     ]
    }
   ],
   "source": [
    "# Get test segments \n",
    "def data_seg(file_path):\n",
    "  data_segment_list = []\n",
    "  data_segments = [line.split('\\n') for line in file_path.readlines()]\n",
    "  \n",
    "  for i in range(len(data_segments)):\n",
    "    data_segment_list.append(data_segments[i][0])\n",
    "  \n",
    "  data_seg = [segment_line.split(' ') for segment_line in data_segment_list]\n",
    "  return data_seg\n",
    "\n",
    "file_test = open(\"/content/gdrive/My Drive/CS5242/test_segment.txt\", \"r\")\n",
    "test_seg = data_seg(file_test)\n",
    "\n",
    "test_seg_new = []\n",
    "for i in test_seg:\n",
    "  seg = []\n",
    "  for j in i:\n",
    "    seg.append(int(j))\n",
    "  test_seg_new.append(seg)\n",
    "  \n",
    "print(test_seg_new[0:5])\n",
    "print(len(test_seg_new))"
   ]
  },
  {
   "cell_type": "code",
   "execution_count": 0,
   "metadata": {
    "colab": {},
    "colab_type": "code",
    "id": "ap9zamIqC1lC"
   },
   "outputs": [],
   "source": [
    "# Test set feature extraction by Max Pooling\n",
    "data_feat_test_max = []\n",
    "for i in range(len(data_feat_test)):\n",
    "  list_data = get_maxpool_lstm_data(data_feat_test[i],test_seg_new[i])\n",
    "  data_feat_test_max.append(list_data)"
   ]
  },
  {
   "cell_type": "code",
   "execution_count": 0,
   "metadata": {
    "colab": {
     "base_uri": "https://localhost:8080/",
     "height": 35
    },
    "colab_type": "code",
    "id": "6Zi5kHbedOob",
    "outputId": "91088366-df62-4bd6-918c-3c0548c44eaa"
   },
   "outputs": [
    {
     "name": "stdout",
     "output_type": "stream",
     "text": [
      "The max number of test segments is:  16\n"
     ]
    }
   ],
   "source": [
    "# Find the max number of test segments in one video\n",
    "test_seg = []\n",
    "for k in data_feat_test_max:\n",
    "  test_seg.append(len(k))\n",
    "print('The max number of test segments is: ', max(test_seg))"
   ]
  },
  {
   "cell_type": "code",
   "execution_count": 0,
   "metadata": {
    "colab": {},
    "colab_type": "code",
    "id": "KpUwH_qswsRt"
   },
   "outputs": [],
   "source": [
    "# Padding\n",
    "data_feat_test_pad= sequence.pad_sequences(data_feat_test_max, maxlen=28, padding='post', truncating='post', value=0.0, dtype='float64')\n",
    "data_feat_test_pad = np.array(data_feat_test_pad)"
   ]
  },
  {
   "cell_type": "markdown",
   "metadata": {
    "colab_type": "text",
    "id": "FCLp6hqokxv1"
   },
   "source": [
    "###6.3 Prediction and submission"
   ]
  },
  {
   "cell_type": "code",
   "execution_count": 0,
   "metadata": {
    "colab": {},
    "colab_type": "code",
    "id": "9dfdXyarlRUb"
   },
   "outputs": [],
   "source": [
    "# Prediction\n",
    "test_pred_bi_gru = bi_gru_model.predict(data_feat_test_pad)\n",
    "test_pred_bi_lstm = bi_lstm_model.predict(data_feat_test_pad)\n",
    "\n",
    "# Ensemble Model\n",
    "test_ensemble = test_pred_bi_gru + test_pred_bi_lstm"
   ]
  },
  {
   "cell_type": "code",
   "execution_count": 0,
   "metadata": {
    "colab": {
     "base_uri": "https://localhost:8080/",
     "height": 53
    },
    "colab_type": "code",
    "id": "tDcHAIVLw8TW",
    "outputId": "dc4ab654-319b-40ef-bbb6-dc15b8a10cb5"
   },
   "outputs": [
    {
     "name": "stdout",
     "output_type": "stream",
     "text": [
      "Bi-directional GRU Model:  1284\n",
      "Bi-directional LSTM Model:  1284\n"
     ]
    }
   ],
   "source": [
    "# Check the length of predicted labels\n",
    "label_test_pred_bi_gru = get_label(test_pred_bi_gru)\n",
    "label_test_pred_bi_lstm = get_label(test_pred_bi_lstm)\n",
    "\n",
    "print('Bi-directional GRU Model: ', len(label_test_pred_bi_gru))\n",
    "print('Bi-directional LSTM Model: ', len(label_test_pred_bi_lstm))\n",
    "\n",
    "label_test_pred_ensemble = get_label(test_ensemble)"
   ]
  },
  {
   "cell_type": "code",
   "execution_count": 0,
   "metadata": {
    "colab": {
     "base_uri": "https://localhost:8080/",
     "height": 408
    },
    "colab_type": "code",
    "id": "EWuTF36FlRmS",
    "outputId": "9fcd8be1-9487-4baf-d3e5-cd51ffd64fca"
   },
   "outputs": [
    {
     "data": {
      "text/html": [
       "<div>\n",
       "<style scoped>\n",
       "    .dataframe tbody tr th:only-of-type {\n",
       "        vertical-align: middle;\n",
       "    }\n",
       "\n",
       "    .dataframe tbody tr th {\n",
       "        vertical-align: top;\n",
       "    }\n",
       "\n",
       "    .dataframe thead th {\n",
       "        text-align: right;\n",
       "    }\n",
       "</style>\n",
       "<table border=\"1\" class=\"dataframe\">\n",
       "  <thead>\n",
       "    <tr style=\"text-align: right;\">\n",
       "      <th></th>\n",
       "      <th>Id</th>\n",
       "      <th>Category</th>\n",
       "    </tr>\n",
       "  </thead>\n",
       "  <tbody>\n",
       "    <tr>\n",
       "      <th>0</th>\n",
       "      <td>0</td>\n",
       "      <td>4</td>\n",
       "    </tr>\n",
       "    <tr>\n",
       "      <th>1</th>\n",
       "      <td>1</td>\n",
       "      <td>1</td>\n",
       "    </tr>\n",
       "    <tr>\n",
       "      <th>2</th>\n",
       "      <td>2</td>\n",
       "      <td>2</td>\n",
       "    </tr>\n",
       "    <tr>\n",
       "      <th>3</th>\n",
       "      <td>3</td>\n",
       "      <td>3</td>\n",
       "    </tr>\n",
       "    <tr>\n",
       "      <th>4</th>\n",
       "      <td>4</td>\n",
       "      <td>6</td>\n",
       "    </tr>\n",
       "    <tr>\n",
       "      <th>...</th>\n",
       "      <td>...</td>\n",
       "      <td>...</td>\n",
       "    </tr>\n",
       "    <tr>\n",
       "      <th>1279</th>\n",
       "      <td>1279</td>\n",
       "      <td>44</td>\n",
       "    </tr>\n",
       "    <tr>\n",
       "      <th>1280</th>\n",
       "      <td>1280</td>\n",
       "      <td>14</td>\n",
       "    </tr>\n",
       "    <tr>\n",
       "      <th>1281</th>\n",
       "      <td>1281</td>\n",
       "      <td>15</td>\n",
       "    </tr>\n",
       "    <tr>\n",
       "      <th>1282</th>\n",
       "      <td>1282</td>\n",
       "      <td>45</td>\n",
       "    </tr>\n",
       "    <tr>\n",
       "      <th>1283</th>\n",
       "      <td>1283</td>\n",
       "      <td>46</td>\n",
       "    </tr>\n",
       "  </tbody>\n",
       "</table>\n",
       "<p>1284 rows × 2 columns</p>\n",
       "</div>"
      ],
      "text/plain": [
       "        Id  Category\n",
       "0        0         4\n",
       "1        1         1\n",
       "2        2         2\n",
       "3        3         3\n",
       "4        4         6\n",
       "...    ...       ...\n",
       "1279  1279        44\n",
       "1280  1280        14\n",
       "1281  1281        15\n",
       "1282  1282        45\n",
       "1283  1283        46\n",
       "\n",
       "[1284 rows x 2 columns]"
      ]
     },
     "execution_count": 73,
     "metadata": {
      "tags": []
     },
     "output_type": "execute_result"
    }
   ],
   "source": [
    "# Covert predicted labels to csv\n",
    "test_csv = pd.DataFrame(columns=['Category'])\n",
    "test_csv['Category'] = label_test_pred_ensemble\n",
    "test_csv = test_csv.rename_axis('Id').reset_index()\n",
    "test_csv"
   ]
  },
  {
   "cell_type": "code",
   "execution_count": 0,
   "metadata": {
    "colab": {
     "base_uri": "https://localhost:8080/",
     "height": 35
    },
    "colab_type": "code",
    "id": "8Mo29obNyTm5",
    "outputId": "8f00bdd2-b0ca-42a5-c588-a4169bf74f4e"
   },
   "outputs": [
    {
     "name": "stdout",
     "output_type": "stream",
     "text": [
      "Drive already mounted at /content/gdrive/; to attempt to forcibly remount, call drive.mount(\"/content/gdrive/\", force_remount=True).\n"
     ]
    }
   ],
   "source": [
    "from google.colab import drive\n",
    "drive.mount('/content/gdrive/')\n",
    "test_csv.to_csv('cs5242_GP_test_ensemble.csv', index=False)\n",
    "!cp cs5242_GP_test_ensemble.csv \"/content/gdrive/My Drive/\""
   ]
  },
  {
   "cell_type": "markdown",
   "metadata": {
    "colab_type": "text",
    "id": "gmD7_XKr95pG"
   },
   "source": [
    "### References:\n",
    "[1] five-video-classification-methods:\n",
    "\n",
    "github: https://github.com/harvitronix/five-video-classification-methods\n",
    "\n",
    "blog: https://blog.coast.ai/five-video-classification-methods-implemented-in-keras-and-tensorflow-99cad29cc0b5\n",
    "\n",
    "[2] When can Validation Accuracy be greater than Training Accuracy for Deep Learning Models?\n",
    "\n",
    "https://www.researchgate.net/post/When_can_Validation_Accuracy_be_greater_than_Training_Accuracy_for_Deep_Learning_Models"
   ]
  }
 ],
 "metadata": {
  "colab": {
   "collapsed_sections": [],
   "machine_shape": "hm",
   "name": "Final_Notebook.ipynb",
   "provenance": []
  },
  "kernelspec": {
   "display_name": "Python 3",
   "language": "python",
   "name": "python3"
  },
  "language_info": {
   "codemirror_mode": {
    "name": "ipython",
    "version": 3
   },
   "file_extension": ".py",
   "mimetype": "text/x-python",
   "name": "python",
   "nbconvert_exporter": "python",
   "pygments_lexer": "ipython3",
   "version": "3.7.3"
  }
 },
 "nbformat": 4,
 "nbformat_minor": 1
}
